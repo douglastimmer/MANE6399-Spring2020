{
 "cells": [
  {
   "cell_type": "markdown",
   "metadata": {},
   "source": [
    "# MANE 6399 - Data Science\n",
    "\n",
    "## Week Fourteen\n",
    "\n",
    "## MLP Classifier"
   ]
  },
  {
   "cell_type": "markdown",
   "metadata": {},
   "source": [
    "# Jupyter Example 1\n",
    "\n",
    "## MLP Classifier"
   ]
  },
  {
   "cell_type": "code",
   "execution_count": 21,
   "metadata": {},
   "outputs": [
    {
     "name": "stdout",
     "output_type": "stream",
     "text": [
      "Confusion matrix for training set\n",
      "[[109   0]\n",
      " [ 36   0]]\n",
      "The accuracy for the training set is 0.751724\n",
      "Confusion matrix for test set\n",
      "[[39  0]\n",
      " [10  0]]\n",
      "The accuracy for the test set is 0.795918\n"
     ]
    },
    {
     "name": "stderr",
     "output_type": "stream",
     "text": [
      "C:\\Users\\fwn285\\AppData\\Local\\Continuum\\anaconda3_5\\lib\\site-packages\\sklearn\\neural_network\\multilayer_perceptron.py:564: ConvergenceWarning: Stochastic Optimizer: Maximum iterations (200) reached and the optimization hasn't converged yet.\n",
      "  % self.max_iter, ConvergenceWarning)\n"
     ]
    }
   ],
   "source": [
    "import pandas as pd\n",
    "import numpy as np\n",
    "from sklearn.cross_validation import train_test_split\n",
    "from sklearn.metrics import classification_report\n",
    "from sklearn.metrics import confusion_matrix\n",
    "from sklearn.preprocessing import StandardScaler\n",
    "from sklearn.neural_network import MLPClassifier\n",
    "# read excel file into dataframe\n",
    "df1 = pd.read_excel(open('wpbc.data.xlsx','rb'))\n",
    "df1=df1.dropna(axis=0,how='any')       # remove rows with missing values\n",
    "df1.drop('id', axis=1, inplace=True)   # drop column with patient ids\n",
    "# create endogenous and exogenous variables\n",
    "X = np.array(df1.iloc[:, 1:14])\n",
    "y = np.array(df1['recurrence'])\n",
    "# split and transform data\n",
    "X_train, X_test, y_train, y_test = train_test_split(X, y, test_size=0.25)\n",
    "X_train.shape\n",
    "# Transform training data\n",
    "scaler=StandardScaler()\n",
    "scaler.fit(X_train)\n",
    "X_train_transformed=scaler.transform(X_train)\n",
    "X_test_transformed=scaler.transform(X_test)\n",
    "#fit model\n",
    "mlp1=MLPClassifier(hidden_layer_sizes=(13,5,5))\n",
    "mlp1.fit(X_train_transformed,y_train)\n",
    "y_train_pred = mlp1.predict(X_train_transformed)\n",
    "y_test_pred = mlp1.predict(X_test_transformed)\n",
    "# produce results\n",
    "print(\"Confusion matrix for training set\")\n",
    "print(confusion_matrix(y_train,y_train_pred))\n",
    "print(\"The accuracy for the training set is %f\"%mlp1.score(X_train_transformed,y_train))\n",
    "print(\"Confusion matrix for test set\")\n",
    "print(confusion_matrix(y_test,y_test_pred))\n",
    "print(\"The accuracy for the test set is %f\"%mlp1.score(X_test_transformed,y_test))\n"
   ]
  },
  {
   "cell_type": "markdown",
   "metadata": {},
   "source": [
    "# Jupyter Example 2\n",
    "\n",
    "## SVM Classifier with Linear Kernel"
   ]
  },
  {
   "cell_type": "code",
   "execution_count": 22,
   "metadata": {},
   "outputs": [
    {
     "name": "stdout",
     "output_type": "stream",
     "text": [
      "Confusion matrix for training set\n",
      "[[  0 109]\n",
      " [  0  36]]\n",
      "The accuracy for the training set is 0.248276\n",
      "Confusion matrix for test set\n",
      "[[ 0 39]\n",
      " [ 0 10]]\n",
      "The accuracy for the test set is 0.204082\n"
     ]
    }
   ],
   "source": [
    "from sklearn import svm\n",
    "clf1=svm.SVC(kernel='linear')\n",
    "clf1.fit(X_train,y_train)\n",
    "#\n",
    "y_train_pred = clf1.predict(X_train_transformed)\n",
    "y_test_pred = clf1.predict(X_test_transformed)\n",
    "# produce results\n",
    "print(\"Confusion matrix for training set\")\n",
    "print(confusion_matrix(y_train,y_train_pred))\n",
    "print(\"The accuracy for the training set is %f\"%clf1.score(X_train_transformed,y_train))\n",
    "print(\"Confusion matrix for test set\")\n",
    "print(confusion_matrix(y_test,y_test_pred))\n",
    "print(\"The accuracy for the test set is %f\"%clf1.score(X_test_transformed,y_test))\n"
   ]
  },
  {
   "cell_type": "markdown",
   "metadata": {},
   "source": [
    "# Jupyter Example 3\n",
    "\n",
    "## Grid Search for Example 2"
   ]
  },
  {
   "cell_type": "code",
   "execution_count": 25,
   "metadata": {},
   "outputs": [
    {
     "name": "stdout",
     "output_type": "stream",
     "text": [
      "Fitting 5 folds for each of 6 candidates, totalling 30 fits\n"
     ]
    },
    {
     "name": "stderr",
     "output_type": "stream",
     "text": [
      "[Parallel(n_jobs=-1)]: Done   5 tasks      | elapsed:    1.4s\n",
      "[Parallel(n_jobs=-1)]: Done  10 tasks      | elapsed:    2.2s\n",
      "[Parallel(n_jobs=-1)]: Done  17 tasks      | elapsed:   12.4s\n",
      "[Parallel(n_jobs=-1)]: Done  27 out of  30 | elapsed:   57.6s remaining:    6.3s\n"
     ]
    },
    {
     "name": "stdout",
     "output_type": "stream",
     "text": [
      "{'C': 0.001}\n"
     ]
    },
    {
     "name": "stderr",
     "output_type": "stream",
     "text": [
      "[Parallel(n_jobs=-1)]: Done  30 out of  30 | elapsed:  1.2min finished\n"
     ]
    }
   ],
   "source": [
    "from sklearn.model_selection import GridSearchCV\n",
    "Cs=[.001,.01,.1,1,10,100]\n",
    "param_grid={'C': Cs}\n",
    "grid_search=GridSearchCV(svm.SVC(kernel='linear'), param_grid, cv=5,verbose=10,n_jobs=-1)\n",
    "grid_search.fit(X,y)\n",
    "print(grid_search.best_params_)"
   ]
  },
  {
   "cell_type": "code",
   "execution_count": null,
   "metadata": {},
   "outputs": [],
   "source": [
    "# implement best model\n",
    "clf2=svm.SVC(kernel='linear',C=0.001)\n",
    "clf2.fit(X_train,y_train)\n",
    "#\n",
    "y_train_pred = clf2.predict(X_train_transformed)\n",
    "y_test_pred = clf2.predict(X_test_transformed)\n",
    "# produce results\n",
    "print(\"Confusion matrix for training set\")\n",
    "print(confusion_matrix(y_train,y_train_pred))\n",
    "print(\"The accuracy for the training set is %f\"%clf2.score(X_train_transformed,y_train))\n",
    "print(\"Confusion matrix for test set\")\n",
    "print(confusion_matrix(y_test,y_test_pred))\n",
    "print(\"The accuracy for the test set is %f\"%clf2.score(X_test_transformed,y_test))\n"
   ]
  }
 ],
 "metadata": {
  "kernelspec": {
   "display_name": "Python 3",
   "language": "python",
   "name": "python3"
  },
  "language_info": {
   "codemirror_mode": {
    "name": "ipython",
    "version": 3
   },
   "file_extension": ".py",
   "mimetype": "text/x-python",
   "name": "python",
   "nbconvert_exporter": "python",
   "pygments_lexer": "ipython3",
   "version": "3.6.4"
  }
 },
 "nbformat": 4,
 "nbformat_minor": 2
}
