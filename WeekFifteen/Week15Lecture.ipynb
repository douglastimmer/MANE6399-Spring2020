{
 "cells": [
  {
   "cell_type": "markdown",
   "metadata": {},
   "source": [
    "# MANE 6399 - Data Science\n",
    "\n",
    "## Week Fifteen\n",
    "\n",
    "## MLP Classifier"
   ]
  },
  {
   "cell_type": "markdown",
   "metadata": {},
   "source": [
    "# Jupyter Example 1\n",
    "\n",
    "## MLP Classifier"
   ]
  },
  {
   "cell_type": "code",
   "execution_count": 2,
   "metadata": {},
   "outputs": [
    {
     "name": "stdout",
     "output_type": "stream",
     "text": [
      "    outcome  time  radius  texture  perimeter    area  smoothness  \\\n",
      "0         N    31   18.02    27.60     117.50  1013.0     0.09489   \n",
      "1         N    61   17.99    10.38     122.80  1001.0     0.11840   \n",
      "2         N   116   21.37    17.44     137.50  1373.0     0.08836   \n",
      "3         N   123   11.42    20.38      77.58   386.1     0.14250   \n",
      "4         R    27   20.29    14.34     135.10  1297.0     0.10030   \n",
      "..      ...   ...     ...      ...        ...     ...         ...   \n",
      "189       N     3   14.72    25.26      99.28   657.5     0.11740   \n",
      "190       N    10   22.52    21.92     146.90  1597.0     0.07592   \n",
      "191       N     8   15.44    31.18     101.00   740.4     0.09399   \n",
      "192       N    12   17.17    29.19     110.00   915.3     0.08952   \n",
      "193       N     6   16.70    28.13     110.30   885.4     0.08896   \n",
      "\n",
      "     compactness  concavity  concavePoints  symmetry  fractal  tumorSize  \\\n",
      "0        0.10360    0.10860        0.07055    0.1865  0.06333        5.0   \n",
      "1        0.27760    0.30010        0.14710    0.2419  0.07871        3.0   \n",
      "2        0.11890    0.12550        0.08180    0.2333  0.06010        2.5   \n",
      "3        0.28390    0.24140        0.10520    0.2597  0.09744        2.0   \n",
      "4        0.13280    0.19800        0.10430    0.1809  0.05883        3.5   \n",
      "..           ...        ...            ...       ...      ...        ...   \n",
      "189      0.21120    0.17290        0.09465    0.2079  0.07496        1.7   \n",
      "190      0.09162    0.06862        0.06367    0.1728  0.05262        6.0   \n",
      "191      0.10620    0.13750        0.06500    0.1735  0.06105        1.5   \n",
      "192      0.06655    0.06583        0.05068    0.1793  0.05392        3.7   \n",
      "193      0.11310    0.10120        0.04989    0.1890  0.06035        3.5   \n",
      "\n",
      "     LymphStatus  recurrence  \n",
      "0              5           0  \n",
      "1              2           0  \n",
      "2              0           0  \n",
      "3              0           0  \n",
      "4              0           1  \n",
      "..           ...         ...  \n",
      "189           21           0  \n",
      "190            2           0  \n",
      "191            0           0  \n",
      "192            0           0  \n",
      "193            0           0  \n",
      "\n",
      "[194 rows x 15 columns]\n",
      "[[3.100e+01 1.802e+01 2.760e+01 ... 6.333e-02 5.000e+00 5.000e+00]\n",
      " [6.100e+01 1.799e+01 1.038e+01 ... 7.871e-02 3.000e+00 2.000e+00]\n",
      " [1.160e+02 2.137e+01 1.744e+01 ... 6.010e-02 2.500e+00 0.000e+00]\n",
      " ...\n",
      " [8.000e+00 1.544e+01 3.118e+01 ... 6.105e-02 1.500e+00 0.000e+00]\n",
      " [1.200e+01 1.717e+01 2.919e+01 ... 5.392e-02 3.700e+00 0.000e+00]\n",
      " [6.000e+00 1.670e+01 2.813e+01 ... 6.035e-02 3.500e+00 0.000e+00]]\n",
      "Confusion matrix for training set\n",
      "[[108   3]\n",
      " [ 24  10]]\n",
      "The accuracy for the training set is 0.813793\n",
      "Confusion matrix for test set\n",
      "[[36  1]\n",
      " [10  2]]\n",
      "The accuracy for the test set is 0.775510\n"
     ]
    },
    {
     "name": "stderr",
     "output_type": "stream",
     "text": [
      "C:\\Users\\fwn285\\AppData\\Local\\Continuum\\anaconda3\\envs\\env_iise\\lib\\site-packages\\sklearn\\neural_network\\_multilayer_perceptron.py:571: ConvergenceWarning: Stochastic Optimizer: Maximum iterations (200) reached and the optimization hasn't converged yet.\n",
      "  % self.max_iter, ConvergenceWarning)\n"
     ]
    }
   ],
   "source": [
    "import pandas as pd\n",
    "import numpy as np\n",
    "from sklearn.model_selection import train_test_split\n",
    "from sklearn.metrics import classification_report\n",
    "from sklearn.metrics import confusion_matrix\n",
    "from sklearn.preprocessing import StandardScaler\n",
    "from sklearn.neural_network import MLPClassifier\n",
    "# read excel file into dataframe\n",
    "df1 = pd.read_excel(open('wpbc.data.xlsx','rb'))\n",
    "df1=df1.dropna(axis=0,how='any')       # remove rows with missing values\n",
    "df1.drop('id', axis=1, inplace=True)   # drop column with patient ids\n",
    "print(df1)\n",
    "# create endogenous and exogenous variables\n",
    "X = np.array(df1.iloc[:, 1:14])\n",
    "print(X)\n",
    "y = np.array(df1['recurrence'])\n",
    "# split and transform data\n",
    "X_train, X_test, y_train, y_test = train_test_split(X, y, test_size=0.25)\n",
    "X_train.shape\n",
    "# Transform training data\n",
    "scaler=StandardScaler()\n",
    "scaler.fit(X_train)\n",
    "X_train_transformed=scaler.transform(X_train)\n",
    "X_test_transformed=scaler.transform(X_test)\n",
    "#fit model\n",
    "mlp1=MLPClassifier(hidden_layer_sizes=(13,5,5))\n",
    "mlp1.fit(X_train_transformed,y_train)\n",
    "y_train_pred = mlp1.predict(X_train_transformed)\n",
    "y_test_pred = mlp1.predict(X_test_transformed)\n",
    "# produce results\n",
    "print(\"Confusion matrix for training set\")\n",
    "print(confusion_matrix(y_train,y_train_pred))\n",
    "print(\"The accuracy for the training set is %f\"%mlp1.score(X_train_transformed,y_train))\n",
    "print(\"Confusion matrix for test set\")\n",
    "print(confusion_matrix(y_test,y_test_pred))\n",
    "print(\"The accuracy for the test set is %f\"%mlp1.score(X_test_transformed,y_test))\n"
   ]
  },
  {
   "cell_type": "markdown",
   "metadata": {},
   "source": [
    "# Jupyter Example 2\n",
    "\n",
    "## SVM Classifier with Linear Kernel"
   ]
  },
  {
   "cell_type": "code",
   "execution_count": 4,
   "metadata": {},
   "outputs": [
    {
     "name": "stdout",
     "output_type": "stream",
     "text": [
      "Confusion matrix for training set\n",
      "[[  0 106]\n",
      " [  0  39]]\n",
      "The accuracy for the training set is 0.268966\n",
      "Confusion matrix for test set\n",
      "[[ 0 42]\n",
      " [ 0  7]]\n",
      "The accuracy for the test set is 0.142857\n"
     ]
    }
   ],
   "source": [
    "from sklearn import svm\n",
    "clf1=svm.SVC(kernel='linear')\n",
    "clf1.fit(X_train,y_train)\n",
    "#\n",
    "y_train_pred = clf1.predict(X_train_transformed)\n",
    "y_test_pred = clf1.predict(X_test_transformed)\n",
    "# produce results\n",
    "print(\"Confusion matrix for training set\")\n",
    "print(confusion_matrix(y_train,y_train_pred))\n",
    "print(\"The accuracy for the training set is %f\"%clf1.score(X_train_transformed,y_train))\n",
    "print(\"Confusion matrix for test set\")\n",
    "print(confusion_matrix(y_test,y_test_pred))\n",
    "print(\"The accuracy for the test set is %f\"%clf1.score(X_test_transformed,y_test))\n"
   ]
  },
  {
   "cell_type": "markdown",
   "metadata": {},
   "source": [
    "# Jupyter Example 3\n",
    "\n",
    "## Grid Search for Example 2"
   ]
  },
  {
   "cell_type": "code",
   "execution_count": 5,
   "metadata": {},
   "outputs": [
    {
     "name": "stdout",
     "output_type": "stream",
     "text": [
      "Fitting 5 folds for each of 6 candidates, totalling 30 fits\n"
     ]
    },
    {
     "name": "stderr",
     "output_type": "stream",
     "text": [
      "[Parallel(n_jobs=-1)]: Using backend LokyBackend with 4 concurrent workers.\n",
      "[Parallel(n_jobs=-1)]: Done   5 tasks      | elapsed:    2.0s\n",
      "[Parallel(n_jobs=-1)]: Done  10 tasks      | elapsed:    2.5s\n",
      "[Parallel(n_jobs=-1)]: Done  17 tasks      | elapsed:    9.1s\n",
      "[Parallel(n_jobs=-1)]: Done  27 out of  30 | elapsed:  1.4min remaining:    8.9s\n"
     ]
    },
    {
     "name": "stdout",
     "output_type": "stream",
     "text": [
      "{'C': 0.001}\n"
     ]
    },
    {
     "name": "stderr",
     "output_type": "stream",
     "text": [
      "[Parallel(n_jobs=-1)]: Done  30 out of  30 | elapsed:  1.7min finished\n"
     ]
    }
   ],
   "source": [
    "from sklearn.model_selection import GridSearchCV\n",
    "Cs=[.001,.01,.1,1,10,100]\n",
    "param_grid={'C': Cs}\n",
    "grid_search=GridSearchCV(svm.SVC(kernel='linear'), param_grid, cv=5,verbose=10,n_jobs=-1)\n",
    "grid_search.fit(X,y)\n",
    "print(grid_search.best_params_)"
   ]
  },
  {
   "cell_type": "code",
   "execution_count": 6,
   "metadata": {},
   "outputs": [
    {
     "name": "stdout",
     "output_type": "stream",
     "text": [
      "Confusion matrix for training set\n",
      "[[  0 106]\n",
      " [  0  39]]\n",
      "The accuracy for the training set is 0.268966\n",
      "Confusion matrix for test set\n",
      "[[ 0 42]\n",
      " [ 0  7]]\n",
      "The accuracy for the test set is 0.142857\n"
     ]
    }
   ],
   "source": [
    "# implement best model\n",
    "clf2=svm.SVC(kernel='linear',C=0.001)\n",
    "clf2.fit(X_train,y_train)\n",
    "#\n",
    "y_train_pred = clf2.predict(X_train_transformed)\n",
    "y_test_pred = clf2.predict(X_test_transformed)\n",
    "# produce results\n",
    "print(\"Confusion matrix for training set\")\n",
    "print(confusion_matrix(y_train,y_train_pred))\n",
    "print(\"The accuracy for the training set is %f\"%clf2.score(X_train_transformed,y_train))\n",
    "print(\"Confusion matrix for test set\")\n",
    "print(confusion_matrix(y_test,y_test_pred))\n",
    "print(\"The accuracy for the test set is %f\"%clf2.score(X_test_transformed,y_test))\n"
   ]
  },
  {
   "cell_type": "markdown",
   "metadata": {},
   "source": [
    "# Jupyter Example 4\n",
    "\n",
    "# More Sophisticated Grid Search"
   ]
  },
  {
   "cell_type": "code",
   "execution_count": 7,
   "metadata": {},
   "outputs": [
    {
     "name": "stdout",
     "output_type": "stream",
     "text": [
      "{'C': 0.001, 'gamma': 0.0001, 'kernel': 'linear'}\n"
     ]
    }
   ],
   "source": [
    "Cs=[.001,.01,.1,1,10,100]\n",
    "gammas=[.0001, .001, .01,.1,1.]\n",
    "param_grid={'kernel':('linear','rbf'), 'C': Cs, 'gamma': gammas}\n",
    "grid_search2=GridSearchCV(svm.SVC(),param_grid,cv=5,n_jobs=-1)\n",
    "grid_search2.fit(X,y)\n",
    "print(grid_search2.best_params_)"
   ]
  },
  {
   "cell_type": "code",
   "execution_count": 8,
   "metadata": {},
   "outputs": [
    {
     "name": "stdout",
     "output_type": "stream",
     "text": [
      "Confusion matrix for training set\n",
      "[[  0 106]\n",
      " [  0  39]]\n",
      "The accuracy for the training set is 0.268966\n",
      "Confusion matrix for test set\n",
      "[[ 0 42]\n",
      " [ 0  7]]\n",
      "The accuracy for the test set is 0.142857\n"
     ]
    }
   ],
   "source": [
    "# implement best model\n",
    "clf3=svm.SVC(kernel='linear',C=0.001,gamma=.0001)\n",
    "clf3.fit(X_train,y_train)\n",
    "#\n",
    "y_train_pred = clf3.predict(X_train_transformed)\n",
    "y_test_pred = clf3.predict(X_test_transformed)\n",
    "# produce results\n",
    "print(\"Confusion matrix for training set\")\n",
    "print(confusion_matrix(y_train,y_train_pred))\n",
    "print(\"The accuracy for the training set is %f\"%clf3.score(X_train_transformed,y_train))\n",
    "print(\"Confusion matrix for test set\")\n",
    "print(confusion_matrix(y_test,y_test_pred))\n",
    "print(\"The accuracy for the test set is %f\"%clf3.score(X_test_transformed,y_test))\n"
   ]
  },
  {
   "cell_type": "code",
   "execution_count": null,
   "metadata": {},
   "outputs": [],
   "source": []
  }
 ],
 "metadata": {
  "kernelspec": {
   "display_name": "Python 3",
   "language": "python",
   "name": "python3"
  },
  "language_info": {
   "codemirror_mode": {
    "name": "ipython",
    "version": 3
   },
   "file_extension": ".py",
   "mimetype": "text/x-python",
   "name": "python",
   "nbconvert_exporter": "python",
   "pygments_lexer": "ipython3",
   "version": "3.6.8"
  }
 },
 "nbformat": 4,
 "nbformat_minor": 2
}
