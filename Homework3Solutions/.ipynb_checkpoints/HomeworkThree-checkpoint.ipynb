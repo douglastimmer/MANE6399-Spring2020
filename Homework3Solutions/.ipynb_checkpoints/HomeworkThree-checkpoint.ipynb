{
 "cells": [
  {
   "cell_type": "markdown",
   "metadata": {},
   "source": [
    "# MANE 6399\n",
    "## Homework 3\n",
    "### Solutions"
   ]
  },
  {
   "cell_type": "code",
   "execution_count": 35,
   "metadata": {},
   "outputs": [
    {
     "data": {
      "text/html": [
       "<h2> Cell 2 - Python Code for Linear Regression"
      ],
      "text/plain": [
       "<IPython.core.display.HTML object>"
      ]
     },
     "metadata": {},
     "output_type": "display_data"
    },
    {
     "name": "stdout",
     "output_type": "stream",
     "text": [
      "   Id  MSSubClass MSZoning  LotFrontage  LotArea Street Alley LotShape  \\\n",
      "0   1          60       RL         65.0     8450   Pave   NaN      Reg   \n",
      "1   2          20       RL         80.0     9600   Pave   NaN      Reg   \n",
      "2   3          60       RL         68.0    11250   Pave   NaN      IR1   \n",
      "3   4          70       RL         60.0     9550   Pave   NaN      IR1   \n",
      "4   5          60       RL         84.0    14260   Pave   NaN      IR1   \n",
      "\n",
      "  LandContour Utilities  ... PoolArea PoolQC Fence MiscFeature MiscVal MoSold  \\\n",
      "0         Lvl    AllPub  ...        0    NaN   NaN         NaN       0      2   \n",
      "1         Lvl    AllPub  ...        0    NaN   NaN         NaN       0      5   \n",
      "2         Lvl    AllPub  ...        0    NaN   NaN         NaN       0      9   \n",
      "3         Lvl    AllPub  ...        0    NaN   NaN         NaN       0      2   \n",
      "4         Lvl    AllPub  ...        0    NaN   NaN         NaN       0     12   \n",
      "\n",
      "  YrSold  SaleType  SaleCondition  SalePrice  \n",
      "0   2008        WD         Normal     208500  \n",
      "1   2007        WD         Normal     181500  \n",
      "2   2008        WD         Normal     223500  \n",
      "3   2006        WD        Abnorml     140000  \n",
      "4   2008        WD         Normal     250000  \n",
      "\n",
      "[5 rows x 81 columns]\n"
     ]
    },
    {
     "data": {
      "image/png": "[encoded data removed]",
      "text/plain": [
       "<Figure size 432x288 with 1 Axes>"
      ]
     },
     "metadata": {
      "needs_background": "light"
     },
     "output_type": "display_data"
    }
   ],
   "source": [
    "# Cell 2\n",
    "from IPython.display import display, Math, Latex, HTML\n",
    "import pandas as pd\n",
    "import matplotlib.pyplot as plt\n",
    "#\n",
    "display(HTML(\"<h2> Cell 2 - Python Code for Linear Regression\"))\n",
    "data_set = pd.read_csv(\"./train.csv\")\n",
    "print(data_set.head())\n",
    "data_set.shape\n",
    "data_set.describe()\n",
    "X=data_set[\"GrLivArea\"].dropna()\n",
    "Y=data_set[\"SalePrice\"].dropna()\n",
    "plt.scatter(X,Y)\n",
    "plt.xlabel(\"GrLivArea\")\n",
    "plt.ylabel(\"SalePrice\")\n",
    "plt.show()"
   ]
  },
  {
   "cell_type": "code",
   "execution_count": 36,
   "metadata": {},
   "outputs": [
    {
     "data": {
      "text/html": [
       "<h2> Cell 3 - Python Code for SLR</h2>"
      ],
      "text/plain": [
       "<IPython.core.display.HTML object>"
      ]
     },
     "metadata": {},
     "output_type": "display_data"
    },
    {
     "name": "stdout",
     "output_type": "stream",
     "text": [
      "                            OLS Regression Results                            \n",
      "==============================================================================\n",
      "Dep. Variable:              SalePrice   R-squared:                       0.502\n",
      "Model:                            OLS   Adj. R-squared:                  0.502\n",
      "Method:                 Least Squares   F-statistic:                     1471.\n",
      "Date:                Tue, 03 Mar 2020   Prob (F-statistic):          4.52e-223\n",
      "Time:                        15:14:22   Log-Likelihood:                -18035.\n",
      "No. Observations:                1460   AIC:                         3.607e+04\n",
      "Df Residuals:                    1458   BIC:                         3.608e+04\n",
      "Df Model:                           1                                         \n",
      "Covariance Type:            nonrobust                                         \n",
      "==============================================================================\n",
      "                 coef    std err          t      P>|t|      [0.025      0.975]\n",
      "------------------------------------------------------------------------------\n",
      "Intercept   1.857e+04   4480.755      4.144      0.000    9779.612    2.74e+04\n",
      "GrLivArea    107.1304      2.794     38.348      0.000     101.650     112.610\n",
      "==============================================================================\n",
      "Omnibus:                      261.166   Durbin-Watson:                   2.025\n",
      "Prob(Omnibus):                  0.000   Jarque-Bera (JB):             3432.287\n",
      "Skew:                           0.410   Prob(JB):                         0.00\n",
      "Kurtosis:                      10.467   Cond. No.                     4.90e+03\n",
      "==============================================================================\n",
      "\n",
      "Warnings:\n",
      "[1] Standard Errors assume that the covariance matrix of the errors is correctly specified.\n",
      "[2] The condition number is large, 4.9e+03. This might indicate that there are\n",
      "strong multicollinearity or other numerical problems.\n"
     ]
    }
   ],
   "source": [
    "# Cell 3\n",
    "# enter the python code to fit a simple linear regression model using statsmodel\n",
    "import statsmodels.formula.api as sm\n",
    "#\n",
    "display(HTML(\"<h2> Cell 3 - Python Code for SLR</h2>\"))\n",
    "model1 = sm.ols(formula='SalePrice~GrLivArea',data=data_set)\n",
    "fitted1 = model1.fit()\n",
    "print(fitted1.summary())"
   ]
  },
  {
   "cell_type": "markdown",
   "metadata": {},
   "source": [
    "## Cell 4\n",
    "\n",
    "Examine the results of the Python output in cell three and comment if the y-intercept and slope terms are statistically significant.\n",
    "\n",
    "\n",
    "### Regression Model\n",
    "\n",
    "The _p_-value for a hypothesis test for the regression model is 4.25e-223 (essentially zero). Therefore, the null hypothesis that the model is not is not statistically significant can be rejected.\n",
    "\n",
    "### Y-Intercept Term\n",
    "\n",
    "The _t_-statistic for a test of hypothesis that the y-intercept term is zero versus not equal to zero is 4.144 and the _p_-value is 0.000. Therefore the conclusion is to reject the null hypothesis and conclude that the y-intercept term is not equal to zero.\n",
    "\n",
    "### Slope Term\n",
    "\n",
    "The _t_-statistic for a test of hypothesis that the slope term is zero versus not equal to zero is 38.348 and the _p_-value is 0.000. Therefore the conclusion is to reject the null hypothesis and conclude that the slope term is not equal to zero.\n",
    "\n"
   ]
  },
  {
   "cell_type": "code",
   "execution_count": 37,
   "metadata": {},
   "outputs": [
    {
     "data": {
      "text/html": [
       "<h2> Cell 5 - Standardized Residual Plot"
      ],
      "text/plain": [
       "<IPython.core.display.HTML object>"
      ]
     },
     "metadata": {},
     "output_type": "display_data"
    },
    {
     "data": {
      "image/png": "[encoded data removed]",
      "text/plain": [
       "<Figure size 432x288 with 1 Axes>"
      ]
     },
     "metadata": {
      "needs_background": "light"
     },
     "output_type": "display_data"
    }
   ],
   "source": [
    "# Cell 5\n",
    "# enter the Python code to construct and plot standardized residuals\n",
    "display(HTML(\"<h2> Cell 5 - Standardized Residual Plot\"))\n",
    "residual2=fitted1.resid_pearson\n",
    "plt.plot(data_set[\"GrLivArea\"], residual2, 'ro')\n",
    "plt.xlabel('GrLivArea')\n",
    "plt.ylabel('standardized residual')\n",
    "plt.title('Standardized Residuals versus GrLivArea')\n",
    "plt.show()"
   ]
  },
  {
   "cell_type": "markdown",
   "metadata": {},
   "source": [
    "## Cell 6\n",
    "\n",
    "Examine the results of the Python output in cell five and determine if the linear regression assumptions are satisfied.\n",
    "\n",
    "### Outliers\n",
    "\n",
    "Since the residuals are standardized, any residuals greater that +/- 3 are outliers. There are multiple outliers\n",
    "\n",
    "### Constant Variance\n",
    "\n",
    "If lines are added to the residual plot along the boundary between points and blank space, a funnel pattern appears. This funnel pattern indicates that the variance is non-constant; in fact, the variance increases as the value of GrLivArea. \n",
    "\n",
    "Supplemental information. Non-constant variance requires a transformation of the input and output variables to remove the non-constant variance. This concept is not covered in this course."
   ]
  },
  {
   "cell_type": "code",
   "execution_count": 38,
   "metadata": {},
   "outputs": [
    {
     "data": {
      "text/html": [
       "<h2>Cell 7 - Normal Probability Plot</h2>"
      ],
      "text/plain": [
       "<IPython.core.display.HTML object>"
      ]
     },
     "metadata": {},
     "output_type": "display_data"
    },
    {
     "data": {
      "image/png": "[encoded data removed]",
      "text/plain": [
       "<Figure size 432x288 with 1 Axes>"
      ]
     },
     "metadata": {
      "needs_background": "light"
     },
     "output_type": "display_data"
    }
   ],
   "source": [
    "# Cell 7\n",
    "# enter the Python code to construct a normal probability plot of the residuals\n",
    "#\n",
    "display(HTML(\"<h2>Cell 7 - Normal Probability Plot</h2>\"))\n",
    "from scipy import stats\n",
    "# normal probability plot\n",
    "stats.probplot(residual2, plot=plt)\n",
    "plt.title('Normal Probability Plot for Residual2')\n",
    "plt.show()"
   ]
  },
  {
   "cell_type": "markdown",
   "metadata": {},
   "source": [
    "## Cell 8 - Normal Probability Plot\n",
    "\n",
    "Examine the results of the Python output from cell seven and determine if the assumption on normally distributed residuals is valid or invalid.\n",
    "\n",
    "### Interpretation\n",
    "\n",
    "If the data is normally distributed, all points would fall along the red line. It is apparent that ther are outliers as well as a lack of normality. The upper-tail of the normal probability plot departs significantly from the red line.\n"
   ]
  },
  {
   "cell_type": "code",
   "execution_count": 39,
   "metadata": {},
   "outputs": [
    {
     "data": {
      "text/html": [
       "<h2>Cell 9 - Cook's Distance</h2>"
      ],
      "text/plain": [
       "<IPython.core.display.HTML object>"
      ]
     },
     "metadata": {},
     "output_type": "display_data"
    },
    {
     "data": {
      "image/png": "[encoded data removed]",
      "text/plain": [
       "<Figure size 432x288 with 1 Axes>"
      ]
     },
     "metadata": {
      "needs_background": "light"
     },
     "output_type": "display_data"
    }
   ],
   "source": [
    "# Cell 9\n",
    "# enter the Python code to perform an analysis of Cook's Distance\n",
    "import numpy as np\n",
    "from statsmodels.stats.outliers_influence import OLSInfluence\n",
    "#\n",
    "display(HTML(\"<h2>Cell 9 - Cook's Distance</h2>\"))\n",
    "#\n",
    "test_class = OLSInfluence(fitted1)\n",
    "plt.stem(np.arange(len(test_class.cooks_distance[0])),test_class.cooks_distance[0])\n",
    "plt.show()"
   ]
  },
  {
   "cell_type": "markdown",
   "metadata": {},
   "source": [
    "## Cell 10\n",
    "\n",
    "Examine the results of the Python output from cell nine to determine if there are any influential data points in the data set.\n",
    "\n",
    "### Rule of Thumb\n",
    "\n",
    "One rule of thumb is to label any points with a Cook's Distance value greater than 1 as influential. In this case there is one influential point.\n",
    "\n",
    "### Probability-based Decision\n",
    "\n",
    "One can use F(alpha=.05,m=1,n-m=1460-1=1459)=3.84784 as the cutoff value. Under this rule, there are no influential points."
   ]
  },
  {
   "cell_type": "code",
   "execution_count": 40,
   "metadata": {},
   "outputs": [
    {
     "data": {
      "text/html": [
       "<h2>Cell 11 - Python code for DFFITS</h2>"
      ],
      "text/plain": [
       "<IPython.core.display.HTML object>"
      ]
     },
     "metadata": {},
     "output_type": "display_data"
    },
    {
     "data": {
      "image/png": "[encoded data removed]",
      "text/plain": [
       "<Figure size 432x288 with 1 Axes>"
      ]
     },
     "metadata": {
      "needs_background": "light"
     },
     "output_type": "display_data"
    }
   ],
   "source": [
    "# Cell 11\n",
    "# Enter the Python code to perform an analysis of DFFITS\n",
    "#\n",
    "display(HTML(\"<h2>Cell 11 - Python code for DFFITS</h2>\"))\n",
    "plt.plot(np.arange(len(test_class.dffits[0])),test_class.dffits[0])\n",
    "plt.show()\n",
    "dffits_df=pd.DataFrame(test_class.dffits[0])\n",
    "dffits_df.to_excel('dffits.xlsx')"
   ]
  },
  {
   "cell_type": "markdown",
   "metadata": {},
   "source": [
    "## Cell 12\n",
    "\n",
    "Examine the results of the Python output from cell eleven to determine if there are any influential data points in the data set.\n",
    "\n",
    "The criterion for identifying influential points using DFFITS is |DFFITSi|>2*sqrt(1/1460)=0.0523. The results of DFFITS were saved as dffits.xlsx. Applying the criterion to the data in the spreadsheet identifies 143 potential influential points (roughly ten percent)."
   ]
  }
 ],
 "metadata": {
  "kernelspec": {
   "display_name": "Python 3",
   "language": "python",
   "name": "python3"
  },
  "language_info": {
   "codemirror_mode": {
    "name": "ipython",
    "version": 3
   },
   "file_extension": ".py",
   "mimetype": "text/x-python",
   "name": "python",
   "nbconvert_exporter": "python",
   "pygments_lexer": "ipython3",
   "version": "3.6.8"
  }
 },
 "nbformat": 4,
 "nbformat_minor": 2
}
