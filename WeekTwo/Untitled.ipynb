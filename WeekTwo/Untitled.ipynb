{
 "cells": [
  {
   "cell_type": "markdown",
   "metadata": {},
   "source": [
    "# MANE 6399 - Spring 2020\n",
    "## Week 2 Jupyter Notebook "
   ]
  },
  {
   "cell_type": "code",
   "execution_count": 1,
   "metadata": {},
   "outputs": [
    {
     "name": "stdout",
     "output_type": "stream",
     "text": [
      "first call\n",
      "second call\n"
     ]
    }
   ],
   "source": [
    "# First example - defining a function\n",
    "def printme (x):\n",
    "    print(x)\n",
    "    return\n",
    "\n",
    "printme(\"first call\")\n",
    "printme(\"second call\")"
   ]
  },
  {
   "cell_type": "code",
   "execution_count": 2,
   "metadata": {},
   "outputs": [
    {
     "name": "stdout",
     "output_type": "stream",
     "text": [
      "x is 3.453574\n",
      "y is 3.454000\n"
     ]
    }
   ],
   "source": [
    "import math\n",
    "def roundOff(x,e):\n",
    "    return math.floor(x*10**e+.5)/(10**e)\n",
    "\n",
    "x=3.453574\n",
    "y=roundOff(x,3)\n",
    "#print(\"x is \"+x)\n",
    "print(\"\"\"x is %f\"\"\"%(x))\n",
    "print(\"\"\"y is %f\"\"\"%(y))"
   ]
  }
 ],
 "metadata": {
  "kernelspec": {
   "display_name": "Python 3",
   "language": "python",
   "name": "python3"
  },
  "language_info": {
   "codemirror_mode": {
    "name": "ipython",
    "version": 3
   },
   "file_extension": ".py",
   "mimetype": "text/x-python",
   "name": "python",
   "nbconvert_exporter": "python",
   "pygments_lexer": "ipython3",
   "version": "3.6.8"
  }
 },
 "nbformat": 4,
 "nbformat_minor": 2
}
