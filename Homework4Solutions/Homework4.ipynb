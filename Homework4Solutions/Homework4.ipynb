{
 "cells": [
  {
   "cell_type": "code",
   "execution_count": 1,
   "metadata": {},
   "outputs": [
    {
     "name": "stdout",
     "output_type": "stream",
     "text": [
      "Index(['FOOD', 'WT_GRAMS', 'PC_WATER', 'CALORIES', 'PROTEIN', 'FAT', 'SAT_FAT',\n",
      "       'MONUNSAT', 'POLUNSAT', 'CHOLEST', 'CARBO', 'CALCIUM', 'PHOSPHOR',\n",
      "       'IRON', 'POTASS', 'SODIUM', 'VIT_A_IU', 'VIT_A_RE', 'THIAMIN',\n",
      "       'RIBOFLAV', 'NIACIN', 'ASCORBIC', 'CAL_GRAM', 'IRN_GRAM', 'PRO_GRAM',\n",
      "       'FAT_GRAM'],\n",
      "      dtype='object')\n"
     ]
    }
   ],
   "source": [
    "# Cell 1\n",
    "import pandas as pd\n",
    "\n",
    "df=pd.read_csv('nutrition.dat',delim_whitespace=True)\n",
    "print(df.columns)\n",
    "df=df.drop('FOOD',axis=1)\n",
    "#df.describe"
   ]
  },
  {
   "cell_type": "code",
   "execution_count": 2,
   "metadata": {},
   "outputs": [
    {
     "name": "stdout",
     "output_type": "stream",
     "text": [
      "                            OLS Regression Results                            \n",
      "==============================================================================\n",
      "Dep. Variable:               CALORIES   R-squared:                       0.999\n",
      "Model:                            OLS   Adj. R-squared:                  0.999\n",
      "Method:                 Least Squares   F-statistic:                 4.962e+04\n",
      "Date:                Tue, 24 Mar 2020   Prob (F-statistic):               0.00\n",
      "Time:                        13:41:59   Log-Likelihood:                -3979.2\n",
      "No. Observations:                 961   AIC:                             8008.\n",
      "Df Residuals:                     936   BIC:                             8130.\n",
      "Df Model:                          24                                         \n",
      "Covariance Type:            nonrobust                                         \n",
      "==============================================================================\n",
      "                 coef    std err          t      P>|t|      [0.025      0.975]\n",
      "------------------------------------------------------------------------------\n",
      "Intercept    -69.2779      6.937     -9.987      0.000     -82.892     -55.664\n",
      "WT_GRAMS       0.0320      0.008      3.801      0.000       0.015       0.049\n",
      "PC_WATER       0.6918      0.071      9.716      0.000       0.552       0.832\n",
      "PROTEIN        4.4702      0.148     30.289      0.000       4.181       4.760\n",
      "FAT           10.5090      0.912     11.526      0.000       8.720      12.298\n",
      "SAT_FAT       -2.0099      0.988     -2.034      0.042      -3.949      -0.071\n",
      "MONUNSAT      -1.8257      0.949     -1.924      0.055      -3.688       0.036\n",
      "POLUNSAT      -1.6611      0.954     -1.741      0.082      -3.534       0.212\n",
      "CHOLEST        0.0125      0.007      1.769      0.077      -0.001       0.026\n",
      "CARBO          3.8065      0.020    194.125      0.000       3.768       3.845\n",
      "CALCIUM        0.0220      0.006      3.504      0.000       0.010       0.034\n",
      "PHOSPHOR      -0.0274      0.007     -4.170      0.000      -0.040      -0.015\n",
      "IRON          -2.4820      0.350     -7.100      0.000      -3.168      -1.796\n",
      "POTASS        -0.0196      0.002     -8.415      0.000      -0.024      -0.015\n",
      "SODIUM         0.0038      0.001      3.350      0.001       0.002       0.006\n",
      "VIT_A_IU       0.0003      0.000      0.805      0.421      -0.000       0.001\n",
      "VIT_A_RE      -0.0016      0.003     -0.554      0.579      -0.007       0.004\n",
      "THIAMIN       22.8054      3.710      6.147      0.000      15.525      30.086\n",
      "RIBOFLAV       1.7436      3.711      0.470      0.639      -5.539       9.026\n",
      "NIACIN         0.3036      0.336      0.903      0.367      -0.356       0.964\n",
      "ASCORBIC      -0.0365      0.019     -1.909      0.057      -0.074       0.001\n",
      "CAL_GRAM      19.8987      1.830     10.876      0.000      16.308      23.489\n",
      "IRN_GRAM      33.5042     13.632      2.458      0.014       6.750      60.258\n",
      "PRO_GRAM     -20.0317      8.742     -2.291      0.022     -37.189      -2.875\n",
      "FAT_GRAM    -108.4228     10.011    -10.831      0.000    -128.069     -88.777\n",
      "==============================================================================\n",
      "Omnibus:                      526.310   Durbin-Watson:                   1.681\n",
      "Prob(Omnibus):                  0.000   Jarque-Bera (JB):            62798.627\n",
      "Skew:                          -1.508   Prob(JB):                         0.00\n",
      "Kurtosis:                      42.487   Cond. No.                     1.18e+05\n",
      "==============================================================================\n",
      "\n",
      "Warnings:\n",
      "[1] Standard Errors assume that the covariance matrix of the errors is correctly specified.\n",
      "[2] The condition number is large, 1.18e+05. This might indicate that there are\n",
      "strong multicollinearity or other numerical problems.\n"
     ]
    }
   ],
   "source": [
    "# Cell 2\n",
    "# Python code for multiple regression model with all factors\n",
    "import statsmodels.formula.api as sm\n",
    "model1 = sm.ols(formula='CALORIES~WT_GRAMS+PC_WATER+PROTEIN+FAT+SAT_FAT+MONUNSAT+POLUNSAT+CHOLEST+CARBO+CALCIUM+PHOSPHOR+IRON+POTASS+SODIUM+VIT_A_IU+VIT_A_RE+THIAMIN+RIBOFLAV+NIACIN+ASCORBIC+CAL_GRAM+IRN_GRAM+PRO_GRAM+FAT_GRAM',data=df)\n",
    "fitted1 = model1.fit()\n",
    "print(fitted1.summary())"
   ]
  },
  {
   "cell_type": "markdown",
   "metadata": {},
   "source": [
    "# Cell 3\n",
    "## List factors that can be removed based upon p-values\n",
    "\n",
    "+ MONUNSAT\n",
    "+ POLUNSAT\n",
    "+ CHOLEST\n",
    "+ VIT_A_IU\n",
    "+ VIT_A_RE\n",
    "+ RIBOFLAV\n",
    "+ NIACIN\n",
    "+ ASCORBIC"
   ]
  },
  {
   "cell_type": "code",
   "execution_count": 3,
   "metadata": {},
   "outputs": [
    {
     "name": "stdout",
     "output_type": "stream",
     "text": [
      "                            OLS Regression Results                            \n",
      "==============================================================================\n",
      "Dep. Variable:               CALORIES   R-squared:                       0.999\n",
      "Model:                            OLS   Adj. R-squared:                  0.999\n",
      "Method:                 Least Squares   F-statistic:                 7.386e+04\n",
      "Date:                Tue, 24 Mar 2020   Prob (F-statistic):               0.00\n",
      "Time:                        13:41:59   Log-Likelihood:                -3987.0\n",
      "No. Observations:                 961   AIC:                             8008.\n",
      "Df Residuals:                     944   BIC:                             8091.\n",
      "Df Model:                          16                                         \n",
      "Covariance Type:            nonrobust                                         \n",
      "==============================================================================\n",
      "                 coef    std err          t      P>|t|      [0.025      0.975]\n",
      "------------------------------------------------------------------------------\n",
      "Intercept    -69.4397      6.890    -10.078      0.000     -82.962     -55.918\n",
      "WT_GRAMS       0.0314      0.008      3.759      0.000       0.015       0.048\n",
      "PC_WATER       0.6910      0.071      9.773      0.000       0.552       0.830\n",
      "PROTEIN        4.6351      0.125     37.073      0.000       4.390       4.881\n",
      "FAT            8.8330      0.034    263.309      0.000       8.767       8.899\n",
      "SAT_FAT       -0.1578      0.095     -1.657      0.098      -0.345       0.029\n",
      "CARBO          3.8175      0.019    205.377      0.000       3.781       3.854\n",
      "CALCIUM        0.0207      0.005      4.015      0.000       0.011       0.031\n",
      "PHOSPHOR      -0.0269      0.006     -4.192      0.000      -0.039      -0.014\n",
      "IRON          -2.3994      0.346     -6.934      0.000      -3.079      -1.720\n",
      "POTASS        -0.0217      0.002    -10.661      0.000      -0.026      -0.018\n",
      "SODIUM         0.0040      0.001      3.536      0.000       0.002       0.006\n",
      "THIAMIN       23.3977      3.055      7.658      0.000      17.402      29.394\n",
      "CAL_GRAM      19.9245      1.815     10.975      0.000      16.362      23.487\n",
      "IRN_GRAM      37.0696     13.223      2.803      0.005      11.119      63.020\n",
      "PRO_GRAM     -20.8108      8.711     -2.389      0.017     -37.906      -3.716\n",
      "FAT_GRAM    -109.6293      9.917    -11.054      0.000    -129.092     -90.167\n",
      "==============================================================================\n",
      "Omnibus:                      510.179   Durbin-Watson:                   1.680\n",
      "Prob(Omnibus):                  0.000   Jarque-Bera (JB):            58856.311\n",
      "Skew:                          -1.435   Prob(JB):                         0.00\n",
      "Kurtosis:                      41.231   Cond. No.                     2.31e+04\n",
      "==============================================================================\n",
      "\n",
      "Warnings:\n",
      "[1] Standard Errors assume that the covariance matrix of the errors is correctly specified.\n",
      "[2] The condition number is large, 2.31e+04. This might indicate that there are\n",
      "strong multicollinearity or other numerical problems.\n"
     ]
    }
   ],
   "source": [
    "# Cell 4\n",
    "# Python code for fitting reduced multiple regression model\n",
    "model2 = sm.ols(formula='CALORIES~WT_GRAMS+PC_WATER+PROTEIN+FAT+SAT_FAT+CARBO+CALCIUM+PHOSPHOR+IRON+POTASS+SODIUM+THIAMIN+CAL_GRAM+IRN_GRAM+PRO_GRAM+FAT_GRAM',data=df)\n",
    "fitted2 = model2.fit()\n",
    "print(fitted2.summary())"
   ]
  },
  {
   "cell_type": "code",
   "execution_count": 4,
   "metadata": {},
   "outputs": [
    {
     "name": "stdout",
     "output_type": "stream",
     "text": [
      "Full Model\n",
      "       Source     df  Sum of Squares   Mean Square F Statistic p value\n",
      "0  Regression   24.0    2.222205e+05  1.178111e+07     49622.4       0\n",
      "1       Error  936.0    2.827467e+08  2.374151e+02                    \n",
      "2       Total  960.0    2.829689e+08  2.947593e+05                    \n",
      "Reduced Model\n",
      "       Source     df  Sum of Squares   Mean Square F Statistic p value\n",
      "0  Regression   16.0    2.258455e+05  1.767144e+07     73863.9       0\n",
      "1       Error  944.0    2.827430e+08  2.392431e+02                    \n",
      "2       Total  960.0    2.829689e+08  2.947593e+05                    \n"
     ]
    }
   ],
   "source": [
    "# Cell 5\n",
    "# Python code for prepAnovaTable for the full and reduced models found in cells 2 and 4\n",
    "def prepANOVAtable(model):\n",
    "    tmp={'Source':['Regression','Error','Total'],'df': [model.df_model,model.df_resid,model.df_model+model.df_resid],'Sum of Squares':[model.ssr,model.ess,model.ssr+model.ess],'Mean Square':[model.mse_model,model.mse_resid,model.mse_total],'F Statistic':[model.fvalue,'',''],'p value':[model.f_pvalue,'','']}\n",
    "    anova_df=pd.DataFrame(data=tmp)\n",
    "    anova_df=anova_df[['Source','df','Sum of Squares','Mean Square','F Statistic','p value']]\n",
    "    return(anova_df)\n",
    "anova1_df=prepANOVAtable(fitted1)\n",
    "print(\"Full Model\")\n",
    "print(anova1_df)\n",
    "print(\"Reduced Model\")\n",
    "anova2_df=prepANOVAtable(fitted2)\n",
    "print(anova2_df)"
   ]
  },
  {
   "cell_type": "markdown",
   "metadata": {},
   "source": [
    "# Cell 6\n",
    "## Conduct a partial F-test\n",
    "\n",
    "![Partial F-test](partialF.jpg)"
   ]
  },
  {
   "cell_type": "code",
   "execution_count": 11,
   "metadata": {},
   "outputs": [
    {
     "name": "stdout",
     "output_type": "stream",
     "text": [
      "Normal Probability Plot\n"
     ]
    },
    {
     "data": {
      "image/png": "[encoded data removed]",
      "text/plain": [
       "<Figure size 432x288 with 1 Axes>"
      ]
     },
     "metadata": {
      "needs_background": "light"
     },
     "output_type": "display_data"
    },
    {
     "data": {
      "image/png": "[encoded data removed]",
      "text/plain": [
       "<Figure size 432x288 with 16 Axes>"
      ]
     },
     "metadata": {
      "needs_background": "light"
     },
     "output_type": "display_data"
    }
   ],
   "source": [
    "# Cell 7\n",
    "# Python code for residual analysis of reduced model\n",
    "import matplotlib.pyplot as plt\n",
    "from pandas.plotting import scatter_matrix\n",
    "\n",
    "print(\"Normal Probability Plot\")\n",
    "influence = fitted2.get_influence()\n",
    "standardized_residuals = influence.resid_studentized_internal\n",
    "from scipy import stats\n",
    "stats.probplot(standardized_residuals, plot=plt)\n",
    "plt.title('Normal Probability Plot')\n",
    "plt.show()\n",
    "\n",
    "df['resid']=standardized_residuals\n",
    "\n",
    "fig3 = plt.figure()\n",
    "fig3.subplots_adjust(hspace=0.8, wspace=0.8)\n",
    "ax=fig3.add_subplot(4,4,1)\n",
    "plt.plot(df['WT_GRAMS'], df['resid'], 'ro')\n",
    "plt.xlabel('WT_GRAMS')\n",
    "plt.ylabel('std residual')\n",
    "ax=fig3.add_subplot(4,4,2)\n",
    "plt.plot(df['PC_WATER'], df['resid'], 'ro')\n",
    "plt.xlabel('PC_WATER')\n",
    "plt.ylabel('std residual')\n",
    "ax=fig3.add_subplot(4,4,3)\n",
    "plt.plot(df['PROTEIN'], df['resid'], 'ro')\n",
    "plt.xlabel('PROTEIN')\n",
    "plt.ylabel('std residual')\n",
    "ax=fig3.add_subplot(4,4,4)\n",
    "plt.plot(df['FAT'], df['resid'], 'ro')\n",
    "plt.xlabel('FAT')\n",
    "plt.ylabel('std residual')\n",
    "ax=fig3.add_subplot(4,4,5)\n",
    "plt.plot(df['SAT_FAT'], df['resid'], 'ro')\n",
    "plt.xlabel('SAT_FAT')\n",
    "plt.ylabel('std residual')\n",
    "ax=fig3.add_subplot(4,4,6)\n",
    "plt.plot(df['CARBO'], df['resid'], 'ro')\n",
    "plt.xlabel('CARBO')\n",
    "plt.ylabel('std residual')\n",
    "ax=fig3.add_subplot(4,4,7)\n",
    "plt.plot(df['CALCIUM'], df['resid'], 'ro')\n",
    "plt.xlabel('CALCIUM')\n",
    "plt.ylabel('std residual')\n",
    "ax=fig3.add_subplot(4,4,8)\n",
    "plt.plot(df['PHOSPHOR'], df['resid'], 'ro')\n",
    "plt.xlabel('PHOSPHOR')\n",
    "plt.ylabel('std residual')\n",
    "ax=fig3.add_subplot(4,4,9)\n",
    "plt.plot(df['IRON'], df['resid'], 'ro')\n",
    "plt.xlabel('IRON')\n",
    "plt.ylabel('std residual')\n",
    "ax=fig3.add_subplot(4,4,10)\n",
    "plt.plot(df['POTASS'], df['resid'], 'ro')\n",
    "plt.xlabel('POTASS')\n",
    "plt.ylabel('std residual')\n",
    "ax=fig3.add_subplot(4,4,11)\n",
    "plt.plot(df['SODIUM'], df['resid'], 'ro')\n",
    "plt.xlabel('SODIUM')\n",
    "plt.ylabel('std residual')\n",
    "ax=fig3.add_subplot(4,4,12)\n",
    "plt.plot(df['THIAMIN'], df['resid'], 'ro')\n",
    "plt.xlabel('THIAMIN')\n",
    "plt.ylabel('std residual')\n",
    "ax=fig3.add_subplot(4,4,13)\n",
    "plt.plot(df['CAL_GRAM'], df['resid'], 'ro')\n",
    "plt.xlabel('CAL_GRAM')\n",
    "plt.ylabel('std residual')\n",
    "ax=fig3.add_subplot(4,4,14)\n",
    "plt.plot(df['IRN_GRAM'], df['resid'], 'ro')\n",
    "plt.xlabel('IRN_GRAM')\n",
    "plt.ylabel('std residual')\n",
    "ax=fig3.add_subplot(4,4,15)\n",
    "plt.plot(df['PRO_GRAM'], df['resid'], 'ro')\n",
    "plt.xlabel('PRO_GRAM')\n",
    "plt.ylabel('std residual')\n",
    "ax=fig3.add_subplot(4,4,16)\n",
    "plt.plot(df['FAT_GRAM'], df['resid'], 'ro')\n",
    "plt.xlabel('FAT_GRAM')\n",
    "plt.ylabel('std residual')\n",
    "plt.show()"
   ]
  },
  {
   "cell_type": "markdown",
   "metadata": {},
   "source": [
    "# Cell 8\n",
    "## Interpret the results of the residual analysis\n",
    "\n",
    "+ The residuals are not normally distributed\n",
    "+ There are some very large outliers (-12.5 standard deviations)\n",
    "+ In general, relationships appear to be linear and have constant variance\n",
    "+ POTASS, SODIUM, CARBO, CALCIU, PHOSPHOR, and PRO_GRAM all have high-leverage points (far to the right of other values"
   ]
  },
  {
   "cell_type": "code",
   "execution_count": 6,
   "metadata": {},
   "outputs": [
    {
     "name": "stdout",
     "output_type": "stream",
     "text": [
      "Plot of Hat matrix\n"
     ]
    },
    {
     "data": {
      "image/png": "[encoded data removed]",
      "text/plain": [
       "<Figure size 432x288 with 1 Axes>"
      ]
     },
     "metadata": {
      "needs_background": "light"
     },
     "output_type": "display_data"
    },
    {
     "name": "stdout",
     "output_type": "stream",
     "text": [
      "Plot of Influential points - Cook's D\n"
     ]
    },
    {
     "data": {
      "image/png": "[encoded data removed]",
      "text/plain": [
       "<Figure size 432x288 with 1 Axes>"
      ]
     },
     "metadata": {
      "needs_background": "light"
     },
     "output_type": "display_data"
    }
   ],
   "source": [
    "# Cell 9\n",
    "# Python code to identify high-leverage and influential points\n",
    "#Hi leverage\n",
    "import numpy as np\n",
    "print(\"Plot of Hat matrix\")\n",
    "from statsmodels.stats.outliers_influence import OLSInfluence\n",
    "test_class = OLSInfluence(fitted2)\n",
    "plt.stem(np.arange(len(test_class.hat_matrix_diag)),test_class.hat_matrix_diag)\n",
    "plt.show()\n",
    "print(\"Plot of Influential points - Cook's D\")\n",
    "plt.stem(np.arange(len(test_class.cooks_distance[0])),test_class.cooks_distance[0])\n",
    "plt.show()"
   ]
  },
  {
   "cell_type": "markdown",
   "metadata": {},
   "source": [
    "# Cell 10\n",
    "## List high-leverage and influential points\n",
    "\n",
    "The guidelines for high-leverage and influential points are shown below\n",
    "![Thresholds for High-leverage and influential points](leverageInfluential.jpg)\n",
    "\n",
    "### High-Leverage points\n",
    "Using the threshold of 0.0531, there are many points that are high-leverage. \n",
    "\n",
    "### Influential Points\n",
    "Using the threshold of 2.019, there are no influential points. Using the 95th percentile limit of 1.645, there is one infludential point.\n",
    "\n",
    "### Summary\n",
    "The influential point should be identified and removed from the data set and the model refitted and residuals and diagnostics checked again."
   ]
  },
  {
   "cell_type": "code",
   "execution_count": 7,
   "metadata": {},
   "outputs": [
    {
     "name": "stdout",
     "output_type": "stream",
     "text": [
      "CALORIES ~ CARBO + FAT + PROTEIN + POTASS + WT_GRAMS + THIAMIN + IRON + PHOSPHOR + CALCIUM + FAT_GRAM + CAL_GRAM + PC_WATER + SODIUM + IRN_GRAM + PRO_GRAM + POLUNSAT + ASCORBIC + CHOLEST + 1\n",
      "0.999194112055937\n"
     ]
    }
   ],
   "source": [
    "# Cell 11\n",
    "# Python code to perform forward selection of all factors\n",
    "import statsmodels.formula.api as smf\n",
    "def forward_selection(data, response):\n",
    "    \"\"\"Linear model designed by forward selection.\n",
    "\n",
    "    Parameters:\n",
    "    -----------\n",
    "    data : pandas DataFrame with all possible predictors and response\n",
    "\n",
    "    response: string, name of response column in data\n",
    "\n",
    "    Returns:\n",
    "    --------\n",
    "    model: an \"optimal\" fitted statsmodels linear model\n",
    "           with an intercept\n",
    "           selected by forward selection\n",
    "           evaluated by adjusted R-squared\n",
    "    \"\"\"\n",
    "    remaining = set(data.columns)\n",
    "    remaining.remove(response)\n",
    "    selected = []\n",
    "    current_score, best_new_score = 0.0, 0.0\n",
    "    while remaining and current_score == best_new_score:\n",
    "        scores_with_candidates = []\n",
    "        for candidate in remaining:\n",
    "            formula = \"{} ~ {} + 1\".format(response,\n",
    "                                           ' + '.join(selected + [candidate]))\n",
    "            score = smf.ols(formula, data).fit().rsquared_adj\n",
    "            scores_with_candidates.append((score, candidate))\n",
    "        scores_with_candidates.sort()\n",
    "        best_new_score, best_candidate = scores_with_candidates.pop()\n",
    "        if current_score < best_new_score:\n",
    "            remaining.remove(best_candidate)\n",
    "            selected.append(best_candidate)\n",
    "            current_score = best_new_score\n",
    "    formula = \"{} ~ {} + 1\".format(response,\n",
    "                                   ' + '.join(selected))\n",
    "    model = smf.ols(formula, data).fit()\n",
    "    return model\n",
    "# remove residual from data set for modeling purposes\n",
    "df=df.drop('resid',axis=1)\n",
    "forward=forward_selection(df,'CALORIES')\n",
    "print(forward.model.formula)\n",
    "print(forward.rsquared_adj)"
   ]
  },
  {
   "cell_type": "markdown",
   "metadata": {},
   "source": [
    "# Cell 12\n",
    "## Best model found using forward selection"
   ]
  },
  {
   "cell_type": "code",
   "execution_count": 8,
   "metadata": {},
   "outputs": [],
   "source": [
    "# Cell 13\n",
    "# Python code to perform backwards selection of all factors\n",
    "\n",
    "# no code provided"
   ]
  },
  {
   "cell_type": "markdown",
   "metadata": {},
   "source": [
    "# Cell 14\n",
    "## Best model found using backwards selection\n",
    "\n",
    "Remove from Assignment, code not provided"
   ]
  },
  {
   "cell_type": "code",
   "execution_count": 9,
   "metadata": {},
   "outputs": [
    {
     "name": "stderr",
     "output_type": "stream",
     "text": [
      "C:\\Users\\fwn285\\AppData\\Local\\Continuum\\anaconda3\\envs\\env_iise\\lib\\site-packages\\numpy\\core\\fromnumeric.py:2389: FutureWarning: Method .ptp is deprecated and will be removed in a future version. Use numpy.ptp instead.\n",
      "  return ptp(axis=axis, out=out, **kwargs)\n",
      "C:\\Users\\fwn285\\AppData\\Local\\Continuum\\anaconda3\\envs\\env_iise\\lib\\site-packages\\ipykernel_launcher.py:33: FutureWarning: \n",
      "The current behaviour of 'Series.argmin' is deprecated, use 'idxmin'\n",
      "instead.\n",
      "The behavior of 'argmin' will be corrected to return the positional\n",
      "minimum in the future. For now, use 'series.values.argmin' or\n",
      "'np.argmin(np.array(values))' to get the position of the minimum\n",
      "row.\n"
     ]
    },
    {
     "name": "stdout",
     "output_type": "stream",
     "text": [
      "Add  CALORIES                       with p-value 0.0\n",
      "Add  SAT_FAT                        with p-value 2.67638e-146\n",
      "Add  POTASS                         with p-value 8.87004e-109\n",
      "Add  POLUNSAT                       with p-value 3.39053e-133\n",
      "Add  CALCIUM                        with p-value 6.60136e-121\n",
      "Drop SAT_FAT                        with p-value 0.669232\n"
     ]
    },
    {
     "name": "stderr",
     "output_type": "stream",
     "text": [
      "C:\\Users\\fwn285\\AppData\\Local\\Continuum\\anaconda3\\envs\\env_iise\\lib\\site-packages\\ipykernel_launcher.py:46: FutureWarning: \n",
      "The current behaviour of 'Series.argmax' is deprecated, use 'idxmax'\n",
      "instead.\n",
      "The behavior of 'argmax' will be corrected to return the positional\n",
      "maximum in the future. For now, use 'series.values.argmax' or\n",
      "'np.argmax(np.array(values))' to get the position of the maximum\n",
      "row.\n"
     ]
    },
    {
     "name": "stdout",
     "output_type": "stream",
     "text": [
      "Add  MONUNSAT                       with p-value 3.20045e-24\n",
      "Add  SODIUM                         with p-value 2.55491e-32\n",
      "Drop MONUNSAT                       with p-value 0.81262\n",
      "Add  VIT_A_IU                       with p-value 1.02469e-128\n",
      "Drop CALCIUM                        with p-value 0.522202\n",
      "Add  PHOSPHOR                       with p-value 3.17102e-101\n",
      "Add  CHOLEST                        with p-value 4.10119e-10\n",
      "Drop POTASS                         with p-value 0.576746\n",
      "Add  POTASS                         with p-value 4.07104e-16\n",
      "Drop PHOSPHOR                       with p-value 0.713259\n",
      "Add  WT_GRAMS                       with p-value 8.97181e-23\n",
      "Drop POTASS                         with p-value 0.0978323\n",
      "Add  PC_WATER                       with p-value 3.7358e-09\n",
      "Drop POLUNSAT                       with p-value 0.332975\n",
      "Add  POTASS                         with p-value 0.000325626\n",
      "Drop WT_GRAMS                       with p-value 0.913327\n",
      "Add  CALCIUM                        with p-value 6.94877e-84\n",
      "Drop PC_WATER                       with p-value 0.354746\n",
      "Add  VIT_A_RE                       with p-value 4.26677e-15\n",
      "Drop CALCIUM                        with p-value 0.734129\n",
      "Add  CAL_GRAM                       with p-value 7.14943e-28\n",
      "Add  POLUNSAT                       with p-value 1.38172e-11\n",
      "Drop VIT_A_RE                       with p-value 0.843214\n",
      "Add  VIT_A_RE                       with p-value 1.70945e-11\n",
      "Drop POTASS                         with p-value 0.219343\n",
      "Add  PROTEIN                        with p-value 5.48187e-19\n",
      "Drop CHOLEST                        with p-value 0.607196\n",
      "Add  SAT_FAT                        with p-value 3.44234e-11\n",
      "Add  CHOLEST                        with p-value 3.43116e-05\n",
      "Drop SAT_FAT                        with p-value 0.594374\n",
      "Add  POTASS                         with p-value 4.90957e-32\n",
      "Drop PROTEIN                        with p-value 1.0\n",
      "Add  CALCIUM                        with p-value 1.04315e-56\n",
      "Drop VIT_A_IU                       with p-value 0.186692\n",
      "Add  VIT_A_IU                       with p-value 2.23381e-45\n",
      "Drop SODIUM                         with p-value 0.0650285\n",
      "Add  SODIUM                         with p-value 7.4413e-19\n",
      "Drop CHOLEST                        with p-value 0.362144\n",
      "Add  PHOSPHOR                       with p-value 4.47189e-17\n",
      "Add  CHOLEST                        with p-value 6.28366e-09\n",
      "Drop POLUNSAT                       with p-value 0.441932\n",
      "Add  PC_WATER                       with p-value 2.75271e-05\n",
      "Drop VIT_A_IU                       with p-value 0.220819\n",
      "Add  VIT_A_IU                       with p-value 1.24382e-55\n",
      "Drop SODIUM                         with p-value 0.456798\n",
      "Add  SODIUM                         with p-value 6.4763e-09\n",
      "Drop PHOSPHOR                       with p-value 0.935784\n",
      "Add  NIACIN                         with p-value 0.00254237\n",
      "Drop CHOLEST                        with p-value 1.0\n",
      "Add  ASCORBIC                       with p-value 4.90446e-32\n",
      "Drop PC_WATER                       with p-value 0.623726\n",
      "Add  WT_GRAMS                       with p-value 1.7271e-15\n",
      "Drop CALCIUM                        with p-value 0.402879\n",
      "Add  CALCIUM                        with p-value 3.53463e-07\n",
      "Drop WT_GRAMS                       with p-value 1.0\n",
      "Add  CARBO                          with p-value 2.64866e-07\n",
      "Drop CAL_GRAM                       with p-value 1.0\n",
      "Add  WT_GRAMS                       with p-value 2.60838e-05\n",
      "Drop POTASS                         with p-value 0.896021\n",
      "Add  POTASS                         with p-value 0.000114649\n",
      "Drop NIACIN                         with p-value 1.0\n",
      "Add  CHOLEST                        with p-value 4.44124e-08\n",
      "Drop SODIUM                         with p-value 0.732021\n",
      "Add  PHOSPHOR                       with p-value 5.00988e-19\n",
      "Drop CALCIUM                        with p-value 0.305626\n",
      "Drop CARBO                          with p-value 0.326531\n",
      "Add  SODIUM                         with p-value 9.60732e-51\n",
      "Drop PHOSPHOR                       with p-value 0.358194\n",
      "Add  PHOSPHOR                       with p-value 2.15494e-09\n",
      "Add  PC_WATER                       with p-value 2.86847e-14\n",
      "Drop WT_GRAMS                       with p-value 0.899883\n",
      "Add  SAT_FAT                        with p-value 4.8564e-05\n",
      "Drop PC_WATER                       with p-value 0.61912\n",
      "Add  WT_GRAMS                       with p-value 1.9411e-08\n",
      "Drop ASCORBIC                       with p-value 0.819409\n",
      "Add  CAL_GRAM                       with p-value 0.00220255\n",
      "Drop SAT_FAT                        with p-value 0.675697\n",
      "Add  POLUNSAT                       with p-value 2.95669e-08\n",
      "Add  CALCIUM                        with p-value 0.000150289\n",
      "Drop CAL_GRAM                       with p-value 0.848929\n",
      "Drop WT_GRAMS                       with p-value 0.924284\n",
      "Add  WT_GRAMS                       with p-value 3.59032e-09\n",
      "Drop CALCIUM                        with p-value 0.843489\n",
      "Add  PC_WATER                       with p-value 6.47306e-11\n",
      "resulting features:\n",
      "['CALORIES', 'VIT_A_RE', 'VIT_A_IU', 'POTASS', 'CHOLEST', 'SODIUM', 'PHOSPHOR', 'POLUNSAT', 'WT_GRAMS', 'PC_WATER']\n"
     ]
    }
   ],
   "source": [
    "# Cell 15\n",
    "# Python code to perform stepwise selection of all factors\n",
    "import statsmodels.api as sm\n",
    "def stepwise_selection(X, y, \n",
    "                       initial_list=[], \n",
    "                       threshold_in=0.01, \n",
    "                       threshold_out = 0.05, \n",
    "                       verbose=True):\n",
    "    \"\"\" Perform a forward-backward feature selection \n",
    "    based on p-value from statsmodels.api.OLS\n",
    "    Arguments:\n",
    "        X - pandas.DataFrame with candidate features\n",
    "        y - list-like with the target\n",
    "        initial_list - list of features to start with (column names of X)\n",
    "        threshold_in - include a feature if its p-value < threshold_in\n",
    "        threshold_out - exclude a feature if its p-value > threshold_out\n",
    "        verbose - whether to print the sequence of inclusions and exclusions\n",
    "    Returns: list of selected features \n",
    "    Always set threshold_in < threshold_out to avoid infinite looping.\n",
    "    See https://en.wikipedia.org/wiki/Stepwise_regression for the details\n",
    "    \"\"\"\n",
    "    included = list(initial_list)\n",
    "    while True:\n",
    "        changed=False\n",
    "        # forward step\n",
    "        excluded = list(set(X.columns)-set(included))\n",
    "        new_pval = pd.Series(index=excluded)\n",
    "        for new_column in excluded:\n",
    "            model = sm.OLS(y, sm.add_constant(pd.DataFrame(X[included+[new_column]]))).fit()\n",
    "            new_pval[new_column] = model.pvalues[new_column]\n",
    "        best_pval = new_pval.min()\n",
    "        if best_pval < threshold_in:\n",
    "            best_feature = new_pval.argmin()\n",
    "            included.append(best_feature)\n",
    "            changed=True\n",
    "            if verbose:\n",
    "                print('Add  {:30} with p-value {:.6}'.format(best_feature, best_pval))\n",
    "\n",
    "        # backward step\n",
    "        model = sm.OLS(y, sm.add_constant(pd.DataFrame(X[included]))).fit()\n",
    "        # use all coefs except intercept\n",
    "        pvalues = model.pvalues.iloc[1:]\n",
    "        worst_pval = pvalues.max() # null if pvalues is empty\n",
    "        if worst_pval > threshold_out:\n",
    "            changed=True\n",
    "            worst_feature = pvalues.argmax()\n",
    "            included.remove(worst_feature)\n",
    "            if verbose:\n",
    "                print('Drop {:30} with p-value {:.6}'.format(worst_feature, worst_pval))\n",
    "        if not changed:\n",
    "            break\n",
    "    return included\n",
    "X=df\n",
    "y=df[\"CALORIES\"]\n",
    "result = stepwise_selection(X, y)\n",
    "\n",
    "print('resulting features:')\n",
    "print(result)"
   ]
  },
  {
   "cell_type": "markdown",
   "metadata": {},
   "source": [
    "# Cell 16\n",
    "## Best model found using stepwise selection"
   ]
  },
  {
   "cell_type": "code",
   "execution_count": 10,
   "metadata": {},
   "outputs": [],
   "source": [
    "# Cell 17\n",
    "# Python code to perform all subsets selection.\n",
    "# Not included because it would take too long"
   ]
  },
  {
   "cell_type": "markdown",
   "metadata": {},
   "source": [
    "# Cell 18\n",
    "## Best model found using all subsets selection\n",
    "![All Subsets output](subsetsOutput.png)"
   ]
  },
  {
   "cell_type": "markdown",
   "metadata": {},
   "source": [
    "# Cell 19\n",
    "## Summarize the models found using the different selection techniques and pick a best model\n",
    "\n",
    "+ All Subsets: 21 terms in model, R^2=0.9992\n",
    "+ Forward Selection: 18 terms in model, R^2=0.9992\n",
    "+ Stepwise: 9 terms in model, R^2=0.999 (see cell below)\n",
    "\n",
    "My overall recommendation is to select the stepwise model which has the fewest terms and the R^2 value is the same as the models with more terms. Multicollinearity will be a problem so the smallest possible model is the best choice"
   ]
  },
  {
   "cell_type": "code",
   "execution_count": 13,
   "metadata": {},
   "outputs": [
    {
     "name": "stdout",
     "output_type": "stream",
     "text": [
      "                            OLS Regression Results                            \n",
      "==============================================================================\n",
      "Dep. Variable:               CALORIES   R-squared:                       0.999\n",
      "Model:                            OLS   Adj. R-squared:                  0.999\n",
      "Method:                 Least Squares   F-statistic:                 7.386e+04\n",
      "Date:                Tue, 24 Mar 2020   Prob (F-statistic):               0.00\n",
      "Time:                        13:53:22   Log-Likelihood:                -3987.0\n",
      "No. Observations:                 961   AIC:                             8008.\n",
      "Df Residuals:                     944   BIC:                             8091.\n",
      "Df Model:                          16                                         \n",
      "Covariance Type:            nonrobust                                         \n",
      "==============================================================================\n",
      "                 coef    std err          t      P>|t|      [0.025      0.975]\n",
      "------------------------------------------------------------------------------\n",
      "Intercept    -69.4397      6.890    -10.078      0.000     -82.962     -55.918\n",
      "WT_GRAMS       0.0314      0.008      3.759      0.000       0.015       0.048\n",
      "PC_WATER       0.6910      0.071      9.773      0.000       0.552       0.830\n",
      "PROTEIN        4.6351      0.125     37.073      0.000       4.390       4.881\n",
      "FAT            8.8330      0.034    263.309      0.000       8.767       8.899\n",
      "SAT_FAT       -0.1578      0.095     -1.657      0.098      -0.345       0.029\n",
      "CARBO          3.8175      0.019    205.377      0.000       3.781       3.854\n",
      "CALCIUM        0.0207      0.005      4.015      0.000       0.011       0.031\n",
      "PHOSPHOR      -0.0269      0.006     -4.192      0.000      -0.039      -0.014\n",
      "IRON          -2.3994      0.346     -6.934      0.000      -3.079      -1.720\n",
      "POTASS        -0.0217      0.002    -10.661      0.000      -0.026      -0.018\n",
      "SODIUM         0.0040      0.001      3.536      0.000       0.002       0.006\n",
      "THIAMIN       23.3977      3.055      7.658      0.000      17.402      29.394\n",
      "CAL_GRAM      19.9245      1.815     10.975      0.000      16.362      23.487\n",
      "IRN_GRAM      37.0696     13.223      2.803      0.005      11.119      63.020\n",
      "PRO_GRAM     -20.8108      8.711     -2.389      0.017     -37.906      -3.716\n",
      "FAT_GRAM    -109.6293      9.917    -11.054      0.000    -129.092     -90.167\n",
      "==============================================================================\n",
      "Omnibus:                      510.179   Durbin-Watson:                   1.680\n",
      "Prob(Omnibus):                  0.000   Jarque-Bera (JB):            58856.311\n",
      "Skew:                          -1.435   Prob(JB):                         0.00\n",
      "Kurtosis:                      41.231   Cond. No.                     2.31e+04\n",
      "==============================================================================\n",
      "\n",
      "Warnings:\n",
      "[1] Standard Errors assume that the covariance matrix of the errors is correctly specified.\n",
      "[2] The condition number is large, 2.31e+04. This might indicate that there are\n",
      "strong multicollinearity or other numerical problems.\n"
     ]
    }
   ],
   "source": [
    "# Python code for fitting stepwise multiple regression model\n",
    "import statsmodels.formula.api as sm\n",
    "model5 = sm.ols(formula='CALORIES~VIT_A_RE+VIT_A_IU+POTASS+CHOLEST+SODIUM+PHOSPHOR+POLUNSAT+WT_GRAMS+PC_WATER',data=df)\n",
    "fitted5 = model5.fit()\n",
    "print(fitted2.summary())"
   ]
  }
 ],
 "metadata": {
  "kernelspec": {
   "display_name": "Python 3",
   "language": "python",
   "name": "python3"
  },
  "language_info": {
   "codemirror_mode": {
    "name": "ipython",
    "version": 3
   },
   "file_extension": ".py",
   "mimetype": "text/x-python",
   "name": "python",
   "nbconvert_exporter": "python",
   "pygments_lexer": "ipython3",
   "version": "3.6.8"
  }
 },
 "nbformat": 4,
 "nbformat_minor": 2
}
