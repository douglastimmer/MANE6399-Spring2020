{
 "cells": [
  {
   "cell_type": "markdown",
   "metadata": {},
   "source": [
    "# MANE 6399\n",
    "## Homework 8 Solutions"
   ]
  },
  {
   "cell_type": "code",
   "execution_count": 1,
   "metadata": {},
   "outputs": [
    {
     "name": "stdout",
     "output_type": "stream",
     "text": [
      "     pIncidence  pTilt  llAngle  sSlope  pRadius   spon classification\n",
      "0         39.06  10.06    25.02   29.00   114.41   4.56             AB\n",
      "1         68.83  22.22    50.09   46.61   105.99  -3.53             AB\n",
      "2         69.30  24.65    44.31   44.64   101.87  11.21             AB\n",
      "3         49.71   9.65    28.32   40.06   108.17   7.92             AB\n",
      "4         40.25  13.92    25.12   26.33   130.33   2.23             AB\n",
      "..          ...    ...      ...     ...      ...    ...            ...\n",
      "304       47.90  13.62    36.00   34.29   117.45  -4.25             NO\n",
      "305       53.94  20.72    29.22   33.22   114.37  -0.42             NO\n",
      "306       61.45  22.69    46.17   38.75   125.67  -2.71             NO\n",
      "307       45.25   8.69    41.58   36.56   118.55   0.21             NO\n",
      "308       33.84   5.07    36.64   28.77   123.95  -0.20             NO\n",
      "\n",
      "[309 rows x 7 columns]\n"
     ]
    },
    {
     "data": {
      "text/plain": [
       "<matplotlib.axes._subplots.AxesSubplot at 0x21527c11cc0>"
      ]
     },
     "execution_count": 1,
     "metadata": {},
     "output_type": "execute_result"
    },
    {
     "data": {
      "image/png": "[encoded data removed]",
      "text/plain": [
       "<Figure size 432x288 with 1 Axes>"
      ]
     },
     "metadata": {
      "needs_background": "light"
     },
     "output_type": "display_data"
    }
   ],
   "source": [
    "# Python cell to read data from file into dataframe df\n",
    "from IPython.display import display, HTML, Latex\n",
    "import pandas as pd\n",
    "df=pd.read_csv('column_2C.DAT',delimiter=' ')\n",
    "df.columns=['pIncidence','pTilt','llAngle','sSlope','pRadius','spon','classification']\n",
    "print(df)\n",
    "df=df.dropna(0)\n",
    "df['classification'].value_counts().plot(kind='bar')"
   ]
  },
  {
   "cell_type": "code",
   "execution_count": 19,
   "metadata": {},
   "outputs": [
    {
     "data": {
      "text/html": [
       "<h1>Problem 1</h1>"
      ],
      "text/plain": [
       "<IPython.core.display.HTML object>"
      ]
     },
     "metadata": {},
     "output_type": "display_data"
    },
    {
     "data": {
      "image/png": "[encoded data removed]",
      "text/plain": [
       "<Figure size 432x288 with 1 Axes>"
      ]
     },
     "metadata": {
      "needs_background": "light"
     },
     "output_type": "display_data"
    },
    {
     "data": {
      "text/html": [
       "<h2>Accuracy Scores</h2>"
      ],
      "text/plain": [
       "<IPython.core.display.HTML object>"
      ]
     },
     "metadata": {},
     "output_type": "display_data"
    },
    {
     "name": "stdout",
     "output_type": "stream",
     "text": [
      "[0.7584841628959276, 0.7486173956762192, 0.7583584715937657, 0.7615007541478129, 0.7549648064353947, 0.7484288587229764, 0.7551533433886375, 0.7616264454499748, 0.7551533433886375, 0.745475113122172, 0.7519482151835093, 0.7584841628959276]\n"
     ]
    },
    {
     "data": {
      "text/plain": [
       "'The values of k that have the highest accuracy are 9 and 17. I will select the smaller value (9)'"
      ]
     },
     "metadata": {},
     "output_type": "display_data"
    }
   ],
   "source": [
    "# Problem 1 \n",
    "# Enter the Python code to solve problem 1 in this cell\n",
    "display(HTML(\"<h1>Problem 1</h1>\"))\n",
    "from matplotlib import pyplot as plt\n",
    "from sklearn.pipeline import make_pipeline\n",
    "from sklearn.model_selection import cross_val_score\n",
    "from sklearn import preprocessing\n",
    "from sklearn import neighbors\n",
    "import numpy as np\n",
    "#\n",
    "X = np.array(df.iloc[:, 0:6])\n",
    "y = np.array(df['classification'])\n",
    "#print(X)\n",
    "#print(y)\n",
    "#\n",
    "ind=[]\n",
    "accuracy=[]\n",
    "for i in range(3,26,2):\n",
    "    #nn1=neighbors.KNeighborsClassifier(n_neighbors=i)\n",
    "    #nn1.fit(X_train_transformed,y_train)\n",
    "    ind.append(i)\n",
    "    clf = make_pipeline(preprocessing.StandardScaler(), neighbors.KNeighborsClassifier(n_neighbors=i))    \n",
    "    scores=cross_val_score(clf, X, y, cv=6)\n",
    "    accuracy.append(np.average(scores))\n",
    "    #test.append(nn1.score(X_test_transformed,y_test))\n",
    "plt.plot(ind,accuracy,marker='o')\n",
    "plt.xlabel('k')\n",
    "plt.ylabel('average accuracy')\n",
    "plt.show()\n",
    "display(HTML(\"<h2>Accuracy Scores</h2>\"))\n",
    "print(accuracy)\n",
    "display(\"The values of k that have the highest accuracy are 9 and 17. I will select the smaller value (9)\")"
   ]
  },
  {
   "cell_type": "code",
   "execution_count": 42,
   "metadata": {},
   "outputs": [
    {
     "data": {
      "text/html": [
       "<h1>Problem 2</h1>"
      ],
      "text/plain": [
       "<IPython.core.display.HTML object>"
      ]
     },
     "metadata": {},
     "output_type": "display_data"
    },
    {
     "data": {
      "text/html": [
       "Note: outside of the assignment I stated to score both training and test sets"
      ],
      "text/plain": [
       "<IPython.core.display.HTML object>"
      ]
     },
     "metadata": {},
     "output_type": "display_data"
    },
    {
     "data": {
      "text/html": [
       "<h2>Results for Test Set</h2>"
      ],
      "text/plain": [
       "<IPython.core.display.HTML object>"
      ]
     },
     "metadata": {},
     "output_type": "display_data"
    },
    {
     "name": "stdout",
     "output_type": "stream",
     "text": [
      "[[46  3]\n",
      " [ 8 21]]\n"
     ]
    },
    {
     "data": {
      "text/html": [
       "<h2>Results for Training Set</h2>"
      ],
      "text/plain": [
       "<IPython.core.display.HTML object>"
      ]
     },
     "metadata": {},
     "output_type": "display_data"
    },
    {
     "name": "stdout",
     "output_type": "stream",
     "text": [
      "[[141  19]\n",
      " [ 21  50]]\n"
     ]
    }
   ],
   "source": [
    "from sklearn.model_selection import train_test_split\n",
    "from sklearn.metrics import classification_report\n",
    "from sklearn.metrics import confusion_matrix\n",
    "import itertools\n",
    "#\n",
    "display(HTML(\"<h1>Problem 2</h1>\"))\n",
    "display(HTML(\"Note: outside of the assignment I stated to score both training and test sets\"))\n",
    "#\n",
    "X_train, X_test, y_train, y_test = train_test_split(X, y, test_size=0.25)\n",
    "scaler = preprocessing.StandardScaler().fit(X_train)\n",
    "X_train_transformed = scaler.transform(X_train)\n",
    "X_test_transformed = scaler.transform(X_test)\n",
    "#\n",
    "nn1=neighbors.KNeighborsClassifier(n_neighbors=9)\n",
    "nn1.fit(X_train_transformed,y_train)\n",
    "#print(\"training set accuracy is %f\"%nn1.score(X_train_transformed,y_train))\n",
    "#print(\"testing set accuracy is %f\"%nn1.score(X_test_transformed,y_test))\n",
    "display(HTML(\"<h2>Results for Test Set</h2>\"))\n",
    "y_pred_test=nn1.predict(X_test_transformed)\n",
    "cm=confusion_matrix(y_test,y_pred_test)\n",
    "print(cm)\n",
    "display(HTML(\"<h2>Results for Training Set</h2>\"))\n",
    "y_pred_train=nn1.predict(X_train_transformed)\n",
    "cm2=confusion_matrix(y_train,y_pred_train)\n",
    "print(cm2)"
   ]
  },
  {
   "cell_type": "markdown",
   "metadata": {},
   "source": [
    "# Problem 3\n",
    "\n",
    "![Problem 3 Solution](h8p3.jpg \"Homework 8 Problem 3 Solution\")"
   ]
  },
  {
   "cell_type": "markdown",
   "metadata": {},
   "source": [
    "# Problem 4\n",
    "\n",
    "Note: This cell needs the counts from problem 3\n",
    "![Problem 4](h8p4.jpg \"Homework 8 Problem 4 Solution\")"
   ]
  },
  {
   "cell_type": "code",
   "execution_count": null,
   "metadata": {},
   "outputs": [],
   "source": []
  }
 ],
 "metadata": {
  "kernelspec": {
   "display_name": "Python 3",
   "language": "python",
   "name": "python3"
  },
  "language_info": {
   "codemirror_mode": {
    "name": "ipython",
    "version": 3
   },
   "file_extension": ".py",
   "mimetype": "text/x-python",
   "name": "python",
   "nbconvert_exporter": "python",
   "pygments_lexer": "ipython3",
   "version": "3.7.3"
  }
 },
 "nbformat": 4,
 "nbformat_minor": 2
}
