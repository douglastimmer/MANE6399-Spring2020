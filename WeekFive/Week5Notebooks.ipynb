{
 "cells": [
  {
   "cell_type": "markdown",
   "metadata": {
    "slideshow": {
     "slide_type": "slide"
    }
   },
   "source": [
    "# Week Six\n",
    "\n",
    "## Multiple Regression Analysis"
   ]
  },
  {
   "cell_type": "code",
   "execution_count": 2,
   "metadata": {
    "slideshow": {
     "slide_type": "slide"
    }
   },
   "outputs": [
    {
     "data": {
      "text/html": [
       "<h1>Top Heading in Output window</h1>"
      ],
      "text/plain": [
       "<IPython.core.display.HTML object>"
      ]
     },
     "metadata": {},
     "output_type": "display_data"
    },
    {
     "data": {
      "text/html": [
       "<p>Any valid HTML code contained withing the quotes&nbsp;</p>"
      ],
      "text/plain": [
       "<IPython.core.display.HTML object>"
      ]
     },
     "metadata": {},
     "output_type": "display_data"
    },
    {
     "data": {
      "text/html": [
       "<p>I have used mainly for adding headers to output windows&nbsp:</p>"
      ],
      "text/plain": [
       "<IPython.core.display.HTML object>"
      ]
     },
     "metadata": {},
     "output_type": "display_data"
    }
   ],
   "source": [
    "# Cell 2\n",
    "from IPython.display import display, HTML, Latex\n",
    "#\n",
    "display(HTML(\"<h1>Top Heading in Output window</h1>\"))\n",
    "display(HTML(\"<p>Any valid HTML code contained withing the quotes&nbsp;</p>\"))\n",
    "display(HTML(\"<p>I have used mainly for adding headers to output windows&nbsp:</p>\"))"
   ]
  },
  {
   "cell_type": "code",
   "execution_count": 3,
   "metadata": {
    "slideshow": {
     "slide_type": "slide"
    }
   },
   "outputs": [
    {
     "data": {
      "text/latex": [
       "$F(z)=\\int_{-\\infty}^zf(x)=\\int_{-\\infty}^z\\frac{1}{\\sqrt{2\\pi}}\\left(\\frac{-x}{2}\\right)^2\\,dx=\\Phi(z)$"
      ],
      "text/plain": [
       "<IPython.core.display.Latex object>"
      ]
     },
     "metadata": {},
     "output_type": "display_data"
    }
   ],
   "source": [
    "# Cell 3\n",
    "from IPython.display import display, HTML, Latex\n",
    "#\n",
    "display(Latex(r\"\"\"$F(z)=\\int_{-\\infty}^zf(x)=\\int_{-\\infty}^z\\frac{1}{\\sqrt{2\\pi}}\\left(\\frac{-x}{2}\\right)^2\\,dx=\\Phi(z)$\"\"\"))"
   ]
  },
  {
   "cell_type": "code",
   "execution_count": 4,
   "metadata": {
    "scrolled": true,
    "slideshow": {
     "slide_type": "slide"
    }
   },
   "outputs": [
    {
     "data": {
      "text/html": [
       "<h2>Concrete Data set</h2>"
      ],
      "text/plain": [
       "<IPython.core.display.HTML object>"
      ]
     },
     "metadata": {},
     "output_type": "display_data"
    },
    {
     "name": "stderr",
     "output_type": "stream",
     "text": [
      "C:\\Users\\fwn285\\AppData\\Local\\Continuum\\anaconda3\\envs\\env_iise\\lib\\site-packages\\pandas\\util\\_decorators.py:188: FutureWarning: The `sheetname` keyword is deprecated, use `sheet_name` instead\n",
      "  return func(*args, **kwargs)\n"
     ]
    },
    {
     "data": {
      "text/html": [
       "<h3>Descriptive Statistics</h3>"
      ],
      "text/plain": [
       "<IPython.core.display.HTML object>"
      ]
     },
     "metadata": {},
     "output_type": "display_data"
    },
    {
     "data": {
      "text/html": [
       "<div>\n",
       "<style scoped>\n",
       "    .dataframe tbody tr th:only-of-type {\n",
       "        vertical-align: middle;\n",
       "    }\n",
       "\n",
       "    .dataframe tbody tr th {\n",
       "        vertical-align: top;\n",
       "    }\n",
       "\n",
       "    .dataframe thead th {\n",
       "        text-align: right;\n",
       "    }\n",
       "</style>\n",
       "<table border=\"1\" class=\"dataframe\">\n",
       "  <thead>\n",
       "    <tr style=\"text-align: right;\">\n",
       "      <th></th>\n",
       "      <th>cement</th>\n",
       "      <th>slag</th>\n",
       "      <th>flyAsh</th>\n",
       "      <th>water</th>\n",
       "      <th>plasticizer</th>\n",
       "      <th>coarse</th>\n",
       "      <th>fine</th>\n",
       "      <th>age</th>\n",
       "      <th>strength</th>\n",
       "    </tr>\n",
       "  </thead>\n",
       "  <tbody>\n",
       "    <tr>\n",
       "      <th>count</th>\n",
       "      <td>1030.000000</td>\n",
       "      <td>1030.000000</td>\n",
       "      <td>1030.000000</td>\n",
       "      <td>1030.000000</td>\n",
       "      <td>1030.000000</td>\n",
       "      <td>1030.000000</td>\n",
       "      <td>1030.000000</td>\n",
       "      <td>1030.000000</td>\n",
       "      <td>1030.000000</td>\n",
       "    </tr>\n",
       "    <tr>\n",
       "      <th>mean</th>\n",
       "      <td>281.165631</td>\n",
       "      <td>73.895485</td>\n",
       "      <td>54.187136</td>\n",
       "      <td>181.566359</td>\n",
       "      <td>6.203112</td>\n",
       "      <td>972.918592</td>\n",
       "      <td>773.578883</td>\n",
       "      <td>45.662136</td>\n",
       "      <td>35.817836</td>\n",
       "    </tr>\n",
       "    <tr>\n",
       "      <th>std</th>\n",
       "      <td>104.507142</td>\n",
       "      <td>86.279104</td>\n",
       "      <td>63.996469</td>\n",
       "      <td>21.355567</td>\n",
       "      <td>5.973492</td>\n",
       "      <td>77.753818</td>\n",
       "      <td>80.175427</td>\n",
       "      <td>63.169912</td>\n",
       "      <td>16.705679</td>\n",
       "    </tr>\n",
       "    <tr>\n",
       "      <th>min</th>\n",
       "      <td>102.000000</td>\n",
       "      <td>0.000000</td>\n",
       "      <td>0.000000</td>\n",
       "      <td>121.750000</td>\n",
       "      <td>0.000000</td>\n",
       "      <td>801.000000</td>\n",
       "      <td>594.000000</td>\n",
       "      <td>1.000000</td>\n",
       "      <td>2.331808</td>\n",
       "    </tr>\n",
       "    <tr>\n",
       "      <th>25%</th>\n",
       "      <td>192.375000</td>\n",
       "      <td>0.000000</td>\n",
       "      <td>0.000000</td>\n",
       "      <td>164.900000</td>\n",
       "      <td>0.000000</td>\n",
       "      <td>932.000000</td>\n",
       "      <td>730.950000</td>\n",
       "      <td>7.000000</td>\n",
       "      <td>23.707115</td>\n",
       "    </tr>\n",
       "    <tr>\n",
       "      <th>50%</th>\n",
       "      <td>272.900000</td>\n",
       "      <td>22.000000</td>\n",
       "      <td>0.000000</td>\n",
       "      <td>185.000000</td>\n",
       "      <td>6.350000</td>\n",
       "      <td>968.000000</td>\n",
       "      <td>779.510000</td>\n",
       "      <td>28.000000</td>\n",
       "      <td>34.442774</td>\n",
       "    </tr>\n",
       "    <tr>\n",
       "      <th>75%</th>\n",
       "      <td>350.000000</td>\n",
       "      <td>142.950000</td>\n",
       "      <td>118.270000</td>\n",
       "      <td>192.000000</td>\n",
       "      <td>10.160000</td>\n",
       "      <td>1029.400000</td>\n",
       "      <td>824.000000</td>\n",
       "      <td>56.000000</td>\n",
       "      <td>46.136287</td>\n",
       "    </tr>\n",
       "    <tr>\n",
       "      <th>max</th>\n",
       "      <td>540.000000</td>\n",
       "      <td>359.400000</td>\n",
       "      <td>200.100000</td>\n",
       "      <td>247.000000</td>\n",
       "      <td>32.200000</td>\n",
       "      <td>1145.000000</td>\n",
       "      <td>992.600000</td>\n",
       "      <td>365.000000</td>\n",
       "      <td>82.599225</td>\n",
       "    </tr>\n",
       "  </tbody>\n",
       "</table>\n",
       "</div>"
      ],
      "text/plain": [
       "            cement         slag       flyAsh        water  plasticizer  \\\n",
       "count  1030.000000  1030.000000  1030.000000  1030.000000  1030.000000   \n",
       "mean    281.165631    73.895485    54.187136   181.566359     6.203112   \n",
       "std     104.507142    86.279104    63.996469    21.355567     5.973492   \n",
       "min     102.000000     0.000000     0.000000   121.750000     0.000000   \n",
       "25%     192.375000     0.000000     0.000000   164.900000     0.000000   \n",
       "50%     272.900000    22.000000     0.000000   185.000000     6.350000   \n",
       "75%     350.000000   142.950000   118.270000   192.000000    10.160000   \n",
       "max     540.000000   359.400000   200.100000   247.000000    32.200000   \n",
       "\n",
       "            coarse         fine          age     strength  \n",
       "count  1030.000000  1030.000000  1030.000000  1030.000000  \n",
       "mean    972.918592   773.578883    45.662136    35.817836  \n",
       "std      77.753818    80.175427    63.169912    16.705679  \n",
       "min     801.000000   594.000000     1.000000     2.331808  \n",
       "25%     932.000000   730.950000     7.000000    23.707115  \n",
       "50%     968.000000   779.510000    28.000000    34.442774  \n",
       "75%    1029.400000   824.000000    56.000000    46.136287  \n",
       "max    1145.000000   992.600000   365.000000    82.599225  "
      ]
     },
     "execution_count": 4,
     "metadata": {},
     "output_type": "execute_result"
    }
   ],
   "source": [
    "# Cell 4\n",
    "from IPython.display import display, HTML, Latex\n",
    "import pandas as pd\n",
    "import statsmodels.formula.api as sm\n",
    "display(HTML(\"<h2>Concrete Data set</h2>\"))\n",
    "df = pd.read_excel('Concrete_Data.xls', sheetname='Sheet1')\n",
    "\n",
    "display(HTML(\"<h3>Descriptive Statistics</h3>\"))\n",
    "df.describe()\n"
   ]
  },
  {
   "cell_type": "code",
   "execution_count": 5,
   "metadata": {
    "slideshow": {
     "slide_type": "slide"
    }
   },
   "outputs": [
    {
     "data": {
      "text/html": [
       "<h3>Regression Analysis</h3>"
      ],
      "text/plain": [
       "<IPython.core.display.HTML object>"
      ]
     },
     "metadata": {},
     "output_type": "display_data"
    },
    {
     "name": "stdout",
     "output_type": "stream",
     "text": [
      "    strength  cement   slag  flyAsh  water  plasticizer  coarse   fine  age\n",
      "0  79.986111   540.0    0.0     0.0  162.0          2.5  1040.0  676.0   28\n",
      "1  61.887366   540.0    0.0     0.0  162.0          2.5  1055.0  676.0   28\n",
      "2  40.269535   332.5  142.5     0.0  228.0          0.0   932.0  594.0  270\n",
      "3  41.052780   332.5  142.5     0.0  228.0          0.0   932.0  594.0  365\n",
      "4  44.296075   198.6  132.4     0.0  192.0          0.0   978.4  825.5  360\n",
      "                            OLS Regression Results                            \n",
      "==============================================================================\n",
      "Dep. Variable:               strength   R-squared:                       0.615\n",
      "Model:                            OLS   Adj. R-squared:                  0.612\n",
      "Method:                 Least Squares   F-statistic:                     204.3\n",
      "Date:                Thu, 13 Feb 2020   Prob (F-statistic):          6.76e-206\n",
      "Time:                        11:17:13   Log-Likelihood:                -3869.0\n",
      "No. Observations:                1030   AIC:                             7756.\n",
      "Df Residuals:                    1021   BIC:                             7800.\n",
      "Df Model:                           8                                         \n",
      "Covariance Type:            nonrobust                                         \n",
      "===============================================================================\n",
      "                  coef    std err          t      P>|t|      [0.025      0.975]\n",
      "-------------------------------------------------------------------------------\n",
      "Intercept     -23.1638     26.588     -0.871      0.384     -75.338      29.010\n",
      "cement          0.1198      0.008     14.110      0.000       0.103       0.136\n",
      "slag            0.1038      0.010     10.245      0.000       0.084       0.124\n",
      "flyAsh          0.0879      0.013      6.988      0.000       0.063       0.113\n",
      "water          -0.1503      0.040     -3.741      0.000      -0.229      -0.071\n",
      "plasticizer     0.2907      0.093      3.110      0.002       0.107       0.474\n",
      "coarse          0.0180      0.009      1.919      0.055      -0.000       0.036\n",
      "fine            0.0202      0.011      1.883      0.060      -0.001       0.041\n",
      "age             0.1142      0.005     21.046      0.000       0.104       0.125\n",
      "==============================================================================\n",
      "Omnibus:                        5.379   Durbin-Watson:                   1.281\n",
      "Prob(Omnibus):                  0.068   Jarque-Bera (JB):                5.305\n",
      "Skew:                          -0.174   Prob(JB):                       0.0705\n",
      "Kurtosis:                       3.045   Cond. No.                     1.06e+05\n",
      "==============================================================================\n",
      "\n",
      "Warnings:\n",
      "[1] Standard Errors assume that the covariance matrix of the errors is correctly specified.\n",
      "[2] The condition number is large, 1.06e+05. This might indicate that there are\n",
      "strong multicollinearity or other numerical problems.\n"
     ]
    }
   ],
   "source": [
    "# Cell 5\n",
    "from IPython.display import display, HTML, Latex\n",
    "display(HTML(\"<h3>Regression Analysis</h3>\"))\n",
    "# clean up data frame\n",
    "df.dropna() # drop missing values\n",
    "df=df[['strength','cement','slag','flyAsh','water','plasticizer','coarse','fine','age']].dropna() # reordered dataframe with y first\n",
    "print(df.head())\n",
    "model1 = sm.ols(formula='strength~cement+slag+flyAsh+water+plasticizer+coarse+fine+age',data=df)\n",
    "fitted1 = model1.fit()\n",
    "print(fitted1.summary())"
   ]
  },
  {
   "cell_type": "code",
   "execution_count": 6,
   "metadata": {
    "slideshow": {
     "slide_type": "slide"
    }
   },
   "outputs": [
    {
     "data": {
      "text/html": [
       "<h3>Anova Table</h3>"
      ],
      "text/plain": [
       "<IPython.core.display.HTML object>"
      ]
     },
     "metadata": {},
     "output_type": "display_data"
    },
    {
     "name": "stdout",
     "output_type": "stream",
     "text": [
      "       Source      df  Sum of Squares   Mean Square F Statistic       p value\n",
      "0  Regression     8.0   110428.156817  22093.108958     204.269  6.76158e-206\n",
      "1       Error  1021.0   176744.871661    108.156863                          \n",
      "2       Total  1029.0   287173.028478    279.079717                          \n"
     ]
    }
   ],
   "source": [
    "# Cell 6\n",
    "import pandas as pd\n",
    "from IPython.display import display, HTML, Latex\n",
    "display(HTML(\"<h3>Anova Table</h3>\"))\n",
    "\n",
    "def prepANOVAtable(model):\n",
    "    tmp={'Source':['Regression','Error','Total'],'df': [model.df_model,model.df_resid,model.df_model+model.df_resid],'Sum of Squares':[model.ssr,model.ess,model.ssr+model.ess],'Mean Square':[model.mse_model,model.mse_resid,model.mse_total],'F Statistic':[model.fvalue,'',''],'p value':[model.f_pvalue,'','']}\n",
    "    anova_df=pd.DataFrame(data=tmp)\n",
    "    anova_df=anova_df[['Source','df','Sum of Squares','Mean Square','F Statistic','p value']]\n",
    "    return(anova_df)\n",
    "anova1_df=prepANOVAtable(fitted1)\n",
    "print(anova1_df)\n"
   ]
  },
  {
   "cell_type": "code",
   "execution_count": 7,
   "metadata": {
    "slideshow": {
     "slide_type": "slide"
    }
   },
   "outputs": [
    {
     "data": {
      "text/html": [
       "<h2>Variance Inflation Factors</h2>"
      ],
      "text/plain": [
       "<IPython.core.display.HTML object>"
      ]
     },
     "metadata": {},
     "output_type": "display_data"
    },
    {
     "data": {
      "text/html": [
       "<div>\n",
       "<style scoped>\n",
       "    .dataframe tbody tr th:only-of-type {\n",
       "        vertical-align: middle;\n",
       "    }\n",
       "\n",
       "    .dataframe tbody tr th {\n",
       "        vertical-align: top;\n",
       "    }\n",
       "\n",
       "    .dataframe thead th {\n",
       "        text-align: right;\n",
       "    }\n",
       "</style>\n",
       "<table border=\"1\" class=\"dataframe\">\n",
       "  <thead>\n",
       "    <tr style=\"text-align: right;\">\n",
       "      <th></th>\n",
       "      <th>Variable</th>\n",
       "      <th>VIF Factor</th>\n",
       "    </tr>\n",
       "  </thead>\n",
       "  <tbody>\n",
       "    <tr>\n",
       "      <th>0</th>\n",
       "      <td>cement</td>\n",
       "      <td>15.468620</td>\n",
       "    </tr>\n",
       "    <tr>\n",
       "      <th>1</th>\n",
       "      <td>slag</td>\n",
       "      <td>3.330359</td>\n",
       "    </tr>\n",
       "    <tr>\n",
       "      <th>2</th>\n",
       "      <td>flyAsh</td>\n",
       "      <td>4.148893</td>\n",
       "    </tr>\n",
       "    <tr>\n",
       "      <th>3</th>\n",
       "      <td>water</td>\n",
       "      <td>82.150840</td>\n",
       "    </tr>\n",
       "    <tr>\n",
       "      <th>4</th>\n",
       "      <td>plasticizer</td>\n",
       "      <td>5.472391</td>\n",
       "    </tr>\n",
       "    <tr>\n",
       "      <th>5</th>\n",
       "      <td>coarse</td>\n",
       "      <td>84.959460</td>\n",
       "    </tr>\n",
       "    <tr>\n",
       "      <th>6</th>\n",
       "      <td>fine</td>\n",
       "      <td>72.795397</td>\n",
       "    </tr>\n",
       "    <tr>\n",
       "      <th>7</th>\n",
       "      <td>age</td>\n",
       "      <td>1.699430</td>\n",
       "    </tr>\n",
       "  </tbody>\n",
       "</table>\n",
       "</div>"
      ],
      "text/plain": [
       "      Variable  VIF Factor\n",
       "0       cement   15.468620\n",
       "1         slag    3.330359\n",
       "2       flyAsh    4.148893\n",
       "3        water   82.150840\n",
       "4  plasticizer    5.472391\n",
       "5       coarse   84.959460\n",
       "6         fine   72.795397\n",
       "7          age    1.699430"
      ]
     },
     "execution_count": 7,
     "metadata": {},
     "output_type": "execute_result"
    }
   ],
   "source": [
    "# Cell 7\n",
    "from statsmodels.stats.outliers_influence import variance_inflation_factor\n",
    "from IPython.display import display, HTML, Latex\n",
    "import pandas as pd\n",
    "display(HTML(\"<h2>Variance Inflation Factors</h2>\"))\n",
    "# drop missing values and create array of x variables\n",
    "df=df.dropna()\n",
    "exog1=df.drop('strength',axis=1)\n",
    "# calculate VIF and save in data frame\n",
    "vif1=pd.DataFrame()\n",
    "vif1[\"VIF Factor\"]=[variance_inflation_factor(exog1.values,i) for i in range(exog1.shape[1])]\n",
    "vif1[\"Variable\"]=exog1.columns\n",
    "vif1=vif1[[\"Variable\",\"VIF Factor\"]]\n",
    "vif1\n"
   ]
  },
  {
   "cell_type": "code",
   "execution_count": 9,
   "metadata": {
    "slideshow": {
     "slide_type": "slide"
    }
   },
   "outputs": [
    {
     "data": {
      "text/html": [
       "<h2>Partial F Test</h2>"
      ],
      "text/plain": [
       "<IPython.core.display.HTML object>"
      ]
     },
     "metadata": {},
     "output_type": "display_data"
    },
    {
     "data": {
      "text/html": [
       "<h3> Full Model</h3>"
      ],
      "text/plain": [
       "<IPython.core.display.HTML object>"
      ]
     },
     "metadata": {},
     "output_type": "display_data"
    },
    {
     "name": "stdout",
     "output_type": "stream",
     "text": [
      "       Source      df  Sum of Squares   Mean Square F Statistic       p value\n",
      "0  Regression     8.0   110428.156817  22093.108958     204.269  6.76158e-206\n",
      "1       Error  1021.0   176744.871661    108.156863                          \n",
      "2       Total  1029.0   287173.028478    279.079717                          \n"
     ]
    },
    {
     "data": {
      "text/html": [
       "<h3>Reduced Model</h3>"
      ],
      "text/plain": [
       "<IPython.core.display.HTML object>"
      ]
     },
     "metadata": {},
     "output_type": "display_data"
    },
    {
     "name": "stdout",
     "output_type": "stream",
     "text": [
      "       Source      df  Sum of Squares   Mean Square F Statistic       p value\n",
      "0  Regression     6.0   110855.967752  29386.176788     271.181  1.77977e-207\n",
      "1       Error  1023.0   176317.060726    108.363605                          \n",
      "2       Total  1029.0   287173.028478    279.079717                          \n"
     ]
    }
   ],
   "source": [
    "# Cell 8\n",
    "import statsmodels.formula.api as sm\n",
    "display(HTML(\"<h2>Partial F Test</h2>\"))\n",
    "display(HTML(\"<h3> Full Model</h3>\"))\n",
    "# full modelimport statsmodels.formula.api as sm\n",
    "\n",
    "print(anova1_df)\n",
    "# reduced model\n",
    "display(HTML(\"<h3>Reduced Model</h3>\"))\n",
    "model2 = sm.ols(formula='strength~cement+slag+flyAsh+water+plasticizer+age',data=df)\n",
    "fitted2 = model2.fit()\n",
    "anova2_df=prepANOVAtable(fitted2)\n",
    "print(anova2_df)"
   ]
  },
  {
   "cell_type": "code",
   "execution_count": 10,
   "metadata": {
    "slideshow": {
     "slide_type": "slide"
    }
   },
   "outputs": [
    {
     "data": {
      "text/html": [
       "<h2>Forward Variable Selection"
      ],
      "text/plain": [
       "<IPython.core.display.HTML object>"
      ]
     },
     "metadata": {},
     "output_type": "display_data"
    },
    {
     "data": {
      "text/html": [
       "<a href='https://planspace.org/20150423-forward_selection_with_statsmodels/'>Source</a>"
      ],
      "text/plain": [
       "<IPython.core.display.HTML object>"
      ]
     },
     "metadata": {},
     "output_type": "display_data"
    },
    {
     "name": "stdout",
     "output_type": "stream",
     "text": [
      "strength ~ cement + plasticizer + age + slag + water + flyAsh + 1\n",
      "0.6117109257365057\n"
     ]
    }
   ],
   "source": [
    "# Cell 9\n",
    "import statsmodels.formula.api as smf\n",
    "display(HTML(\"<h2>Forward Variable Selection\"))\n",
    "display(HTML(\"<a href='https://planspace.org/20150423-forward_selection_with_statsmodels/'>Source</a>\"))\n",
    "def forward_selection(data, response):\n",
    "    \"\"\"Linear model designed by forward selection.\n",
    "\n",
    "    Parameters:\n",
    "    -----------\n",
    "    data : pandas DataFrame with all possible predictors and response\n",
    "\n",
    "    response: string, name of response column in data\n",
    "\n",
    "    Returns:\n",
    "    --------\n",
    "    model: an \"optimal\" fitted statsmodels linear model\n",
    "           with an intercept\n",
    "           selected by forward selection\n",
    "           evaluated by adjusted R-squared\n",
    "    \"\"\"\n",
    "    remaining = set(data.columns)\n",
    "    remaining.remove(response)\n",
    "    selected = []\n",
    "    current_score, best_new_score = 0.0, 0.0\n",
    "    while remaining and current_score == best_new_score:\n",
    "        scores_with_candidates = []\n",
    "        for candidate in remaining:\n",
    "            formula = \"{} ~ {} + 1\".format(response,\n",
    "                                           ' + '.join(selected + [candidate]))\n",
    "            score = smf.ols(formula, data).fit().rsquared_adj\n",
    "            scores_with_candidates.append((score, candidate))\n",
    "        scores_with_candidates.sort()\n",
    "        best_new_score, best_candidate = scores_with_candidates.pop()\n",
    "        if current_score < best_new_score:\n",
    "            remaining.remove(best_candidate)\n",
    "            selected.append(best_candidate)\n",
    "            current_score = best_new_score\n",
    "    formula = \"{} ~ {} + 1\".format(response,\n",
    "                                   ' + '.join(selected))\n",
    "    model = smf.ols(formula, data).fit()\n",
    "    return model\n",
    "forward=forward_selection(df,'strength')\n",
    "print(forward.model.formula)\n",
    "print(forward.rsquared_adj)"
   ]
  },
  {
   "cell_type": "code",
   "execution_count": 11,
   "metadata": {
    "slideshow": {
     "slide_type": "slide"
    }
   },
   "outputs": [
    {
     "data": {
      "text/html": [
       "<h2>Step Variable Selection"
      ],
      "text/plain": [
       "<IPython.core.display.HTML object>"
      ]
     },
     "metadata": {},
     "output_type": "display_data"
    },
    {
     "data": {
      "text/html": [
       "<a href='https://datascience.stackexchange.com/questions/24405/how-to-do-stepwise-regression-using-sklearn'>Source</a>"
      ],
      "text/plain": [
       "<IPython.core.display.HTML object>"
      ]
     },
     "metadata": {},
     "output_type": "display_data"
    },
    {
     "name": "stderr",
     "output_type": "stream",
     "text": [
      "C:\\Users\\fwn285\\AppData\\Local\\Continuum\\anaconda3\\envs\\env_iise\\lib\\site-packages\\numpy\\core\\fromnumeric.py:2389: FutureWarning: Method .ptp is deprecated and will be removed in a future version. Use numpy.ptp instead.\n",
      "  return ptp(axis=axis, out=out, **kwargs)\n",
      "C:\\Users\\fwn285\\AppData\\Local\\Continuum\\anaconda3\\envs\\env_iise\\lib\\site-packages\\ipykernel_launcher.py:35: FutureWarning: \n",
      "The current behaviour of 'Series.argmin' is deprecated, use 'idxmin'\n",
      "instead.\n",
      "The behavior of 'argmin' will be corrected to return the positional\n",
      "minimum in the future. For now, use 'series.values.argmin' or\n",
      "'np.argmin(np.array(values))' to get the position of the minimum\n",
      "row.\n"
     ]
    },
    {
     "name": "stdout",
     "output_type": "stream",
     "text": [
      "Add  strength                       with p-value 0.0\n",
      "Add  fine                           with p-value 6.90229e-60\n",
      "Add  water                          with p-value 2.43286e-19\n",
      "Add  coarse                         with p-value 1.04171e-24\n",
      "Drop fine                           with p-value 0.650579\n",
      "Add  slag                           with p-value 1.10987e-61\n"
     ]
    },
    {
     "name": "stderr",
     "output_type": "stream",
     "text": [
      "C:\\Users\\fwn285\\AppData\\Local\\Continuum\\anaconda3\\envs\\env_iise\\lib\\site-packages\\ipykernel_launcher.py:48: FutureWarning: \n",
      "The current behaviour of 'Series.argmax' is deprecated, use 'idxmax'\n",
      "instead.\n",
      "The behavior of 'argmax' will be corrected to return the positional\n",
      "maximum in the future. For now, use 'series.values.argmax' or\n",
      "'np.argmax(np.array(values))' to get the position of the maximum\n",
      "row.\n"
     ]
    },
    {
     "name": "stdout",
     "output_type": "stream",
     "text": [
      "Drop water                          with p-value 0.599631\n",
      "Add  plasticizer                    with p-value 0.0008551\n",
      "Drop slag                           with p-value 0.779371\n",
      "Add  flyAsh                         with p-value 2.5496e-19\n",
      "Drop coarse                         with p-value 0.122845\n",
      "Add  slag                           with p-value 2.72804e-75\n",
      "Drop plasticizer                    with p-value 0.473062\n",
      "Add  fine                           with p-value 1.00431e-123\n",
      "Add  cement                         with p-value 5.31541e-07\n",
      "resulting features:\n",
      "['strength', 'flyAsh', 'slag', 'fine', 'cement']\n"
     ]
    }
   ],
   "source": [
    "# Cell 10\n",
    "import statsmodels.api as sm\n",
    "display(HTML(\"<h2>Step Variable Selection\"))\n",
    "display(HTML(\"<a href='https://datascience.stackexchange.com/questions/24405/how-to-do-stepwise-regression-using-sklearn'>Source</a>\"))\n",
    "\n",
    "def stepwise_selection(X, y, \n",
    "                       initial_list=[], \n",
    "                       threshold_in=0.01, \n",
    "                       threshold_out = 0.05, \n",
    "                       verbose=True):\n",
    "    \"\"\" Perform a forward-backward feature selection \n",
    "    based on p-value from statsmodels.api.OLS\n",
    "    Arguments:\n",
    "        X - pandas.DataFrame with candidate features\n",
    "        y - list-like with the target\n",
    "        initial_list - list of features to start with (column names of X)\n",
    "        threshold_in - include a feature if its p-value < threshold_in\n",
    "        threshold_out - exclude a feature if its p-value > threshold_out\n",
    "        verbose - whether to print the sequence of inclusions and exclusions\n",
    "    Returns: list of selected features \n",
    "    Always set threshold_in < threshold_out to avoid infinite looping.\n",
    "    See https://en.wikipedia.org/wiki/Stepwise_regression for the details\n",
    "    \"\"\"\n",
    "    included = list(initial_list)\n",
    "    while True:\n",
    "        changed=False\n",
    "        # forward step\n",
    "        excluded = list(set(X.columns)-set(included))\n",
    "        new_pval = pd.Series(index=excluded)\n",
    "        for new_column in excluded:\n",
    "            model = sm.OLS(y, sm.add_constant(pd.DataFrame(X[included+[new_column]]))).fit()\n",
    "            new_pval[new_column] = model.pvalues[new_column]\n",
    "        best_pval = new_pval.min()\n",
    "        if best_pval < threshold_in:\n",
    "            best_feature = new_pval.argmin()\n",
    "            included.append(best_feature)\n",
    "            changed=True\n",
    "            if verbose:\n",
    "                print('Add  {:30} with p-value {:.6}'.format(best_feature, best_pval))\n",
    "\n",
    "        # backward step\n",
    "        model = sm.OLS(y, sm.add_constant(pd.DataFrame(X[included]))).fit()\n",
    "        # use all coefs except intercept\n",
    "        pvalues = model.pvalues.iloc[1:]\n",
    "        worst_pval = pvalues.max() # null if pvalues is empty\n",
    "        if worst_pval > threshold_out:\n",
    "            changed=True\n",
    "            worst_feature = pvalues.argmax()\n",
    "            included.remove(worst_feature)\n",
    "            if verbose:\n",
    "                print('Drop {:30} with p-value {:.6}'.format(worst_feature, worst_pval))\n",
    "        if not changed:\n",
    "            break\n",
    "    return included\n",
    "X=df\n",
    "y=df[\"strength\"]\n",
    "result = stepwise_selection(X, y)\n",
    "\n",
    "print('resulting features:')\n",
    "print(result)"
   ]
  },
  {
   "cell_type": "code",
   "execution_count": 12,
   "metadata": {
    "slideshow": {
     "slide_type": "slide"
    }
   },
   "outputs": [
    {
     "data": {
      "text/html": [
       "<h2>Best Subsets"
      ],
      "text/plain": [
       "<IPython.core.display.HTML object>"
      ]
     },
     "metadata": {},
     "output_type": "display_data"
    },
    {
     "data": {
      "text/html": [
       "<a href='http://songhuiming.github.io/pages/2015/09/26/best-subset-regression-in-python/'>Source</a>"
      ],
      "text/plain": [
       "<IPython.core.display.HTML object>"
      ]
     },
     "metadata": {},
     "output_type": "display_data"
    },
    {
     "name": "stdout",
     "output_type": "stream",
     "text": [
      "evaluating model with inputs (0,), adjusted R^2 is 0.247106\n",
      "evaluating model with inputs (1,), adjusted R^2 is 0.017223\n",
      "evaluating model with inputs (2,), adjusted R^2 is 0.010222\n",
      "evaluating model with inputs (3,), adjusted R^2 is 0.082985\n",
      "evaluating model with inputs (4,), adjusted R^2 is 0.133189\n",
      "evaluating model with inputs (5,), adjusted R^2 is 0.026255\n",
      "evaluating model with inputs (6,), adjusted R^2 is 0.027027\n",
      "evaluating model with inputs (7,), adjusted R^2 is 0.107293\n",
      "evaluating model with inputs (0, 1), adjusted R^2 is 0.326471\n",
      "evaluating model with inputs (0, 2), adjusted R^2 is 0.256471\n",
      "evaluating model with inputs (0, 3), adjusted R^2 is 0.308919\n",
      "evaluating model with inputs (0, 4), adjusted R^2 is 0.349810\n",
      "evaluating model with inputs (0, 5), adjusted R^2 is 0.258752\n",
      "evaluating model with inputs (0, 6), adjusted R^2 is 0.249723\n",
      "evaluating model with inputs (0, 7), adjusted R^2 is 0.330087\n",
      "evaluating model with inputs (1, 2), adjusted R^2 is 0.020585\n",
      "evaluating model with inputs (1, 3), adjusted R^2 is 0.109988\n",
      "evaluating model with inputs (1, 4), adjusted R^2 is 0.146547\n",
      "evaluating model with inputs (1, 5), adjusted R^2 is 0.033744\n",
      "evaluating model with inputs (1, 6), adjusted R^2 is 0.034455\n",
      "evaluating model with inputs (1, 7), adjusted R^2 is 0.128824\n",
      "evaluating model with inputs (2, 3), adjusted R^2 is 0.116928\n",
      "evaluating model with inputs (2, 4), adjusted R^2 is 0.201842\n",
      "evaluating model with inputs (2, 5), adjusted R^2 is 0.036865\n",
      "evaluating model with inputs (2, 6), adjusted R^2 is 0.034711\n",
      "evaluating model with inputs (2, 7), adjusted R^2 is 0.109526\n",
      "evaluating model with inputs (3, 4), adjusted R^2 is 0.136567\n",
      "evaluating model with inputs (3, 5), adjusted R^2 is 0.131223\n",
      "evaluating model with inputs (3, 6), adjusted R^2 is 0.193561\n",
      "evaluating model with inputs (3, 7), adjusted R^2 is 0.263938\n",
      "evaluating model with inputs (4, 5), adjusted R^2 is 0.137248\n",
      "evaluating model with inputs (4, 6), adjusted R^2 is 0.197548\n",
      "evaluating model with inputs (4, 7), adjusted R^2 is 0.298366\n",
      "evaluating model with inputs (5, 6), adjusted R^2 is 0.065345\n",
      "evaluating model with inputs (5, 7), adjusted R^2 is 0.133351\n",
      "evaluating model with inputs (6, 7), adjusted R^2 is 0.120222\n",
      "evaluating model with inputs (0, 1, 2), adjusted R^2 is 0.401378\n",
      "evaluating model with inputs (0, 1, 3), adjusted R^2 is 0.402197\n",
      "evaluating model with inputs (0, 1, 4), adjusted R^2 is 0.417124\n",
      "evaluating model with inputs (0, 1, 5), adjusted R^2 is 0.326188\n",
      "evaluating model with inputs (0, 1, 6), adjusted R^2 is 0.328224\n",
      "evaluating model with inputs (0, 1, 7), adjusted R^2 is 0.413409\n",
      "evaluating model with inputs (0, 2, 3), adjusted R^2 is 0.308752\n",
      "evaluating model with inputs (0, 2, 4), adjusted R^2 is 0.351763\n",
      "evaluating model with inputs (0, 2, 5), adjusted R^2 is 0.266899\n",
      "evaluating model with inputs (0, 2, 6), adjusted R^2 is 0.258978\n",
      "evaluating model with inputs (0, 2, 7), adjusted R^2 is 0.349131\n",
      "evaluating model with inputs (0, 3, 4), adjusted R^2 is 0.351906\n",
      "evaluating model with inputs (0, 3, 5), adjusted R^2 is 0.334708\n",
      "evaluating model with inputs (0, 3, 6), adjusted R^2 is 0.349838\n",
      "evaluating model with inputs (0, 3, 7), adjusted R^2 is 0.450262\n",
      "evaluating model with inputs (0, 4, 5), adjusted R^2 is 0.350018\n",
      "evaluating model with inputs (0, 4, 6), adjusted R^2 is 0.369647\n",
      "evaluating model with inputs (0, 4, 7), adjusted R^2 is 0.480133\n",
      "evaluating model with inputs (0, 5, 6), adjusted R^2 is 0.264927\n",
      "evaluating model with inputs (0, 5, 7), adjusted R^2 is 0.342216\n",
      "evaluating model with inputs (0, 6, 7), adjusted R^2 is 0.329724\n",
      "evaluating model with inputs (1, 2, 3), adjusted R^2 is 0.129333\n",
      "evaluating model with inputs (1, 2, 4), adjusted R^2 is 0.201640\n",
      "evaluating model with inputs (1, 2, 5), adjusted R^2 is 0.039383\n",
      "evaluating model with inputs (1, 2, 6), adjusted R^2 is 0.038077\n",
      "evaluating model with inputs (1, 2, 7), adjusted R^2 is 0.128010\n",
      "evaluating model with inputs (1, 3, 4), adjusted R^2 is 0.153453\n",
      "evaluating model with inputs (1, 3, 5), adjusted R^2 is 0.142755\n",
      "evaluating model with inputs (1, 3, 6), adjusted R^2 is 0.199534\n",
      "evaluating model with inputs (1, 3, 7), adjusted R^2 is 0.303530\n",
      "evaluating model with inputs (1, 4, 5), adjusted R^2 is 0.147149\n",
      "evaluating model with inputs (1, 4, 6), adjusted R^2 is 0.198782\n",
      "evaluating model with inputs (1, 4, 7), adjusted R^2 is 0.315704\n",
      "evaluating model with inputs (1, 5, 6), adjusted R^2 is 0.064956\n",
      "evaluating model with inputs (1, 5, 7), adjusted R^2 is 0.144059\n",
      "evaluating model with inputs (1, 6, 7), adjusted R^2 is 0.133921\n",
      "evaluating model with inputs (2, 3, 4), adjusted R^2 is 0.205743\n",
      "evaluating model with inputs (2, 3, 5), adjusted R^2 is 0.170519\n",
      "evaluating model with inputs (2, 3, 6), adjusted R^2 is 0.233236\n",
      "evaluating model with inputs (2, 3, 7), adjusted R^2 is 0.285476\n",
      "evaluating model with inputs (2, 4, 5), adjusted R^2 is 0.202960\n",
      "evaluating model with inputs (2, 4, 6), adjusted R^2 is 0.267064\n",
      "evaluating model with inputs (2, 4, 7), adjusted R^2 is 0.349687\n",
      "evaluating model with inputs (2, 5, 6), adjusted R^2 is 0.072919\n",
      "evaluating model with inputs (2, 5, 7), adjusted R^2 is 0.135809\n",
      "evaluating model with inputs (2, 6, 7), adjusted R^2 is 0.121784\n",
      "evaluating model with inputs (3, 4, 5), adjusted R^2 is 0.149468\n",
      "evaluating model with inputs (3, 4, 6), adjusted R^2 is 0.232007\n",
      "evaluating model with inputs (3, 4, 7), adjusted R^2 is 0.320604\n",
      "evaluating model with inputs (3, 5, 6), adjusted R^2 is 0.305753\n",
      "evaluating model with inputs (3, 5, 7), adjusted R^2 is 0.322546\n",
      "evaluating model with inputs (3, 6, 7), adjusted R^2 is 0.364868\n",
      "evaluating model with inputs (4, 5, 6), adjusted R^2 is 0.207441\n",
      "evaluating model with inputs (4, 5, 7), adjusted R^2 is 0.299865\n",
      "evaluating model with inputs (4, 6, 7), adjusted R^2 is 0.341237\n",
      "evaluating model with inputs (5, 6, 7), adjusted R^2 is 0.154931\n",
      "evaluating model with inputs (0, 1, 2, 3), adjusted R^2 is 0.440853\n",
      "evaluating model with inputs (0, 1, 2, 4), adjusted R^2 is 0.432683\n",
      "evaluating model with inputs (0, 1, 2, 5), adjusted R^2 is 0.403953\n",
      "evaluating model with inputs (0, 1, 2, 6), adjusted R^2 is 0.414446\n",
      "evaluating model with inputs (0, 1, 2, 7), adjusted R^2 is 0.520822\n",
      "evaluating model with inputs (0, 1, 3, 4), adjusted R^2 is 0.426731\n",
      "evaluating model with inputs (0, 1, 3, 5), adjusted R^2 is 0.406315\n",
      "evaluating model with inputs (0, 1, 3, 6), adjusted R^2 is 0.411099\n",
      "evaluating model with inputs (0, 1, 3, 7), adjusted R^2 is 0.556023\n",
      "evaluating model with inputs (0, 1, 4, 5), adjusted R^2 is 0.419916\n",
      "evaluating model with inputs (0, 1, 4, 6), adjusted R^2 is 0.418405\n",
      "evaluating model with inputs (0, 1, 4, 7), adjusted R^2 is 0.549222\n",
      "evaluating model with inputs (0, 1, 5, 6), adjusted R^2 is 0.327570\n",
      "evaluating model with inputs (0, 1, 5, 7), adjusted R^2 is 0.413193\n",
      "evaluating model with inputs (0, 1, 6, 7), adjusted R^2 is 0.422476\n",
      "evaluating model with inputs (0, 2, 3, 4), adjusted R^2 is 0.354023\n",
      "evaluating model with inputs (0, 2, 3, 5), adjusted R^2 is 0.334062\n",
      "evaluating model with inputs (0, 2, 3, 6), adjusted R^2 is 0.349525\n",
      "evaluating model with inputs (0, 2, 3, 7), adjusted R^2 is 0.451344\n",
      "evaluating model with inputs (0, 2, 4, 5), adjusted R^2 is 0.351787\n",
      "evaluating model with inputs (0, 2, 4, 6), adjusted R^2 is 0.374250\n",
      "evaluating model with inputs (0, 2, 4, 7), adjusted R^2 is 0.480758\n",
      "evaluating model with inputs (0, 2, 5, 6), adjusted R^2 is 0.272731\n",
      "evaluating model with inputs (0, 2, 5, 7), adjusted R^2 is 0.359542\n",
      "evaluating model with inputs (0, 2, 6, 7), adjusted R^2 is 0.348660\n",
      "evaluating model with inputs (0, 3, 4, 5), adjusted R^2 is 0.355289\n",
      "evaluating model with inputs (0, 3, 4, 6), adjusted R^2 is 0.385229\n",
      "evaluating model with inputs (0, 3, 4, 7), adjusted R^2 is 0.496646\n",
      "evaluating model with inputs (0, 3, 5, 6), adjusted R^2 is 0.412002\n",
      "evaluating model with inputs (0, 3, 5, 7), adjusted R^2 is 0.484962\n",
      "evaluating model with inputs (0, 3, 6, 7), adjusted R^2 is 0.490668\n",
      "evaluating model with inputs (0, 4, 5, 6), adjusted R^2 is 0.371713\n",
      "evaluating model with inputs (0, 4, 5, 7), adjusted R^2 is 0.479755\n",
      "evaluating model with inputs (0, 4, 6, 7), adjusted R^2 is 0.491461\n",
      "evaluating model with inputs (0, 5, 6, 7), adjusted R^2 is 0.343320\n",
      "evaluating model with inputs (1, 2, 3, 4), adjusted R^2 is 0.206384\n",
      "evaluating model with inputs (1, 2, 3, 5), adjusted R^2 is 0.171863\n",
      "evaluating model with inputs (1, 2, 3, 6), adjusted R^2 is 0.232761\n",
      "evaluating model with inputs (1, 2, 3, 7), adjusted R^2 is 0.310986\n"
     ]
    },
    {
     "name": "stdout",
     "output_type": "stream",
     "text": [
      "evaluating model with inputs (1, 2, 4, 5), adjusted R^2 is 0.202349\n",
      "evaluating model with inputs (1, 2, 4, 6), adjusted R^2 is 0.270260\n",
      "evaluating model with inputs (1, 2, 4, 7), adjusted R^2 is 0.351878\n",
      "evaluating model with inputs (1, 2, 5, 6), adjusted R^2 is 0.072088\n",
      "evaluating model with inputs (1, 2, 5, 7), adjusted R^2 is 0.143664\n",
      "evaluating model with inputs (1, 2, 6, 7), adjusted R^2 is 0.133167\n",
      "evaluating model with inputs (1, 3, 4, 5), adjusted R^2 is 0.160621\n",
      "evaluating model with inputs (1, 3, 4, 6), adjusted R^2 is 0.234537\n",
      "evaluating model with inputs (1, 3, 4, 7), adjusted R^2 is 0.347663\n",
      "evaluating model with inputs (1, 3, 5, 6), adjusted R^2 is 0.307436\n",
      "evaluating model with inputs (1, 3, 5, 7), adjusted R^2 is 0.341700\n",
      "evaluating model with inputs (1, 3, 6, 7), adjusted R^2 is 0.378694\n",
      "evaluating model with inputs (1, 4, 5, 6), adjusted R^2 is 0.206778\n",
      "evaluating model with inputs (1, 4, 5, 7), adjusted R^2 is 0.315112\n",
      "evaluating model with inputs (1, 4, 6, 7), adjusted R^2 is 0.346074\n",
      "evaluating model with inputs (1, 5, 6, 7), adjusted R^2 is 0.157334\n",
      "evaluating model with inputs (2, 3, 4, 5), adjusted R^2 is 0.212872\n",
      "evaluating model with inputs (2, 3, 4, 6), adjusted R^2 is 0.303305\n",
      "evaluating model with inputs (2, 3, 4, 7), adjusted R^2 is 0.371609\n",
      "evaluating model with inputs (2, 3, 5, 6), adjusted R^2 is 0.356809\n",
      "evaluating model with inputs (2, 3, 5, 7), adjusted R^2 is 0.348474\n",
      "evaluating model with inputs (2, 3, 6, 7), adjusted R^2 is 0.391184\n",
      "evaluating model with inputs (2, 4, 5, 6), adjusted R^2 is 0.272252\n",
      "evaluating model with inputs (2, 4, 5, 7), adjusted R^2 is 0.349667\n",
      "evaluating model with inputs (2, 4, 6, 7), adjusted R^2 is 0.394221\n",
      "evaluating model with inputs (2, 5, 6, 7), adjusted R^2 is 0.156536\n",
      "evaluating model with inputs (3, 4, 5, 6), adjusted R^2 is 0.305082\n",
      "evaluating model with inputs (3, 4, 5, 7), adjusted R^2 is 0.339308\n",
      "evaluating model with inputs (3, 4, 6, 7), adjusted R^2 is 0.406580\n",
      "evaluating model with inputs (3, 5, 6, 7), adjusted R^2 is 0.489450\n",
      "evaluating model with inputs (4, 5, 6, 7), adjusted R^2 is 0.346309\n",
      "evaluating model with inputs (0, 1, 2, 3, 4), adjusted R^2 is 0.445067\n",
      "evaluating model with inputs (0, 1, 2, 3, 5), adjusted R^2 is 0.440307\n",
      "evaluating model with inputs (0, 1, 2, 3, 6), adjusted R^2 is 0.440338\n",
      "evaluating model with inputs (0, 1, 2, 3, 7), adjusted R^2 is 0.609063\n",
      "evaluating model with inputs (0, 1, 2, 4, 5), adjusted R^2 is 0.438391\n",
      "evaluating model with inputs (0, 1, 2, 4, 6), adjusted R^2 is 0.432766\n",
      "evaluating model with inputs (0, 1, 2, 4, 7), adjusted R^2 is 0.571613\n",
      "evaluating model with inputs (0, 1, 2, 5, 6), adjusted R^2 is 0.429591\n",
      "evaluating model with inputs (0, 1, 2, 5, 7), adjusted R^2 is 0.525686\n",
      "evaluating model with inputs (0, 1, 2, 6, 7), adjusted R^2 is 0.557819\n",
      "evaluating model with inputs (0, 1, 3, 4, 5), adjusted R^2 is 0.426312\n",
      "evaluating model with inputs (0, 1, 3, 4, 6), adjusted R^2 is 0.434534\n",
      "evaluating model with inputs (0, 1, 3, 4, 7), adjusted R^2 is 0.582181\n",
      "evaluating model with inputs (0, 1, 3, 5, 6), adjusted R^2 is 0.430871\n",
      "evaluating model with inputs (0, 1, 3, 5, 7), adjusted R^2 is 0.563531\n",
      "evaluating model with inputs (0, 1, 3, 6, 7), adjusted R^2 is 0.563275\n",
      "evaluating model with inputs (0, 1, 4, 5, 6), adjusted R^2 is 0.420003\n",
      "evaluating model with inputs (0, 1, 4, 5, 7), adjusted R^2 is 0.554860\n",
      "evaluating model with inputs (0, 1, 4, 6, 7), adjusted R^2 is 0.548794\n",
      "evaluating model with inputs (0, 1, 5, 6, 7), adjusted R^2 is 0.422310\n",
      "evaluating model with inputs (0, 2, 3, 4, 5), adjusted R^2 is 0.357024\n",
      "evaluating model with inputs (0, 2, 3, 4, 6), adjusted R^2 is 0.391995\n",
      "evaluating model with inputs (0, 2, 3, 4, 7), adjusted R^2 is 0.497467\n",
      "evaluating model with inputs (0, 2, 3, 5, 6), adjusted R^2 is 0.416858\n",
      "evaluating model with inputs (0, 2, 3, 5, 7), adjusted R^2 is 0.484739\n",
      "evaluating model with inputs (0, 2, 3, 6, 7), adjusted R^2 is 0.490171\n",
      "evaluating model with inputs (0, 2, 4, 5, 6), adjusted R^2 is 0.375987\n",
      "evaluating model with inputs (0, 2, 4, 5, 7), adjusted R^2 is 0.480335\n",
      "evaluating model with inputs (0, 2, 4, 6, 7), adjusted R^2 is 0.493513\n",
      "evaluating model with inputs (0, 2, 5, 6, 7), adjusted R^2 is 0.360214\n",
      "evaluating model with inputs (0, 3, 4, 5, 6), adjusted R^2 is 0.413991\n",
      "evaluating model with inputs (0, 3, 4, 5, 7), adjusted R^2 is 0.503907\n",
      "evaluating model with inputs (0, 3, 4, 6, 7), adjusted R^2 is 0.529234\n",
      "evaluating model with inputs (0, 3, 5, 6, 7), adjusted R^2 is 0.566850\n",
      "evaluating model with inputs (0, 4, 5, 6, 7), adjusted R^2 is 0.491815\n",
      "evaluating model with inputs (1, 2, 3, 4, 5), adjusted R^2 is 0.212508\n",
      "evaluating model with inputs (1, 2, 3, 4, 6), adjusted R^2 is 0.305168\n",
      "evaluating model with inputs (1, 2, 3, 4, 7), adjusted R^2 is 0.378483\n",
      "evaluating model with inputs (1, 2, 3, 5, 6), adjusted R^2 is 0.378427\n",
      "evaluating model with inputs (1, 2, 3, 5, 7), adjusted R^2 is 0.355947\n",
      "evaluating model with inputs (1, 2, 3, 6, 7), adjusted R^2 is 0.395236\n",
      "evaluating model with inputs (1, 2, 4, 5, 6), adjusted R^2 is 0.280148\n",
      "evaluating model with inputs (1, 2, 4, 5, 7), adjusted R^2 is 0.351362\n",
      "evaluating model with inputs (1, 2, 4, 6, 7), adjusted R^2 is 0.394005\n",
      "evaluating model with inputs (1, 2, 5, 6, 7), adjusted R^2 is 0.157475\n",
      "evaluating model with inputs (1, 3, 4, 5, 6), adjusted R^2 is 0.306773\n",
      "evaluating model with inputs (1, 3, 4, 5, 7), adjusted R^2 is 0.357967\n",
      "evaluating model with inputs (1, 3, 4, 6, 7), adjusted R^2 is 0.414987\n",
      "evaluating model with inputs (1, 3, 5, 6, 7), adjusted R^2 is 0.489149\n",
      "evaluating model with inputs (1, 4, 5, 6, 7), adjusted R^2 is 0.348273\n",
      "evaluating model with inputs (2, 3, 4, 5, 6), adjusted R^2 is 0.361486\n",
      "evaluating model with inputs (2, 3, 4, 5, 7), adjusted R^2 is 0.383987\n",
      "evaluating model with inputs (2, 3, 4, 6, 7), adjusted R^2 is 0.459792\n",
      "evaluating model with inputs (2, 3, 5, 6, 7), adjusted R^2 is 0.525197\n",
      "evaluating model with inputs (2, 4, 5, 6, 7), adjusted R^2 is 0.396519\n",
      "evaluating model with inputs (3, 4, 5, 6, 7), adjusted R^2 is 0.488952\n",
      "evaluating model with inputs (0, 1, 2, 3, 4, 5), adjusted R^2 is 0.445412\n",
      "evaluating model with inputs (0, 1, 2, 3, 4, 6), adjusted R^2 is 0.445095\n",
      "evaluating model with inputs (0, 1, 2, 3, 4, 7), adjusted R^2 is 0.611711\n",
      "evaluating model with inputs (0, 1, 2, 3, 5, 6), adjusted R^2 is 0.439875\n",
      "evaluating model with inputs (0, 1, 2, 3, 5, 7), adjusted R^2 is 0.608795\n",
      "evaluating model with inputs (0, 1, 2, 3, 6, 7), adjusted R^2 is 0.609253\n",
      "evaluating model with inputs (0, 1, 2, 4, 5, 6), adjusted R^2 is 0.442994\n",
      "evaluating model with inputs (0, 1, 2, 4, 5, 7), adjusted R^2 is 0.582001\n",
      "evaluating model with inputs (0, 1, 2, 4, 6, 7), adjusted R^2 is 0.578959\n",
      "evaluating model with inputs (0, 1, 2, 5, 6, 7), adjusted R^2 is 0.594312\n",
      "evaluating model with inputs (0, 1, 3, 4, 5, 6), adjusted R^2 is 0.437624\n",
      "evaluating model with inputs (0, 1, 3, 4, 5, 7), adjusted R^2 is 0.581857\n",
      "evaluating model with inputs (0, 1, 3, 4, 6, 7), adjusted R^2 is 0.588412\n",
      "evaluating model with inputs (0, 1, 3, 5, 6, 7), adjusted R^2 is 0.588679\n",
      "evaluating model with inputs (0, 1, 4, 5, 6, 7), adjusted R^2 is 0.554995\n",
      "evaluating model with inputs (0, 2, 3, 4, 5, 6), adjusted R^2 is 0.421509\n",
      "evaluating model with inputs (0, 2, 3, 4, 5, 7), adjusted R^2 is 0.504358\n",
      "evaluating model with inputs (0, 2, 3, 4, 6, 7), adjusted R^2 is 0.533539\n",
      "evaluating model with inputs (0, 2, 3, 5, 6, 7), adjusted R^2 is 0.570022\n",
      "evaluating model with inputs (0, 2, 4, 5, 6, 7), adjusted R^2 is 0.493748\n",
      "evaluating model with inputs (0, 3, 4, 5, 6, 7), adjusted R^2 is 0.568096\n",
      "evaluating model with inputs (1, 2, 3, 4, 5, 6), adjusted R^2 is 0.382944\n",
      "evaluating model with inputs (1, 2, 3, 4, 5, 7), adjusted R^2 is 0.387670\n",
      "evaluating model with inputs (1, 2, 3, 4, 6, 7), adjusted R^2 is 0.459272\n",
      "evaluating model with inputs (1, 2, 3, 5, 6, 7), adjusted R^2 is 0.534423\n",
      "evaluating model with inputs (1, 2, 4, 5, 6, 7), adjusted R^2 is 0.397521\n",
      "evaluating model with inputs (1, 3, 4, 5, 6, 7), adjusted R^2 is 0.488656\n",
      "evaluating model with inputs (2, 3, 4, 5, 6, 7), adjusted R^2 is 0.528144\n",
      "evaluating model with inputs (0, 1, 2, 3, 4, 5, 6), adjusted R^2 is 0.444872\n",
      "evaluating model with inputs (0, 1, 2, 3, 4, 5, 7), adjusted R^2 is 0.611486\n",
      "evaluating model with inputs (0, 1, 2, 3, 4, 6, 7), adjusted R^2 is 0.611434\n",
      "evaluating model with inputs (0, 1, 2, 3, 5, 6, 7), adjusted R^2 is 0.609163\n",
      "evaluating model with inputs (0, 1, 2, 4, 5, 6, 7), adjusted R^2 is 0.607525\n",
      "evaluating model with inputs (0, 1, 3, 4, 5, 6, 7), adjusted R^2 is 0.594314\n",
      "evaluating model with inputs (0, 2, 3, 4, 5, 6, 7), adjusted R^2 is 0.573028\n",
      "evaluating model with inputs (1, 2, 3, 4, 5, 6, 7), adjusted R^2 is 0.537334\n",
      "evaluating model with inputs (0, 1, 2, 3, 4, 5, 6, 7), adjusted R^2 is 0.612452\n"
     ]
    },
    {
     "data": {
      "text/plain": [
       "((0, 1, 2, 3, 4, 5, 6, 7), 0.6124517253305722)"
      ]
     },
     "execution_count": 12,
     "metadata": {},
     "output_type": "execute_result"
    }
   ],
   "source": [
    "# Cell 11\n",
    "display(HTML(\"<h2>Best Subsets\"))\n",
    "display(HTML(\"<a href='http://songhuiming.github.io/pages/2015/09/26/best-subset-regression-in-python/'>Source</a>\"))\n",
    "#this code required extensive modifications\n",
    "import numpy as np\n",
    "import pandas as pd\n",
    "from itertools import chain, combinations\n",
    "import statsmodels.formula.api as sm\n",
    "import statsmodels.tools.tools as smt\n",
    "# xrange is a Python 2 construct not defined in Python 3\n",
    "def xrange(x):\n",
    "    return iter(range(x))\n",
    "def best_subset(X, y):\n",
    "    n_features = X.shape[1]\n",
    "    subsets = chain.from_iterable(combinations(xrange(n_features), k+1) for k in xrange(n_features))\n",
    "    best_score = -np.inf\n",
    "    best_subset = None\n",
    "    for subset in subsets:\n",
    "        subsetArray=np.array(subset)\n",
    "        tmpX=smt.add_constant(X.iloc[:,subsetArray])\n",
    "        lin_reg = sm.OLS(y,tmpX).fit()\n",
    "        score = lin_reg.rsquared_adj\n",
    "        print(\"evaluating model with inputs %s, adjusted R^2 is %f\"%(subset,score))\n",
    "        #print(lin_reg.summary())\n",
    "        if score > best_score:\n",
    "            best_score, best_subset = score, subset\n",
    "    return best_subset, best_score\n",
    "X=df.drop('strength',axis=1)\n",
    "#print(X.head(5))\n",
    "best_subset(X,y)"
   ]
  },
  {
   "cell_type": "code",
   "execution_count": 27,
   "metadata": {},
   "outputs": [
    {
     "data": {
      "text/html": [
       "<h2>PCA Regression</h2>"
      ],
      "text/plain": [
       "<IPython.core.display.HTML object>"
      ]
     },
     "metadata": {},
     "output_type": "display_data"
    },
    {
     "data": {
      "text/html": [
       "<h3>Delayed until Week 6</h3>"
      ],
      "text/plain": [
       "<IPython.core.display.HTML object>"
      ]
     },
     "metadata": {},
     "output_type": "display_data"
    }
   ],
   "source": [
    "# Cell 12\n",
    "display(HTML(\"<h2>PCA Regression</h2>\"))\n",
    "display(HTML(\"<h3>Delayed until Week 6</h3>\"))\n",
    "\n",
    "#from sklearn import preprocessing\n",
    "#std_scaler=preprocessing.StandardScaler().fit(df.values)\n",
    "#concrete_scaled=std_scaler.transform(df)\n",
    "#concrete_scaled_df=pd.DataFrame(concrete_scaled,index=df.index,columns=df.columns)\n",
    "#concrete_scaled_df.describe()\n",
    "#\n",
    "# need to remove y\n",
    "#\n",
    "#from sklearn import decomposition\n",
    "#set up and execute PCA\n",
    "#pca=decomposition.PCA(n_components=8)\n",
    "#pca.fit(concrete_scaled_df)\n",
    "#display eigen values\n",
    "#display(HTML(\"<h2>Eigenvalues (sorted)</h2>\"))\n",
    "#print(pca.explained_variance_)\n",
    "#display explained variance ratio\n",
    "#display(HTML(\"<h2> Percent variability explained by each component\"))\n",
    "#print(pca.explained_variance_ratio_)\n",
    "#display cumulative sum of variability explained\n",
    "#display(HTML(\"<h2> Cumulative Percent variability explained by each component\"))\n",
    "#print(np.cumsum(pca.explained_variance_ratio_))\n",
    "#\n",
    "#import matplotlib.pyplot as plt\n",
    "#display(HTML(\"<h1>Scree Plot using Python</h1>\"))\n",
    "#plt.plot(np.arange(1,9,1),pca.explained_variance_,'-bo')\n",
    "#plt.show()"
   ]
  }
 ],
 "metadata": {
  "celltoolbar": "Slideshow",
  "kernelspec": {
   "display_name": "Python 3",
   "language": "python",
   "name": "python3"
  },
  "language_info": {
   "codemirror_mode": {
    "name": "ipython",
    "version": 3
   },
   "file_extension": ".py",
   "mimetype": "text/x-python",
   "name": "python",
   "nbconvert_exporter": "python",
   "pygments_lexer": "ipython3",
   "version": "3.6.8"
  }
 },
 "nbformat": 4,
 "nbformat_minor": 2
}
