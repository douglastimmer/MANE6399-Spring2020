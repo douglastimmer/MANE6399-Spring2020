{
 "cells": [
  {
   "cell_type": "markdown",
   "metadata": {},
   "source": [
    "# MANE 6399\n",
    "## Homework 7 Solutions"
   ]
  },
  {
   "cell_type": "code",
   "execution_count": 28,
   "metadata": {},
   "outputs": [
    {
     "data": {
      "text/html": [
       "<h1>Problem 1</h1>"
      ],
      "text/plain": [
       "<IPython.core.display.HTML object>"
      ]
     },
     "metadata": {},
     "output_type": "display_data"
    },
    {
     "data": {
      "text/html": [
       "Note: failures are counted as success (reliability formulation)"
      ],
      "text/plain": [
       "<IPython.core.display.HTML object>"
      ]
     },
     "metadata": {},
     "output_type": "display_data"
    },
    {
     "data": {
      "text/html": [
       "<h2>X-Y Plot"
      ],
      "text/plain": [
       "<IPython.core.display.HTML object>"
      ]
     },
     "metadata": {},
     "output_type": "display_data"
    },
    {
     "data": {
      "image/png": "[encoded data removed]",
      "text/plain": [
       "<Figure size 432x288 with 1 Axes>"
      ]
     },
     "metadata": {
      "needs_background": "light"
     },
     "output_type": "display_data"
    }
   ],
   "source": [
    "import pandas as pd\n",
    "import matplotlib.pyplot as plt\n",
    "from IPython.display import display, HTML, Latex\n",
    "\n",
    "df=pd.read_excel(\"fasteners.xlsx\")\n",
    "#print(df)\n",
    "# loop through file\n",
    "xList=[]\n",
    "yList=[]\n",
    "for ind in df.index:\n",
    "    x=df['load'][ind]\n",
    "    successes=df['failures'][ind]\n",
    "    failures=df['survivors'][ind]\n",
    "    for i in range (successes):\n",
    "        xList.append(x)\n",
    "        yList.append(1.0)\n",
    "    for i in range(failures):\n",
    "        xList.append(x)\n",
    "        yList.append(00.0)\n",
    "#print(xList)   \n",
    "#print(yList)\n",
    "#print(len(xList))\n",
    "#print(sum(yList))\n",
    "#\n",
    "display(HTML(\"<h1>Problem 1</h1>\"))\n",
    "display(HTML(\"Note: failures are counted as success (reliability formulation)\"))\n",
    "display(HTML(\"<h2>X-Y Plot\"))\n",
    "plt.plot(xList,yList,'o')\n",
    "plt.xlabel('x')\n",
    "plt.ylabel('y')\n",
    "plt.show()"
   ]
  },
  {
   "cell_type": "code",
   "execution_count": 29,
   "metadata": {},
   "outputs": [
    {
     "data": {
      "text/html": [
       "<h1>Problem 2</h1>"
      ],
      "text/plain": [
       "<IPython.core.display.HTML object>"
      ]
     },
     "metadata": {},
     "output_type": "display_data"
    },
    {
     "data": {
      "text/html": [
       "<h2>Logistic Regression Parameter Values</h2>"
      ],
      "text/plain": [
       "<IPython.core.display.HTML object>"
      ]
     },
     "metadata": {},
     "output_type": "display_data"
    },
    {
     "name": "stdout",
     "output_type": "stream",
     "text": [
      "The value of the y-intercept term is -5.339709\n",
      "The value of the slope term is 0.001548\n",
      "The value of the maximum likelihood function is -421.855955\n"
     ]
    },
    {
     "data": {
      "text/html": [
       "<h2>X-Y Plot with Predicted Values</h2>"
      ],
      "text/plain": [
       "<IPython.core.display.HTML object>"
      ]
     },
     "metadata": {},
     "output_type": "display_data"
    },
    {
     "data": {
      "image/png": "[encoded data removed]",
      "text/plain": [
       "<Figure size 432x288 with 1 Axes>"
      ]
     },
     "metadata": {
      "needs_background": "light"
     },
     "output_type": "display_data"
    }
   ],
   "source": [
    "from sklearn.linear_model import LogisticRegression\n",
    "import numpy as np\n",
    "from sklearn.metrics import log_loss\n",
    "\n",
    "display(HTML(\"<h1>Problem 2</h1>\"))\n",
    "display(HTML(\"<h2>Logistic Regression Parameter Values</h2>\"))\n",
    "xArray=np.asarray(xList).reshape(-1,1)\n",
    "yArray=np.asarray(yList)\n",
    "logReg1=LogisticRegression(C=1e5).fit(xArray,yArray)\n",
    "print(\"The value of the y-intercept term is %f\"%logReg1.intercept_)\n",
    "print(\"The value of the slope term is %f\"%logReg1.coef_)\n",
    "print(\"The value of the maximum likelihood function is -%f\"%log_loss(yArray,pred1,normalize=False))\n",
    "#\n",
    "display(HTML(\"<h2>X-Y Plot with Predicted Values</h2>\"))\n",
    "pred1=logReg1.predict_proba(xArray)\n",
    "pred1_success=pred1[:,1]\n",
    "plt.plot(xArray,yArray,'o')\n",
    "plt.plot(xArray,pred1[:,1],'ro')\n",
    "plt.xlabel('x')\n",
    "plt.ylabel('y')\n",
    "plt.title('predicted values')\n",
    "plt.show()\n"
   ]
  },
  {
   "cell_type": "code",
   "execution_count": 30,
   "metadata": {},
   "outputs": [
    {
     "data": {
      "text/html": [
       "<h1>Problem 3</h1>"
      ],
      "text/plain": [
       "<IPython.core.display.HTML object>"
      ]
     },
     "metadata": {},
     "output_type": "display_data"
    },
    {
     "name": "stdout",
     "output_type": "stream",
     "text": [
      "n1=337\n",
      "n0=353\n",
      "G=112.460151\n",
      "The critical value of a chi-square variable with 1 degree freedom and alpha=0.050000 is 3.841459\n"
     ]
    },
    {
     "data": {
      "text/html": [
       "Since the value of the test statistic G is greater than the critical value, we reject H0 and conclude that the model is statistically significant."
      ],
      "text/plain": [
       "<IPython.core.display.HTML object>"
      ]
     },
     "metadata": {},
     "output_type": "display_data"
    }
   ],
   "source": [
    "# inference\n",
    "import math\n",
    "from scipy.stats import chi2\n",
    "display(HTML(\"<h1>Problem 3</h1>\"))\n",
    "\n",
    "n1=np.sum(yArray)\n",
    "complementY=1.0-yArray\n",
    "n0=np.sum(complementY)\n",
    "pred2=logReg1.predict_log_proba(xArray) # natural log taken\n",
    "pred2_success=pred2[:,1]\n",
    "G=0\n",
    "for i in range(0,len(pred2_success)):\n",
    "    G=G+yArray[i]*pred2[i,1]+(1.0-yArray[i])*pred2[i,0]\n",
    "G=G-(n1*math.log(n1)+n0*math.log(n0)-(n0+n1)*math.log(n0+n1))\n",
    "G=G*2.0\n",
    "print(\"n1=%d\"%n1)\n",
    "print(\"n0=%d\"%n0)\n",
    "print(\"G=%f\"%G)\n",
    "alpha=.05\n",
    "cs_alpha=chi2.isf(alpha,1)\n",
    "print(\"The critical value of a chi-square variable with 1 degree freedom and alpha=%f is %f\"%(alpha,cs_alpha))\n",
    "display(HTML(\"Since the value of the test statistic G is greater than the critical value, we reject H0 and conclude that the model is statistically significant.\"))"
   ]
  },
  {
   "cell_type": "markdown",
   "metadata": {},
   "source": [
    "# Problem 4\n",
    "\n",
    "![Problem 4 Solution](h7p3.jpg \"Problem 4 Solution\")"
   ]
  },
  {
   "cell_type": "markdown",
   "metadata": {},
   "source": [
    "# Problem 5\n",
    "\n",
    "![Problem 5 Solution](h7p5.jpg \"Problem 5 Solution\")\n"
   ]
  }
 ],
 "metadata": {
  "kernelspec": {
   "display_name": "Python 3",
   "language": "python",
   "name": "python3"
  },
  "language_info": {
   "codemirror_mode": {
    "name": "ipython",
    "version": 3
   },
   "file_extension": ".py",
   "mimetype": "text/x-python",
   "name": "python",
   "nbconvert_exporter": "python",
   "pygments_lexer": "ipython3",
   "version": "3.7.3"
  }
 },
 "nbformat": 4,
 "nbformat_minor": 2
}
