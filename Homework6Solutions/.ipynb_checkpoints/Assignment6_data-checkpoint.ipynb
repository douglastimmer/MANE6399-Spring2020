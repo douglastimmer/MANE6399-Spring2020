{
 "cells": [
  {
   "cell_type": "markdown",
   "metadata": {},
   "source": [
    "# MANE 6399 \n",
    "## Homework Assignment 6 Solutions"
   ]
  },
  {
   "cell_type": "code",
   "execution_count": 67,
   "metadata": {},
   "outputs": [
    {
     "data": {
      "text/html": [
       "<h4>Cell 2 - Python code to create Data Frame</h4>"
      ],
      "text/plain": [
       "<IPython.core.display.HTML object>"
      ]
     },
     "metadata": {},
     "output_type": "display_data"
    }
   ],
   "source": [
    "# Cell 2\n",
    "from IPython.display import HTML\n",
    "import pandas as pd\n",
    "\n",
    "display(HTML(\"<h4>Cell 2 - Python code to create Data Frame</h4>\"))\n",
    "df=pd.read_csv('cereal.csv')\n",
    "X=df.drop(['Name','Manuf','Rating','Cold','Nabisco','Quaker','Kelloggs','GeneralMills','Ralston','AHFP','Rating'],axis=1)\n",
    "# print(X)"
   ]
  },
  {
   "cell_type": "code",
   "execution_count": 73,
   "metadata": {},
   "outputs": [
    {
     "data": {
      "text/html": [
       "<h2>Problem 1"
      ],
      "text/plain": [
       "<IPython.core.display.HTML object>"
      ]
     },
     "metadata": {},
     "output_type": "display_data"
    },
    {
     "data": {
      "text/html": [
       "<h3>Cell 3. Affinity Propagation</h3>"
      ],
      "text/plain": [
       "<IPython.core.display.HTML object>"
      ]
     },
     "metadata": {},
     "output_type": "display_data"
    },
    {
     "name": "stdout",
     "output_type": "stream",
     "text": [
      "Estimated number of clusters: 13\n",
      "cluster labels: [ 0  7  0  0 12 11  1 12  5 11  2 11  3 11  4  4 11 11  3  5  3  5 11 12\n",
      " 10  9  9 11 11 12  5  5  3 11 12 11  6  6  4  3 11  7  7  1 12 12  1  5\n",
      "  1  9  6  8  8  3  9  3  5  4  4 10 10 10 11  2 10  6  9  6  5 11 12 12\n",
      " 12]\n",
      "<class 'numpy.ndarray'>\n"
     ]
    }
   ],
   "source": [
    "# Problem 1 - Cell 3\n",
    "# Enter the Python code to conduct an affinity propagation cluster analysis\n",
    "#\n",
    "# Prepare dataframe by dropping NaN\n",
    "X=X.dropna(axis=0)\n",
    "# prepare dataframe by scaling\n",
    "from sklearn.preprocessing import StandardScaler\n",
    "scaler = StandardScaler()\n",
    "X_scaled=scaler.fit_transform(X)\n",
    "#\n",
    "from sklearn.cluster import AffinityPropagation\n",
    "display(HTML(\"<h2>Problem 1\"))\n",
    "display(HTML(\"<h3>Cell 3. Affinity Propagation</h3>\"))\n",
    "af1=AffinityPropagation().fit(X_scaled)\n",
    "print('Estimated number of clusters: %d' % len(af1.cluster_centers_indices_))\n",
    "print(\"cluster labels: %s\"%af1.labels_)\n",
    "print(type(af1.labels_))\n",
    "# code to write cluster labels to excel file\n",
    "dfAF1_labels=pd.DataFrame(data=af1.labels_)\n",
    "dfAF1_labels.to_excel('affinityPropogation.xlsx')"
   ]
  },
  {
   "cell_type": "markdown",
   "metadata": {},
   "source": [
    "#### Problem 2 - Cell 4\n",
    "From the output from Cell 3, affinity propagation suggests 13 clusters.\n"
   ]
  },
  {
   "cell_type": "code",
   "execution_count": 69,
   "metadata": {},
   "outputs": [
    {
     "data": {
      "text/html": [
       "<h2>Problem 3</h2>"
      ],
      "text/plain": [
       "<IPython.core.display.HTML object>"
      ]
     },
     "metadata": {},
     "output_type": "display_data"
    },
    {
     "data": {
      "text/html": [
       "<h3>Cell 5. Agglomerative Clustering</h3>"
      ],
      "text/plain": [
       "<IPython.core.display.HTML object>"
      ]
     },
     "metadata": {},
     "output_type": "display_data"
    },
    {
     "name": "stdout",
     "output_type": "stream",
     "text": [
      "cluster labels: [ 5  2  5  5  0  4  1  0  8  0  9  0 11  4 10 10  4  4 11  8  8  8  4  0\n",
      "  3  1  1  4  4  0  8  8 11  0  0  4  6 12 10 11  4  2  2  1  0  0  1  8\n",
      "  1  1  6  7  7 11  1 11  3 10 10  3  3  3  4  9  3  6 12  6  8  4  0  0\n",
      "  0]\n",
      "number of leaves 73\n",
      "children [[ 13  17]\n",
      " [ 14  58]\n",
      " [ 60  61]\n",
      " [ 41  42]\n",
      " [ 15  74]\n",
      " [ 69  73]\n",
      " [ 22  40]\n",
      " [ 12  55]\n",
      " [  9  33]\n",
      " [  6  46]\n",
      " [  5  16]\n",
      " [ 51  52]\n",
      " [ 44  71]\n",
      " [ 36  65]\n",
      " [ 27  78]\n",
      " [ 24  64]\n",
      " [ 45  72]\n",
      " [  7  70]\n",
      " [ 11  81]\n",
      " [ 57  77]\n",
      " [ 19  68]\n",
      " [ 49  54]\n",
      " [ 30  47]\n",
      " [ 18  80]\n",
      " [  4  34]\n",
      " [ 79  87]\n",
      " [ 21  93]\n",
      " [ 39  53]\n",
      " [ 26  94]\n",
      " [ 29  89]\n",
      " [  0   2]\n",
      " [ 28  62]\n",
      " [ 23 102]\n",
      " [ 25  48]\n",
      " [ 85  90]\n",
      " [ 32  96]\n",
      " [ 83  98]\n",
      " [ 67  86]\n",
      " [ 56  88]\n",
      " [ 10  63]\n",
      " [ 50 110]\n",
      " [  8  20]\n",
      " [ 59  75]\n",
      " [ 43  82]\n",
      " [100 108]\n",
      " [ 95 114]\n",
      " [ 97 105]\n",
      " [ 35 109]\n",
      " [ 37  66]\n",
      " [ 38  92]\n",
      " [106 116]\n",
      " [104 120]\n",
      " [  3 103]\n",
      " [ 31 118]\n",
      " [ 91 119]\n",
      " [ 99 126]\n",
      " [  1  76]\n",
      " [111 115]\n",
      " [101 123]\n",
      " [107 127]\n",
      " [121 131]\n",
      " [117 129]\n",
      " [124 132]\n",
      " [112 122]\n",
      " [128 130]\n",
      " [ 84 137]\n",
      " [113 136]\n",
      " [133 134]\n",
      " [138 139]\n",
      " [135 141]\n",
      " [125 140]\n",
      " [142 143]]\n"
     ]
    },
    {
     "data": {
      "text/html": [
       "<h2>Cell 4. Dendogram for Agglomerative Clustering</h2>"
      ],
      "text/plain": [
       "<IPython.core.display.HTML object>"
      ]
     },
     "metadata": {},
     "output_type": "display_data"
    },
    {
     "data": {
      "image/png": "[encoded data removed]",
      "text/plain": [
       "<Figure size 1440x1440 with 1 Axes>"
      ]
     },
     "metadata": {
      "needs_background": "light"
     },
     "output_type": "display_data"
    }
   ],
   "source": [
    "# Problem 3 - Cell 5\n",
    "# Enter the Python code to conduct an agglomerative clustering analysis and construct a dendogram.\n",
    "from sklearn.cluster import AgglomerativeClustering\n",
    "display(HTML(\"<h2>Problem 3</h2>\"))\n",
    "display(HTML(\"<h3>Cell 5. Agglomerative Clustering</h3>\"))\n",
    "#\n",
    "cluster1=AgglomerativeClustering(n_clusters=13)\n",
    "cluster1.fit(X_scaled)\n",
    "print(\"cluster labels: %s\"%cluster1.labels_)\n",
    "print(\"number of leaves %d\"%cluster1.n_leaves_)\n",
    "print(\"children %s\"%cluster1.children_)\n",
    "#\n",
    "# code to write cluster labels to excel file\n",
    "dfAC1_labels=pd.DataFrame(data=cluster1.labels_)\n",
    "dfAC1_labels.to_excel('agglomerativeClustering.xlsx')\n",
    "#\n",
    "# dendogram construction\n",
    "import numpy as np\n",
    "\n",
    "from matplotlib import pyplot as plt\n",
    "from scipy.cluster.hierarchy import dendrogram\n",
    "from sklearn.cluster import AgglomerativeClustering\n",
    "\n",
    "def plot_dendrogram(model, **kwargs):\n",
    "\n",
    "    # Children of hierarchical clustering\n",
    "    children = model.children_\n",
    "\n",
    "    # Distances between each pair of children\n",
    "    # Since we don't have this information, we can use a uniform one for plotting\n",
    "    distance = np.arange(children.shape[0])\n",
    "\n",
    "    # The number of observations contained in each cluster level\n",
    "    no_of_observations = np.arange(2, children.shape[0]+2)\n",
    "\n",
    "    # Create linkage matrix and then plot the dendrogram\n",
    "    linkage_matrix = np.column_stack([children, distance, no_of_observations]).astype(float)\n",
    "\n",
    "    # Plot the corresponding dendrogram\n",
    "    dendrogram(linkage_matrix, **kwargs)\n",
    "display(HTML(\"<h2>Cell 4. Dendogram for Agglomerative Clustering</h2>\"))\n",
    "plt.figure(figsize=(20,20))\n",
    "plt.title('Hierarchical Clustering Dendrogram')\n",
    "plot_dendrogram(cluster1, labels=cluster1.labels_)\n",
    "plt.show()    "
   ]
  },
  {
   "cell_type": "markdown",
   "metadata": {},
   "source": [
    "#### Problem 4 - Cell 6\n",
    "Yes, the dendogram shows the assignment of observations into clusters. The topmost horizontal line shows two clusters. The next highest horizontal line shows the division of the right cluster into two subclusters. This process is repeated until all observations are assigned into individual clusters."
   ]
  },
  {
   "cell_type": "code",
   "execution_count": 70,
   "metadata": {},
   "outputs": [
    {
     "data": {
      "text/html": [
       "<h2>Problem 5</h2>"
      ],
      "text/plain": [
       "<IPython.core.display.HTML object>"
      ]
     },
     "metadata": {},
     "output_type": "display_data"
    },
    {
     "data": {
      "text/html": [
       "<h3>Cell 7. K-Means Clustering</h3>"
      ],
      "text/plain": [
       "<IPython.core.display.HTML object>"
      ]
     },
     "metadata": {},
     "output_type": "display_data"
    },
    {
     "name": "stdout",
     "output_type": "stream",
     "text": [
      "cluster centers: [[-1.07092835e-01  6.45282166e-03 -2.48305065e-01  7.19140445e-01\n",
      "  -3.96498868e-01  9.73996177e-01 -7.88150419e-01 -5.08788515e-01\n",
      "   3.18047781e+00  9.38852118e-01 -2.03640598e-01  7.70188393e-01]\n",
      " [ 2.29155636e-01 -1.04033825e+00  3.36277598e-17 -8.69451619e-03\n",
      "  -7.42310305e-01 -6.04613460e-01  1.07774497e+00 -8.22318633e-01\n",
      "  -1.84375525e-01 -5.30735115e-01 -2.03640598e-01  3.27686636e-01]\n",
      " [-8.63651895e-01  6.45282166e-03 -9.93220261e-01 -2.01282775e+00\n",
      "   3.29705152e-01  4.59698015e-01 -9.61274734e-01  1.49624733e-01\n",
      "  -7.45184414e-01 -6.64333955e-01 -3.88375964e-01 -1.95269986e-01]\n",
      " [ 1.65821164e+00  1.10558344e+00  2.64858736e+00 -9.67642949e-01\n",
      "   1.91380576e-01 -3.54607409e-01  6.54552204e-01  8.43310119e-01\n",
      "  -5.58248118e-01  9.38852118e-01 -2.03640598e-01  7.70188393e-01]\n",
      " [ 4.42189770e-02 -6.53025552e-01 -7.94576209e-01  1.33383329e+00\n",
      "  -8.32221279e-01  1.82258814e+00 -1.05360770e+00 -9.24999747e-01\n",
      "  -1.84375525e-01 -1.22544908e+00 -2.03640598e-01  1.30686967e+00]\n",
      " [ 1.15383893e+00  4.77508803e-01  4.96610130e-01  3.77644421e-01\n",
      "   6.66871303e-01  9.00462108e-02  8.27676518e-01  1.07845771e+00\n",
      "  -1.84375525e-01  7.88553423e-01  1.95613317e+00 -6.40729643e-01]\n",
      " [-2.20864578e+00  1.41962077e+00 -3.31073420e-01  1.49980404e-01\n",
      "   3.64949495e+00 -2.06893462e+00 -8.07386454e-01  2.98315317e+00\n",
      "  -1.84375525e-01  9.38852118e-01 -2.03640598e-01 -1.84222840e+00]\n",
      " [-2.75217071e-01  6.45282166e-03 -3.08148791e-33  6.46701895e-01\n",
      "   8.76371452e-02  1.38261663e-01 -2.68777475e-01 -3.22119984e-03\n",
      "  -1.84375525e-01 -1.46592699e+00 -2.03640598e-01 -5.32908130e-02]\n",
      " [-1.70139423e-01  5.95272798e-01  7.44915196e-01 -2.89825082e-01\n",
      "   2.51897578e-01 -6.81401032e-01 -1.24507213e-01  4.08287080e-01\n",
      "  -1.84375525e-01  7.88553423e-01 -2.03640598e-01 -1.13588201e+00]\n",
      " [-1.91154953e-01  6.45282166e-03 -6.62146841e-01  3.15554234e-01\n",
      "  -1.54430861e-01  9.31137997e-01 -8.45858524e-01 -3.67699962e-01\n",
      "  -1.84375525e-01  9.38852118e-01 -2.03640598e-01 -2.02368945e-01]\n",
      " [ 1.45093518e-01  3.30384469e+00  2.73753623e-17  1.18481684e+00\n",
      "  -2.92755436e-01  4.59698015e-01 -1.19210715e+00 -2.61883547e-01\n",
      "  -1.84375525e-01 -1.46592699e+00 -2.03640598e-01  1.30261029e+00]\n",
      " [-2.88114272e+00 -9.35659141e-01 -9.93220261e-01 -2.04387284e+00\n",
      "  -7.07729162e-01 -8.26047391e-01 -1.65377199e+00 -9.32054175e-01\n",
      "  -1.30599330e+00  9.38852118e-01 -3.46367648e+00  7.70188393e-01]\n",
      " [ 1.65821164e+00  4.77508803e-01  0.00000000e+00  1.91373862e-01\n",
      "   3.29705152e-01  7.16847096e-01  1.00080083e+00  9.02097016e-01\n",
      "   3.18047781e+00  9.38852118e-01  2.40438811e+00  2.37766493e-01]]\n",
      "cluster labels: [ 6  3  6  6  1  1  5  7  8  1 10  1  8  1  4  4  1  1  8  9  8  9  1  1\n",
      "  2  5  5  1  1  1  9  9  8  1  7  1  0 12  4  8  1  3  3  5  7  1  5  9\n",
      "  5  5  0 11 11  8  5  8  2  4  4  2  2  2  1 10  2  0 12  0  9  1  7  7\n",
      "  7]\n"
     ]
    }
   ],
   "source": [
    "# Problem 5 - Cell 7\n",
    "# Enter the Python code to conduct a k-means cluster analysis\n",
    "from sklearn.cluster import KMeans\n",
    "display(HTML(\"<h2>Problem 5</h2>\"))\n",
    "display(HTML(\"<h3>Cell 7. K-Means Clustering</h3>\"))\n",
    "km1=KMeans(n_clusters=13,n_jobs=-2).fit(X_scaled)\n",
    "print(\"cluster centers: %s\"%km1.cluster_centers_)\n",
    "print(\"cluster labels: %s\"%km1.labels_)\n",
    "# code to write cluster labels to excel file\n",
    "dfKMeans_labels=pd.DataFrame(data=km1.labels_)\n",
    "dfKMeans_labels.to_excel('kMeans.xlsx')"
   ]
  },
  {
   "cell_type": "code",
   "execution_count": 71,
   "metadata": {},
   "outputs": [
    {
     "data": {
      "text/html": [
       "<h2>Problem 6</h2>"
      ],
      "text/plain": [
       "<IPython.core.display.HTML object>"
      ]
     },
     "metadata": {},
     "output_type": "display_data"
    },
    {
     "data": {
      "text/html": [
       "<h3>Cell 8. HDBSCAN</h3>"
      ],
      "text/plain": [
       "<IPython.core.display.HTML object>"
      ]
     },
     "metadata": {},
     "output_type": "display_data"
    },
    {
     "name": "stdout",
     "output_type": "stream",
     "text": [
      "[ 0 -1  0  0  4  4  6  4 -1  4 -1  4  7  4  3  3  4  4  7  8 -1  8  4  4\n",
      "  2  5  5  4  4  4  8 -1  7  4  4 -1  1  1 -1  7  4 -1 -1 -1  4  4 -1  8\n",
      "  6  5  1 -1 -1  7  5  7 -1  3  3  2  2  2  4 -1  2  1 -1  1  8  4  4  4\n",
      "  4]\n"
     ]
    }
   ],
   "source": [
    "# Problem 6 - Cell 8\n",
    "#Enter the Python code to conduct a HDBSCAN analysis.\n",
    "import hdbscan\n",
    "display(HTML(\"<h2>Problem 6</h2>\"))\n",
    "display(HTML(\"<h3>Cell 8. HDBSCAN</h3>\"))\n",
    "\n",
    "hd1=hdbscan.HDBSCAN(min_cluster_size=2)\n",
    "hd1_labels=hd1.fit_predict(X_scaled)\n",
    "print(hd1.labels_)\n",
    "# code to write cluster labels to excel file\n",
    "dfHD1_labels=pd.DataFrame(data=hd1.labels_)\n",
    "dfHD1_labels.to_excel('HDBSCAN.xlsx')"
   ]
  },
  {
   "cell_type": "markdown",
   "metadata": {},
   "source": [
    "#### Problem 7 - Cell 9\n",
    "Using min_cluster_size of 2, results in 9 clusters being created. The number of observations not assigned to a cluster (value of -1) is relatively small. With larger values of min_cluster_size, the usual result was only two clusters."
   ]
  },
  {
   "cell_type": "code",
   "execution_count": 72,
   "metadata": {},
   "outputs": [
    {
     "data": {
      "text/html": [
       "<h2>Problem 8</h2>"
      ],
      "text/plain": [
       "<IPython.core.display.HTML object>"
      ]
     },
     "metadata": {},
     "output_type": "display_data"
    },
    {
     "data": {
      "text/html": [
       "<h3>Cell 9</h3>"
      ],
      "text/plain": [
       "<IPython.core.display.HTML object>"
      ]
     },
     "metadata": {},
     "output_type": "display_data"
    },
    {
     "data": {
      "text/html": [
       "<p>My approach would is to write the cluster labels to separate Excel files. In Excel combine into one summary spreadesheet.</p>"
      ],
      "text/plain": [
       "<IPython.core.display.HTML object>"
      ]
     },
     "metadata": {},
     "output_type": "display_data"
    },
    {
     "name": "stdout",
     "output_type": "stream",
     "text": [
      "    AffinityPropogation  AgglomerativeClustering  KmeansClustering  HDBSCAN\n",
      "0                     0                        5                 5        0\n",
      "1                     7                        2                12       -1\n",
      "2                     0                        5                 5        0\n",
      "3                     0                        5                 5        0\n",
      "4                    12                        0                 2        4\n",
      "..                  ...                      ...               ...      ...\n",
      "68                    5                        8                 9        8\n",
      "69                   11                        4                 6        4\n",
      "70                   12                        0                 2        4\n",
      "71                   12                        0                 2        4\n",
      "72                   12                        0                 2        4\n",
      "\n",
      "[73 rows x 4 columns]\n"
     ]
    },
    {
     "data": {
      "text/html": [
       "<p>Try to examine columns between different methods to locate similarities</p>"
      ],
      "text/plain": [
       "<IPython.core.display.HTML object>"
      ]
     },
     "metadata": {},
     "output_type": "display_data"
    }
   ],
   "source": [
    "#### Problem 8 - Cell 10\n",
    "display(HTML(\"<h2>Problem 8</h2>\"))\n",
    "display(HTML(\"<h3>Cell 9</h3>\"))\n",
    "display(HTML(\"<p>My approach would is to write the cluster labels to separate Excel files. In Excel combine into one summary spreadesheet.</p>\"))\n",
    "dfSummary=pd.read_excel('clusteringSummary.xlsx')\n",
    "print(dfSummary)\n",
    "display(HTML(\"<p>Try to examine columns between different methods to locate similarities</p>\"))"
   ]
  }
 ],
 "metadata": {
  "kernelspec": {
   "display_name": "Python 3",
   "language": "python",
   "name": "python3"
  },
  "language_info": {
   "codemirror_mode": {
    "name": "ipython",
    "version": 3
   },
   "file_extension": ".py",
   "mimetype": "text/x-python",
   "name": "python",
   "nbconvert_exporter": "python",
   "pygments_lexer": "ipython3",
   "version": "3.6.8"
  }
 },
 "nbformat": 4,
 "nbformat_minor": 2
}
