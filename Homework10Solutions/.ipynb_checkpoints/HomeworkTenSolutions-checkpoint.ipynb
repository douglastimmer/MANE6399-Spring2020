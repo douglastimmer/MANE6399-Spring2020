{
 "cells": [
  {
   "cell_type": "markdown",
   "metadata": {},
   "source": [
    "# MANE 6399\n",
    "## Homework 10 (due May 1, 2020)"
   ]
  },
  {
   "cell_type": "code",
   "execution_count": 35,
   "metadata": {},
   "outputs": [
    {
     "name": "stdout",
     "output_type": "stream",
     "text": [
      "     pIncidence  pTilt  llAngle  sSlope  pRadius   spon classification\n",
      "0         39.06  10.06    25.02   29.00   114.41   4.56             AB\n",
      "1         68.83  22.22    50.09   46.61   105.99  -3.53             AB\n",
      "2         69.30  24.65    44.31   44.64   101.87  11.21             AB\n",
      "3         49.71   9.65    28.32   40.06   108.17   7.92             AB\n",
      "4         40.25  13.92    25.12   26.33   130.33   2.23             AB\n",
      "..          ...    ...      ...     ...      ...    ...            ...\n",
      "304       47.90  13.62    36.00   34.29   117.45  -4.25             NO\n",
      "305       53.94  20.72    29.22   33.22   114.37  -0.42             NO\n",
      "306       61.45  22.69    46.17   38.75   125.67  -2.71             NO\n",
      "307       45.25   8.69    41.58   36.56   118.55   0.21             NO\n",
      "308       33.84   5.07    36.64   28.77   123.95  -0.20             NO\n",
      "\n",
      "[309 rows x 7 columns]\n"
     ]
    }
   ],
   "source": [
    "# Python cell to read data from file into dataframe df\n",
    "import pandas as pd\n",
    "df=pd.read_csv('column_2C.DAT',delimiter=' ')\n",
    "df.columns=['pIncidence','pTilt','llAngle','sSlope','pRadius','spon','classification']\n",
    "print(df)"
   ]
  },
  {
   "cell_type": "code",
   "execution_count": 36,
   "metadata": {},
   "outputs": [
    {
     "data": {
      "text/html": [
       "<h1>Problem 1</h1>"
      ],
      "text/plain": [
       "<IPython.core.display.HTML object>"
      ]
     },
     "metadata": {},
     "output_type": "display_data"
    },
    {
     "name": "stderr",
     "output_type": "stream",
     "text": [
      "C:\\Users\\fwn285\\AppData\\Local\\Continuum\\anaconda3\\envs\\env_iise\\lib\\site-packages\\sklearn\\neural_network\\_multilayer_perceptron.py:571: ConvergenceWarning: Stochastic Optimizer: Maximum iterations (200) reached and the optimization hasn't converged yet.\n",
      "  % self.max_iter, ConvergenceWarning)\n"
     ]
    },
    {
     "data": {
      "text/html": [
       "<h2>Accuracy Results</h2>"
      ],
      "text/plain": [
       "<IPython.core.display.HTML object>"
      ]
     },
     "metadata": {},
     "output_type": "display_data"
    },
    {
     "name": "stdout",
     "output_type": "stream",
     "text": [
      "The accuracy for the training set is 0.852814\n",
      "The accuracy for the test set is 0.807692\n"
     ]
    },
    {
     "data": {
      "text/html": [
       "<h2>Confusion Matrices</h2>"
      ],
      "text/plain": [
       "<IPython.core.display.HTML object>"
      ]
     },
     "metadata": {},
     "output_type": "display_data"
    },
    {
     "name": "stdout",
     "output_type": "stream",
     "text": [
      "Confusion matrix for training set\n",
      "[[134  17]\n",
      " [ 17  63]]\n",
      "Confusion matrix for test set\n",
      "[[47 11]\n",
      " [ 4 16]]\n"
     ]
    },
    {
     "data": {
      "text/html": [
       "<p><b>Comments: </b> The test accuracy is better than most results from homework assignment 9.</p>"
      ],
      "text/plain": [
       "<IPython.core.display.HTML object>"
      ]
     },
     "metadata": {},
     "output_type": "display_data"
    }
   ],
   "source": [
    "# Problem 1 \n",
    "# Enter the Python code to solve problem 1 in this cell\n",
    "from IPython.display import display, HTML, Latex\n",
    "import numpy as np\n",
    "from sklearn.model_selection import train_test_split\n",
    "from sklearn.preprocessing import StandardScaler\n",
    "from sklearn.neural_network import MLPClassifier\n",
    "from sklearn.metrics import confusion_matrix\n",
    "\n",
    "display(HTML(\"<h1>Problem 1</h1>\"))\n",
    "df1=df.dropna(axis=0,how='any')       # remove rows with missing values\n",
    "# create endogenous and exogenous variables\n",
    "X= np.array(df1.iloc[:, 0:6])\n",
    "#print(X)\n",
    "y = np.array(df1['classification'])\n",
    "# split and transform data\n",
    "X_train, X_test, y_train, y_test = train_test_split(X, y, test_size=0.25)\n",
    "X_train.shape\n",
    "# Transform training data\n",
    "scaler=StandardScaler()\n",
    "scaler.fit(X_train)\n",
    "X_train_transformed=scaler.transform(X_train)\n",
    "X_test_transformed=scaler.transform(X_test)\n",
    "#fit model\n",
    "mlp1=MLPClassifier(hidden_layer_sizes=(6,5,5))\n",
    "mlp1.fit(X_train_transformed,y_train)\n",
    "y_train_pred = mlp1.predict(X_train_transformed)\n",
    "y_test_pred = mlp1.predict(X_test_transformed)\n",
    "# produce results\n",
    "display(HTML(\"<h2>Accuracy Results</h2>\"))\n",
    "print(\"The accuracy for the training set is %f\"%mlp1.score(X_train_transformed,y_train))\n",
    "print(\"The accuracy for the test set is %f\"%mlp1.score(X_test_transformed,y_test))\n",
    "display(HTML(\"<h2>Confusion Matrices</h2>\"))\n",
    "print(\"Confusion matrix for training set\")\n",
    "print(confusion_matrix(y_train,y_train_pred))\n",
    "print(\"Confusion matrix for test set\")\n",
    "print(confusion_matrix(y_test,y_test_pred))\n",
    "display(HTML(\"<p><b>Comments: </b> The test accuracy is better than most results from homework assignment 9.</p>\"))"
   ]
  },
  {
   "cell_type": "code",
   "execution_count": 37,
   "metadata": {},
   "outputs": [
    {
     "data": {
      "text/html": [
       "<h1>Problem 2</h1>"
      ],
      "text/plain": [
       "<IPython.core.display.HTML object>"
      ]
     },
     "metadata": {},
     "output_type": "display_data"
    },
    {
     "name": "stderr",
     "output_type": "stream",
     "text": [
      "[Parallel(n_jobs=-1)]: Using backend LokyBackend with 4 concurrent workers.\n",
      "[Parallel(n_jobs=-1)]: Batch computation too fast (0.0189s.) Setting batch_size=2.\n",
      "[Parallel(n_jobs=-1)]: Done   5 tasks      | elapsed:    0.0s\n",
      "[Parallel(n_jobs=-1)]: Batch computation too fast (0.0329s.) Setting batch_size=4.\n",
      "[Parallel(n_jobs=-1)]: Done  12 tasks      | elapsed:    0.0s\n",
      "[Parallel(n_jobs=-1)]: Done  28 tasks      | elapsed:    0.0s\n",
      "[Parallel(n_jobs=-1)]: Batch computation too fast (0.0479s.) Setting batch_size=8.\n"
     ]
    },
    {
     "name": "stdout",
     "output_type": "stream",
     "text": [
      "Fitting 5 folds for each of 60 candidates, totalling 300 fits\n"
     ]
    },
    {
     "name": "stderr",
     "output_type": "stream",
     "text": [
      "[Parallel(n_jobs=-1)]: Done  56 tasks      | elapsed:    0.1s\n",
      "[Parallel(n_jobs=-1)]: Batch computation too fast (0.0768s.) Setting batch_size=16.\n",
      "[Parallel(n_jobs=-1)]: Done 136 tasks      | elapsed:    0.3s\n",
      "[Parallel(n_jobs=-1)]: Batch computation too fast (0.1945s.) Setting batch_size=32.\n",
      "[Parallel(n_jobs=-1)]: Done 235 tasks      | elapsed:    0.6s\n",
      "[Parallel(n_jobs=-1)]: Done 246 tasks      | elapsed:    0.6s\n",
      "[Parallel(n_jobs=-1)]: Done 257 tasks      | elapsed:    0.7s\n",
      "[Parallel(n_jobs=-1)]: Done 270 tasks      | elapsed:    0.7s\n"
     ]
    },
    {
     "name": "stdout",
     "output_type": "stream",
     "text": [
      "{'C': 100, 'gamma': 0.0001, 'kernel': 'rbf'}\n"
     ]
    },
    {
     "name": "stderr",
     "output_type": "stream",
     "text": [
      "[Parallel(n_jobs=-1)]: Done 300 out of 300 | elapsed:    0.8s finished\n"
     ]
    }
   ],
   "source": [
    "# Problem 2\n",
    "# Enter the Python code to solve problem 2 in this cell\n",
    "from sklearn.model_selection import GridSearchCV\n",
    "from sklearn import svm\n",
    "\n",
    "display(HTML(\"<h1>Problem 2</h1>\"))\n",
    "Cs=[.001,.01,.1,1,10,100]\n",
    "gammas=[.0001, .001, .01,.1,1.]\n",
    "param_grid={'kernel':('sigmoid','rbf'), 'C': Cs, 'gamma': gammas}\n",
    "grid_search2=GridSearchCV(svm.SVC(),param_grid,cv=5,verbose=10,n_jobs=-1)\n",
    "grid_search2.fit(X,y)\n",
    "print(grid_search2.best_params_)"
   ]
  },
  {
   "cell_type": "code",
   "execution_count": 38,
   "metadata": {},
   "outputs": [
    {
     "data": {
      "text/html": [
       "<h1>Problem 3</h1>"
      ],
      "text/plain": [
       "<IPython.core.display.HTML object>"
      ]
     },
     "metadata": {},
     "output_type": "display_data"
    },
    {
     "data": {
      "text/html": [
       "<h2>Accuracy Results</h2>"
      ],
      "text/plain": [
       "<IPython.core.display.HTML object>"
      ]
     },
     "metadata": {},
     "output_type": "display_data"
    },
    {
     "name": "stdout",
     "output_type": "stream",
     "text": [
      "The accuracy for the training set is 0.653680\n",
      "The accuracy for the test set is 0.743590\n"
     ]
    },
    {
     "data": {
      "text/html": [
       "<h2>Confusion Matrices</h2>"
      ],
      "text/plain": [
       "<IPython.core.display.HTML object>"
      ]
     },
     "metadata": {},
     "output_type": "display_data"
    },
    {
     "name": "stdout",
     "output_type": "stream",
     "text": [
      "Confusion matrix for training set\n",
      "[[151   0]\n",
      " [ 80   0]]\n",
      "Confusion matrix for test set\n",
      "[[58  0]\n",
      " [20  0]]\n"
     ]
    },
    {
     "data": {
      "text/html": [
       "<p><b>Results: </b>The results for this model are note as good as the model from problem 1 or from last week's assignment.</p>"
      ],
      "text/plain": [
       "<IPython.core.display.HTML object>"
      ]
     },
     "metadata": {},
     "output_type": "display_data"
    }
   ],
   "source": [
    "# Problem 3\n",
    "# Enter the Python code to solve problem 3 in this cell\n",
    "display(HTML(\"<h1>Problem 3</h1>\"))\n",
    "clf1=svm.SVC(kernel='rbf',C=100,gamma=0.0001)\n",
    "clf1.fit(X_train,y_train)\n",
    "y_train_pred = clf1.predict(X_train_transformed)\n",
    "y_test_pred = clf1.predict(X_test_transformed)\n",
    "# produce results\n",
    "display(HTML(\"<h2>Accuracy Results</h2>\"))\n",
    "print(\"The accuracy for the training set is %f\"%clf1.score(X_train_transformed,y_train))\n",
    "print(\"The accuracy for the test set is %f\"%clf1.score(X_test_transformed,y_test))\n",
    "display(HTML(\"<h2>Confusion Matrices</h2>\"))\n",
    "print(\"Confusion matrix for training set\")\n",
    "print(confusion_matrix(y_train,y_train_pred))\n",
    "print(\"Confusion matrix for test set\")\n",
    "print(confusion_matrix(y_test,y_test_pred))\n",
    "display(HTML(\"<p><b>Results: </b>The results for this model are note as good as the model from problem 1 or from last week's assignment.</p>\"))"
   ]
  },
  {
   "cell_type": "code",
   "execution_count": 39,
   "metadata": {},
   "outputs": [
    {
     "data": {
      "text/html": [
       "<h1>Problem 4</h1>"
      ],
      "text/plain": [
       "<IPython.core.display.HTML object>"
      ]
     },
     "metadata": {},
     "output_type": "display_data"
    },
    {
     "data": {
      "text/html": [
       "<h2>Grid Search CV for optimal parameters</h2>"
      ],
      "text/plain": [
       "<IPython.core.display.HTML object>"
      ]
     },
     "metadata": {},
     "output_type": "display_data"
    },
    {
     "name": "stdout",
     "output_type": "stream",
     "text": [
      "{'max_depth': 4, 'min_samples_leaf': 5, 'min_samples_split': 2}\n"
     ]
    },
    {
     "data": {
      "text/html": [
       "<h2>Fit Optimal Decision Tree</h2>"
      ],
      "text/plain": [
       "<IPython.core.display.HTML object>"
      ]
     },
     "metadata": {},
     "output_type": "display_data"
    },
    {
     "data": {
      "text/html": [
       "<h2>Accuracy Results</h2>"
      ],
      "text/plain": [
       "<IPython.core.display.HTML object>"
      ]
     },
     "metadata": {},
     "output_type": "display_data"
    },
    {
     "name": "stdout",
     "output_type": "stream",
     "text": [
      "training set accuracy is 0.926407\n",
      "testing set accuracy is 0.769231\n"
     ]
    },
    {
     "data": {
      "text/html": [
       "<h2>Confusion Matrices</h2>"
      ],
      "text/plain": [
       "<IPython.core.display.HTML object>"
      ]
     },
     "metadata": {},
     "output_type": "display_data"
    },
    {
     "name": "stdout",
     "output_type": "stream",
     "text": [
      "confusion matrix for training set\n",
      "[[142   9]\n",
      " [  8  72]]\n",
      "confusion matrix for test set\n",
      "[[44 14]\n",
      " [ 4 16]]\n"
     ]
    },
    {
     "data": {
      "text/html": [
       "<p><b>Note: </b>Note that the grid search cv changed parameters in this search and the model is fitted with values from a previous search</p>"
      ],
      "text/plain": [
       "<IPython.core.display.HTML object>"
      ]
     },
     "metadata": {},
     "output_type": "display_data"
    }
   ],
   "source": [
    "# Problem 4\n",
    "# Enter the Python code to solve problem 4 in this cell\n",
    "from sklearn.tree import DecisionTreeClassifier\n",
    "display(HTML(\"<h1>Problem 4</h1>\"))\n",
    "display(HTML(\"<h2>Grid Search CV for optimal parameters</h2>\"))\n",
    "depth=[2,4,6]\n",
    "sampleSplit=[2,4,6]\n",
    "sampleLeaf=[1,3,5]\n",
    "param_grid={'max_depth': depth, 'min_samples_split': sampleSplit, 'min_samples_leaf': sampleLeaf}\n",
    "grid_search2=GridSearchCV(DecisionTreeClassifier(),param_grid,cv=5,n_jobs=-1)\n",
    "grid_search2.fit(X,y)\n",
    "print(grid_search2.best_params_)\n",
    "display(HTML(\"<h2>Fit Optimal Decision Tree</h2>\"))\n",
    "clf4 = DecisionTreeClassifier(max_depth=4,min_samples_leaf=5,min_samples_split=6)\n",
    "clf4.fit(X_train,y_train)\n",
    "display(HTML(\"<h2>Accuracy Results</h2>\"))\n",
    "print(\"training set accuracy is %f\"%clf4.score(X_train,y_train))\n",
    "print(\"testing set accuracy is %f\"%clf4.score(X_test,y_test))\n",
    "y_pred_train=clf4.predict(X_train)\n",
    "display(HTML(\"<h2>Confusion Matrices</h2>\"))\n",
    "cm=confusion_matrix(y_train,y_pred_train)\n",
    "print(\"confusion matrix for training set\")\n",
    "print(cm)\n",
    "y_pred_test=clf4.predict(X_test)\n",
    "cm=confusion_matrix(y_test,y_pred_test)\n",
    "print(\"confusion matrix for test set\")\n",
    "print(cm)\n",
    "display(HTML(\"<p><b>Note: </b>Note that the grid search cv changed parameters in this search and the model is fitted with values from a previous search</p>\"))"
   ]
  }
 ],
 "metadata": {
  "kernelspec": {
   "display_name": "Python 3",
   "language": "python",
   "name": "python3"
  },
  "language_info": {
   "codemirror_mode": {
    "name": "ipython",
    "version": 3
   },
   "file_extension": ".py",
   "mimetype": "text/x-python",
   "name": "python",
   "nbconvert_exporter": "python",
   "pygments_lexer": "ipython3",
   "version": "3.6.8"
  }
 },
 "nbformat": 4,
 "nbformat_minor": 2
}
