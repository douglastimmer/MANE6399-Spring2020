{
 "cells": [
  {
   "cell_type": "markdown",
   "metadata": {},
   "source": [
    "# MANE 6399\n",
    "\n",
    "## Homework 1 Solutions\n",
    "\n",
    "### Your Name"
   ]
  },
  {
   "cell_type": "code",
   "execution_count": 4,
   "metadata": {},
   "outputs": [
    {
     "data": {
      "image/png": "[encoded data removed]",
      "text/plain": [
       "<Figure size 432x288 with 1 Axes>"
      ]
     },
     "metadata": {
      "needs_background": "light"
     },
     "output_type": "display_data"
    },
    {
     "name": "stdout",
     "output_type": "stream",
     "text": [
      "0.308538\n"
     ]
    }
   ],
   "source": [
    "# Cell 2\n",
    "import matplotlib.pyplot as plt\n",
    "import numpy as np\n",
    "import scipy.stats as sct\n",
    "import math\n",
    "\n",
    "a=0.5\n",
    "\n",
    "x=np.linspace(-4,4,500)\n",
    "y=sct.norm.pdf(x,0,1)\n",
    "y2=0.0*x\n",
    "maske =(x>a)\n",
    "\n",
    "plt.plot(x,y,'k')\n",
    "plt.fill_between(x,y,color='#b03060',where=maske)\n",
    "plt.plot(x,y2,'c')\n",
    "plt.show()\n",
    "\n",
    "answer=1.0-sct.norm.cdf(a,0,1)\n",
    "print (\"%8.6f\" % (answer))"
   ]
  },
  {
   "cell_type": "code",
   "execution_count": 5,
   "metadata": {},
   "outputs": [
    {
     "name": "stdout",
     "output_type": "stream",
     "text": [
      "The value of Q1 is 28.76820724517809\n",
      "The value of Q3 is 138.62943611198907\n",
      "The value of IQR is 109.86122886681098\n",
      "The probability of an outlier is 0.048112522432468774\n"
     ]
    }
   ],
   "source": [
    "# Cell 3\n",
    "import scipy.stats as stats\n",
    "lam=0.01\n",
    "loc,scale=0.0,1.0/lam\n",
    "Q1=stats.expon.ppf(0.25, loc,scale)\n",
    "print(\"The value of Q1 is {}\".format(Q1))\n",
    "Q3=stats.expon.ppf(0.75,loc,scale)\n",
    "print(\"The value of Q3 is {}\".format(Q3))\n",
    "IQR=Q3-Q1\n",
    "print(\"The value of IQR is {}\".format(IQR))\n",
    "probOutlier=stats.expon.cdf(Q1-1.5*IQR,loc,scale)+(1.0-stats.expon.cdf(Q3+1.5*IQR,loc,scale))\n",
    "print(\"The probability of an outlier is {}\".format(probOutlier))"
   ]
  },
  {
   "cell_type": "code",
   "execution_count": null,
   "metadata": {},
   "outputs": [
    {
     "name": "stderr",
     "output_type": "stream",
     "text": [
      "C:\\Users\\fwn285\\AppData\\Local\\Continuum\\anaconda3\\envs\\env_iise\\lib\\site-packages\\pandas\\util\\_decorators.py:188: FutureWarning: The `sheetname` keyword is deprecated, use `sheet_name` instead\n",
      "  return func(*args, **kwargs)\n"
     ]
    },
    {
     "name": "stdout",
     "output_type": "stream",
     "text": [
      "       PassengerId    Survived      Pclass         Age       SibSp  \\\n",
      "count   891.000000  891.000000  891.000000  714.000000  891.000000   \n",
      "mean    446.000000    0.383838    2.308642   29.699118    0.523008   \n",
      "std     257.353842    0.486592    0.836071   14.526497    1.102743   \n",
      "min       1.000000    0.000000    1.000000    0.420000    0.000000   \n",
      "25%     223.500000    0.000000    2.000000   20.125000    0.000000   \n",
      "50%     446.000000    0.000000    3.000000   28.000000    0.000000   \n",
      "75%     668.500000    1.000000    3.000000   38.000000    1.000000   \n",
      "max     891.000000    1.000000    3.000000   80.000000    8.000000   \n",
      "\n",
      "            Parch        Fare  \n",
      "count  891.000000  891.000000  \n",
      "mean     0.381594   32.204208  \n",
      "std      0.806057   49.693429  \n",
      "min      0.000000    0.000000  \n",
      "25%      0.000000    7.910400  \n",
      "50%      0.000000   14.454200  \n",
      "75%      0.000000   31.000000  \n",
      "max      6.000000  512.329200  \n",
      "AxesSubplot(0.125,0.125;0.775x0.755)\n"
     ]
    },
    {
     "data": {
      "text/plain": [
       "array([[<matplotlib.axes._subplots.AxesSubplot object at 0x0000018744BD7B00>,\n",
       "        <matplotlib.axes._subplots.AxesSubplot object at 0x0000018744C2ADD8>,\n",
       "        <matplotlib.axes._subplots.AxesSubplot object at 0x0000018744DB33C8>,\n",
       "        <matplotlib.axes._subplots.AxesSubplot object at 0x0000018744D32940>,\n",
       "        <matplotlib.axes._subplots.AxesSubplot object at 0x000001874306AEB8>,\n",
       "        <matplotlib.axes._subplots.AxesSubplot object at 0x0000018744103470>,\n",
       "        <matplotlib.axes._subplots.AxesSubplot object at 0x00000187441379E8>],\n",
       "       [<matplotlib.axes._subplots.AxesSubplot object at 0x0000018744E02F98>,\n",
       "        <matplotlib.axes._subplots.AxesSubplot object at 0x0000018744E02FD0>,\n",
       "        <matplotlib.axes._subplots.AxesSubplot object at 0x0000018744E58A90>,\n",
       "        <matplotlib.axes._subplots.AxesSubplot object at 0x0000018744E8A048>,\n",
       "        <matplotlib.axes._subplots.AxesSubplot object at 0x0000018744EB15C0>,\n",
       "        <matplotlib.axes._subplots.AxesSubplot object at 0x0000018744ED9B38>,\n",
       "        <matplotlib.axes._subplots.AxesSubplot object at 0x0000018744F09160>],\n",
       "       [<matplotlib.axes._subplots.AxesSubplot object at 0x0000018744F32630>,\n",
       "        <matplotlib.axes._subplots.AxesSubplot object at 0x0000018744F58BA8>,\n",
       "        <matplotlib.axes._subplots.AxesSubplot object at 0x0000018744F88160>,\n",
       "        <matplotlib.axes._subplots.AxesSubplot object at 0x0000018744FAE6D8>,\n",
       "        <matplotlib.axes._subplots.AxesSubplot object at 0x0000018744FD4C50>,\n",
       "        <matplotlib.axes._subplots.AxesSubplot object at 0x0000018745007208>,\n",
       "        <matplotlib.axes._subplots.AxesSubplot object at 0x000001874502E780>],\n",
       "       [<matplotlib.axes._subplots.AxesSubplot object at 0x0000018745058CF8>,\n",
       "        <matplotlib.axes._subplots.AxesSubplot object at 0x00000187450872B0>,\n",
       "        <matplotlib.axes._subplots.AxesSubplot object at 0x00000187450AF828>,\n",
       "        <matplotlib.axes._subplots.AxesSubplot object at 0x00000187450D6DA0>,\n",
       "        <matplotlib.axes._subplots.AxesSubplot object at 0x0000018745105358>,\n",
       "        <matplotlib.axes._subplots.AxesSubplot object at 0x000001874512C8D0>,\n",
       "        <matplotlib.axes._subplots.AxesSubplot object at 0x0000018745153E48>],\n",
       "       [<matplotlib.axes._subplots.AxesSubplot object at 0x0000018745184400>,\n",
       "        <matplotlib.axes._subplots.AxesSubplot object at 0x00000187451AD978>,\n",
       "        <matplotlib.axes._subplots.AxesSubplot object at 0x00000187451D6EF0>,\n",
       "        <matplotlib.axes._subplots.AxesSubplot object at 0x00000187452064A8>,\n",
       "        <matplotlib.axes._subplots.AxesSubplot object at 0x000001874522CA20>,\n",
       "        <matplotlib.axes._subplots.AxesSubplot object at 0x0000018745258F98>,\n",
       "        <matplotlib.axes._subplots.AxesSubplot object at 0x0000018745287550>],\n",
       "       [<matplotlib.axes._subplots.AxesSubplot object at 0x00000187452ACAC8>,\n",
       "        <matplotlib.axes._subplots.AxesSubplot object at 0x00000187452E0080>,\n",
       "        <matplotlib.axes._subplots.AxesSubplot object at 0x00000187453075F8>,\n",
       "        <matplotlib.axes._subplots.AxesSubplot object at 0x000001874532FB70>,\n",
       "        <matplotlib.axes._subplots.AxesSubplot object at 0x0000018745361128>,\n",
       "        <matplotlib.axes._subplots.AxesSubplot object at 0x00000187453886A0>,\n",
       "        <matplotlib.axes._subplots.AxesSubplot object at 0x00000187453AFC18>],\n",
       "       [<matplotlib.axes._subplots.AxesSubplot object at 0x00000187453E01D0>,\n",
       "        <matplotlib.axes._subplots.AxesSubplot object at 0x0000018745409748>,\n",
       "        <matplotlib.axes._subplots.AxesSubplot object at 0x000001874542FCC0>,\n",
       "        <matplotlib.axes._subplots.AxesSubplot object at 0x0000018745463278>,\n",
       "        <matplotlib.axes._subplots.AxesSubplot object at 0x00000187454897F0>,\n",
       "        <matplotlib.axes._subplots.AxesSubplot object at 0x00000187454B1D68>,\n",
       "        <matplotlib.axes._subplots.AxesSubplot object at 0x00000187454E3320>]],\n",
       "      dtype=object)"
      ]
     },
     "execution_count": 6,
     "metadata": {},
     "output_type": "execute_result"
    },
    {
     "data": {
      "image/png": "[encoded data removed]",
      "text/plain": [
       "<Figure size 432x288 with 1 Axes>"
      ]
     },
     "metadata": {
      "needs_background": "light"
     },
     "output_type": "display_data"
    }
   ],
   "source": [
    "# Cell 4\n",
    "import pandas as pd\n",
    "df = pd.read_excel('KaggleTitanicTrain.xlsx', sheetname='train')\n",
    "print(df.describe())\n",
    "print(df.boxplot())\n",
    "pd.plotting.scatter_matrix(df)"
   ]
  }
 ],
 "metadata": {
  "kernelspec": {
   "display_name": "Python 3",
   "language": "python",
   "name": "python3"
  },
  "language_info": {
   "codemirror_mode": {
    "name": "ipython",
    "version": 3
   },
   "file_extension": ".py",
   "mimetype": "text/x-python",
   "name": "python",
   "nbconvert_exporter": "python",
   "pygments_lexer": "ipython3",
   "version": "3.6.8"
  }
 },
 "nbformat": 4,
 "nbformat_minor": 2
}
